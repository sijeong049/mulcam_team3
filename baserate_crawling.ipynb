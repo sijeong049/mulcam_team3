{
 "cells": [
  {
   "cell_type": "markdown",
   "metadata": {
    "colab_type": "text",
    "id": "PV1G-vjiGruz"
   },
   "source": [
    "## 한국은행 기준금리"
   ]
  },
  {
   "cell_type": "code",
   "execution_count": 1,
   "metadata": {
    "colab": {},
    "colab_type": "code",
    "executionInfo": {
     "elapsed": 1749,
     "status": "ok",
     "timestamp": 1595593411860,
     "user": {
      "displayName": "김도연",
      "photoUrl": "",
      "userId": "13093336926317411579"
     },
     "user_tz": -540
    },
    "id": "U1cpzl9dBzqB"
   },
   "outputs": [],
   "source": [
    "import re\n",
    "import requests\n",
    "import matplotlib.pyplot as plt\n",
    "%matplotlib inline\n",
    "from bs4 import BeautifulSoup\n",
    "import pandas as pd\n",
    "from tqdm.notebook import tqdm"
   ]
  },
  {
   "cell_type": "code",
   "execution_count": 10,
   "metadata": {
    "colab": {},
    "colab_type": "code",
    "executionInfo": {
     "elapsed": 1981,
     "status": "ok",
     "timestamp": 1595596233910,
     "user": {
      "displayName": "김도연",
      "photoUrl": "",
      "userId": "13093336926317411579"
     },
     "user_tz": -540
    },
    "id": "_sRLwaj9CeEx"
   },
   "outputs": [],
   "source": [
    "url = 'https://www.bok.or.kr/portal/singl/baseRate/list.do?dataSeCd=01&menuNo=200643'\n",
    "resp = requests.get(url)\n",
    "soup = BeautifulSoup(resp.content,'lxml')\n",
    "td_tag = soup.select('div.table.tac tr td')\n",
    "context = [td.text for td in td_tag]\n",
    "\n",
    "dic_baserate = {}\n",
    "dic_baserate['변경년도'],dic_baserate['변경월일'],dic_baserate['기준금리'] = [], [] ,[]\n",
    "\n",
    "for i in range(int(len(context)/3)):\n",
    "  dic_baserate['변경년도'].append(context[i*3])\n",
    "  dic_baserate['변경월일'].append(context[i*3+1])\n",
    "  dic_baserate['기준금리'].append(float(context[i*3+2]))\n",
    "\n",
    "dic_baserate['날짜'] = []\n",
    "for i in range(len(dic_baserate['변경월일'])):\n",
    "  dic_baserate['날짜'].append(dic_baserate['변경년도'][i]+'-'+dic_baserate['변경월일'][i].replace('월','').replace('일','').replace(' ','-'))\n",
    "\n",
    "base_rate = pd.DataFrame(dic_baserate)\n",
    "cols = list(base_rate)\n",
    "base_rate = base_rate.loc[5:33][cols[2:]] #2004년 11월부터 2017년 12월까지"
   ]
  },
  {
   "cell_type": "code",
   "execution_count": 77,
   "metadata": {
    "colab": {},
    "colab_type": "code",
    "executionInfo": {
     "elapsed": 3349,
     "status": "ok",
     "timestamp": 1595596237899,
     "user": {
      "displayName": "김도연",
      "photoUrl": "",
      "userId": "13093336926317411579"
     },
     "user_tz": -540
    },
    "id": "-_um7WNE3dqd"
   },
   "outputs": [],
   "source": [
    "dic_date = {}\n",
    "dic_date['날짜'] = pd.date_range(\"2004-11-11\",\"2017-12-31\").astype(str)\n",
    "date = pd.DataFrame(dic_date)\n",
    "\n",
    "data = date.merge(base_rate,how='outer')\n",
    "for i in range(len(data)-1):\n",
    "    if pd.isna(data.iloc[i,1]) == False and pd.isna(data.iloc[i+1,1]) == True:\n",
    "        data.iloc[i+1,1] = data.iloc[i,1]\n",
    "\n",
    "data1 = data.iloc[171:] #2005년 5월부터\n",
    "data2 = data.iloc[141:-30] #2005년 4월부터\n",
    "data1 = data1.reset_index(drop=True)\n",
    "data2 = data2.reset_index(drop=True)"
   ]
  },
  {
   "cell_type": "code",
   "execution_count": 78,
   "metadata": {},
   "outputs": [],
   "source": [
    "df_baserate = pd.concat([data1, data2],axis=1)"
   ]
  },
  {
   "cell_type": "code",
   "execution_count": 79,
   "metadata": {
    "colab": {},
    "colab_type": "code",
    "executionInfo": {
     "elapsed": 2409,
     "status": "ok",
     "timestamp": 1595596237904,
     "user": {
      "displayName": "김도연",
      "photoUrl": "",
      "userId": "13093336926317411579"
     },
     "user_tz": -540
    },
    "id": "Fl0ch9Gu1Ms3"
   },
   "outputs": [],
   "source": [
    "df_baserate['label']= df_baserate.iloc[:,1]- df_baserate.iloc[:,3]"
   ]
  },
  {
   "cell_type": "code",
   "execution_count": 80,
   "metadata": {},
   "outputs": [],
   "source": [
    "import numpy as np"
   ]
  },
  {
   "cell_type": "code",
   "execution_count": 81,
   "metadata": {},
   "outputs": [],
   "source": [
    "label = []\n",
    "for i in range(len(df_baserate)):\n",
    "    if df_baserate['label'][i] == 0:\n",
    "        label.append('same')\n",
    "    elif df_baserate['label'][i] > 0:\n",
    "        label.append('up')\n",
    "    else:\n",
    "         label.append('down')"
   ]
  },
  {
   "cell_type": "code",
   "execution_count": 82,
   "metadata": {},
   "outputs": [
    {
     "data": {
      "text/html": [
       "<div>\n",
       "<style scoped>\n",
       "    .dataframe tbody tr th:only-of-type {\n",
       "        vertical-align: middle;\n",
       "    }\n",
       "\n",
       "    .dataframe tbody tr th {\n",
       "        vertical-align: top;\n",
       "    }\n",
       "\n",
       "    .dataframe thead th {\n",
       "        text-align: right;\n",
       "    }\n",
       "</style>\n",
       "<table border=\"1\" class=\"dataframe\">\n",
       "  <thead>\n",
       "    <tr style=\"text-align: right;\">\n",
       "      <th></th>\n",
       "      <th>날짜</th>\n",
       "      <th>기준금리</th>\n",
       "      <th>날짜</th>\n",
       "      <th>기준금리</th>\n",
       "      <th>label</th>\n",
       "      <th>labeling</th>\n",
       "    </tr>\n",
       "  </thead>\n",
       "  <tbody>\n",
       "    <tr>\n",
       "      <th>0</th>\n",
       "      <td>2005-05-01</td>\n",
       "      <td>3.25</td>\n",
       "      <td>2005-04-01</td>\n",
       "      <td>3.25</td>\n",
       "      <td>0.0</td>\n",
       "      <td>same</td>\n",
       "    </tr>\n",
       "    <tr>\n",
       "      <th>1</th>\n",
       "      <td>2005-05-02</td>\n",
       "      <td>3.25</td>\n",
       "      <td>2005-04-02</td>\n",
       "      <td>3.25</td>\n",
       "      <td>0.0</td>\n",
       "      <td>same</td>\n",
       "    </tr>\n",
       "    <tr>\n",
       "      <th>2</th>\n",
       "      <td>2005-05-03</td>\n",
       "      <td>3.25</td>\n",
       "      <td>2005-04-03</td>\n",
       "      <td>3.25</td>\n",
       "      <td>0.0</td>\n",
       "      <td>same</td>\n",
       "    </tr>\n",
       "    <tr>\n",
       "      <th>3</th>\n",
       "      <td>2005-05-04</td>\n",
       "      <td>3.25</td>\n",
       "      <td>2005-04-04</td>\n",
       "      <td>3.25</td>\n",
       "      <td>0.0</td>\n",
       "      <td>same</td>\n",
       "    </tr>\n",
       "    <tr>\n",
       "      <th>4</th>\n",
       "      <td>2005-05-05</td>\n",
       "      <td>3.25</td>\n",
       "      <td>2005-04-05</td>\n",
       "      <td>3.25</td>\n",
       "      <td>0.0</td>\n",
       "      <td>same</td>\n",
       "    </tr>\n",
       "  </tbody>\n",
       "</table>\n",
       "</div>"
      ],
      "text/plain": [
       "           날짜  기준금리          날짜  기준금리  label labeling\n",
       "0  2005-05-01  3.25  2005-04-01  3.25    0.0     same\n",
       "1  2005-05-02  3.25  2005-04-02  3.25    0.0     same\n",
       "2  2005-05-03  3.25  2005-04-03  3.25    0.0     same\n",
       "3  2005-05-04  3.25  2005-04-04  3.25    0.0     same\n",
       "4  2005-05-05  3.25  2005-04-05  3.25    0.0     same"
      ]
     },
     "execution_count": 82,
     "metadata": {},
     "output_type": "execute_result"
    }
   ],
   "source": [
    "df_baserate['labeling'] = label"
   ]
  },
  {
   "cell_type": "code",
   "execution_count": 83,
   "metadata": {},
   "outputs": [],
   "source": [
    "df_baserate.to_csv('df_base_rate',index=False)"
   ]
  },
  {
   "cell_type": "code",
   "execution_count": null,
   "metadata": {},
   "outputs": [],
   "source": []
  }
 ],
 "metadata": {
  "colab": {
   "authorship_tag": "ABX9TyPz5i1CalDbuGelxtHqWyLM",
   "collapsed_sections": [],
   "name": "Base rate_crawling.ipynb",
   "provenance": []
  },
  "kernelspec": {
   "display_name": "Python 3",
   "language": "python",
   "name": "python3"
  },
  "language_info": {
   "codemirror_mode": {
    "name": "ipython",
    "version": 3
   },
   "file_extension": ".py",
   "mimetype": "text/x-python",
   "name": "python",
   "nbconvert_exporter": "python",
   "pygments_lexer": "ipython3",
   "version": "3.7.7"
  }
 },
 "nbformat": 4,
 "nbformat_minor": 1
}
