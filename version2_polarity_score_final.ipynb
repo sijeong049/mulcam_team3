{
 "cells": [
  {
   "cell_type": "code",
   "execution_count": 41,
   "metadata": {},
   "outputs": [],
   "source": [
    "# 사전 리스트\n",
    "import pandas as pd\n",
    "df_hawkish = pd.read_csv('df_hawkish_dict.csv')\n",
    "df_dovish = pd.read_csv('df_dovish_dict.csv')\n",
    "dic_hawkish = list(df_hawkish['ngram'])\n",
    "dic_dovish = list(df_dovish['ngram'])"
   ]
  },
  {
   "cell_type": "code",
   "execution_count": 6,
   "metadata": {},
   "outputs": [],
   "source": [
    "from tqdm.notebook import tqdm"
   ]
  },
  {
   "cell_type": "code",
   "execution_count": 19,
   "metadata": {},
   "outputs": [],
   "source": [
    "import pandas as pd \n",
    "import numpy as np\n",
    "import re"
   ]
  },
  {
   "cell_type": "code",
   "execution_count": 42,
   "metadata": {},
   "outputs": [],
   "source": [
    "df_dic = pd.read_csv('ngramized_minutes_test.csv')#n_gram 만든 라벨링된 의사록\n",
    "#-------------------------------필요없는 컬럼 제거하기=---------------------------------\n",
    "df_dic = df[['ID', 'date', 'sent', 'n_gram']]"
   ]
  },
  {
   "cell_type": "code",
   "execution_count": 80,
   "metadata": {},
   "outputs": [
    {
     "name": "stderr",
     "output_type": "stream",
     "text": [
      "C:\\Users\\180309\\anaconda3\\envs\\mulcam_b\\lib\\site-packages\\pandas\\core\\indexing.py:671: SettingWithCopyWarning: \n",
      "A value is trying to be set on a copy of a slice from a DataFrame\n",
      "\n",
      "See the caveats in the documentation: https://pandas.pydata.org/pandas-docs/stable/user_guide/indexing.html#returning-a-view-versus-a-copy\n",
      "  self._setitem_with_indexer(indexer, value)\n"
     ]
    }
   ],
   "source": [
    "#------------------------------n_gram split했을 때 이쁘게 뽑히게하기-----------------\n",
    "for i in range(len(df_dic)):\n",
    "    df_dic['n_gram'].iloc[i] = df_dic['n_gram'].iloc[i].replace(\"[\",\"\").replace(\"]\",\"\").replace(\"'\",\"\").replace(\",\",\"\").split()"
   ]
  },
  {
   "cell_type": "code",
   "execution_count": 94,
   "metadata": {},
   "outputs": [],
   "source": [
    "df_dic['hawkish'] = np.zeros(len(df_dic))\n",
    "df_dic['dovish'] = np.zeros(len(df_dic))"
   ]
  },
  {
   "cell_type": "code",
   "execution_count": 95,
   "metadata": {},
   "outputs": [
    {
     "data": {
      "application/vnd.jupyter.widget-view+json": {
       "model_id": "a65e68abb22246f8a20a5b08182cfa45",
       "version_major": 2,
       "version_minor": 0
      },
      "text/plain": [
       "HBox(children=(FloatProgress(value=0.0, max=10156.0), HTML(value='')))"
      ]
     },
     "metadata": {},
     "output_type": "display_data"
    },
    {
     "name": "stdout",
     "output_type": "stream",
     "text": [
      "\n"
     ]
    }
   ],
   "source": [
    "from tqdm.notebook import tqdm\n",
    "for i in tqdm(range(len(df_dic))):\n",
    "    for word in df_dic['n_gram'].iloc[i]:\n",
    "        if word in dic_hawkish:\n",
    "            df_dic['hawkish'].iloc[i] += 1"
   ]
  },
  {
   "cell_type": "code",
   "execution_count": 96,
   "metadata": {},
   "outputs": [
    {
     "data": {
      "application/vnd.jupyter.widget-view+json": {
       "model_id": "d786c4f0652b488ba9379801011bf598",
       "version_major": 2,
       "version_minor": 0
      },
      "text/plain": [
       "HBox(children=(FloatProgress(value=0.0, max=10156.0), HTML(value='')))"
      ]
     },
     "metadata": {},
     "output_type": "display_data"
    },
    {
     "name": "stderr",
     "output_type": "stream",
     "text": [
      "C:\\Users\\180309\\anaconda3\\envs\\mulcam_b\\lib\\site-packages\\ipykernel_launcher.py:7: SettingWithCopyWarning: \n",
      "A value is trying to be set on a copy of a slice from a DataFrame\n",
      "\n",
      "See the caveats in the documentation: https://pandas.pydata.org/pandas-docs/stable/user_guide/indexing.html#returning-a-view-versus-a-copy\n",
      "  import sys\n"
     ]
    },
    {
     "name": "stdout",
     "output_type": "stream",
     "text": [
      "\n"
     ]
    }
   ],
   "source": [
    "from tqdm.notebook import tqdm\n",
    "for i in tqdm(range(len(df_dic))):\n",
    "    for word in df_dic['n_gram'].iloc[i]:\n",
    "        if word in dic_dovish:\n",
    "            df_dic['dovish'].iloc[i] += 1"
   ]
  },
  {
   "cell_type": "code",
   "execution_count": 97,
   "metadata": {},
   "outputs": [
    {
     "data": {
      "text/html": [
       "<div>\n",
       "<style scoped>\n",
       "    .dataframe tbody tr th:only-of-type {\n",
       "        vertical-align: middle;\n",
       "    }\n",
       "\n",
       "    .dataframe tbody tr th {\n",
       "        vertical-align: top;\n",
       "    }\n",
       "\n",
       "    .dataframe thead th {\n",
       "        text-align: right;\n",
       "    }\n",
       "</style>\n",
       "<table border=\"1\" class=\"dataframe\">\n",
       "  <thead>\n",
       "    <tr style=\"text-align: right;\">\n",
       "      <th></th>\n",
       "      <th>ID</th>\n",
       "      <th>date</th>\n",
       "      <th>sent</th>\n",
       "      <th>n_gram</th>\n",
       "      <th>hawkish</th>\n",
       "      <th>dovish</th>\n",
       "    </tr>\n",
       "  </thead>\n",
       "  <tbody>\n",
       "    <tr>\n",
       "      <th>0</th>\n",
       "      <td>2005년도 제10차</td>\n",
       "      <td>2005-05-12</td>\n",
       "      <td>['일부 위원은 내외금리차 역전에 따라 자금의 해외유출이 대규모로 발생될 가능성을 ...</td>\n",
       "      <td>[내외/NNG, 금리갭/NNG, 역전/NNG, 자금/NNG, 해외/NNG, 유출/N...</td>\n",
       "      <td>4.0</td>\n",
       "      <td>0.0</td>\n",
       "    </tr>\n",
       "    <tr>\n",
       "      <th>1</th>\n",
       "      <td>2005년도 제10차</td>\n",
       "      <td>2005-05-12</td>\n",
       "      <td>', '이에 대해 관련부서에서는 우리나라에서는 그러한 사례가 없었기 때문에 대만과 ...</td>\n",
       "      <td>[대해/VV, 그러/NNG, 사례/NNG, 없/VA, 사례/NNG, 살펴보/VV, ...</td>\n",
       "      <td>3.0</td>\n",
       "      <td>1.0</td>\n",
       "    </tr>\n",
       "    <tr>\n",
       "      <th>2</th>\n",
       "      <td>2005년도 제10차</td>\n",
       "      <td>2005-05-12</td>\n",
       "      <td>', '동 위원은 자금의 해외유출에 대한 정책적 대응을 위해 내외금리나 환율에 대해...</td>\n",
       "      <td>[자금/NNG, 해외/NNG, 유출/NNG, 정책/NNG, 대응/NNG, 위하/VV...</td>\n",
       "      <td>2.0</td>\n",
       "      <td>0.0</td>\n",
       "    </tr>\n",
       "    <tr>\n",
       "      <th>3</th>\n",
       "      <td>2005년도 제10차</td>\n",
       "      <td>2005-05-12</td>\n",
       "      <td>', '다른 일부 위원은 최근 금융기관의 외화대출이 늘어나고 있는 것과 관련하 여 ...</td>\n",
       "      <td>[금융기관/NNG, 외화대출/NNG, 늘/VV, 금융기관/NNG, 해외/NNG, 차...</td>\n",
       "      <td>0.0</td>\n",
       "      <td>2.0</td>\n",
       "    </tr>\n",
       "    <tr>\n",
       "      <th>4</th>\n",
       "      <td>2005년도 제10차</td>\n",
       "      <td>2005-05-12</td>\n",
       "      <td>', '또 다른 일부 위원은 전년 동기와 비교할 때 금년 1～4월중 국내시장에 대 ...</td>\n",
       "      <td>[또/MAG, 비교/NNG, 하/VV, 때/NNG, 중/NNG, 시장/NNG, 대/...</td>\n",
       "      <td>9.0</td>\n",
       "      <td>1.0</td>\n",
       "    </tr>\n",
       "  </tbody>\n",
       "</table>\n",
       "</div>"
      ],
      "text/plain": [
       "            ID        date                                               sent  \\\n",
       "0  2005년도 제10차  2005-05-12  ['일부 위원은 내외금리차 역전에 따라 자금의 해외유출이 대규모로 발생될 가능성을 ...   \n",
       "1  2005년도 제10차  2005-05-12  ', '이에 대해 관련부서에서는 우리나라에서는 그러한 사례가 없었기 때문에 대만과 ...   \n",
       "2  2005년도 제10차  2005-05-12  ', '동 위원은 자금의 해외유출에 대한 정책적 대응을 위해 내외금리나 환율에 대해...   \n",
       "3  2005년도 제10차  2005-05-12  ', '다른 일부 위원은 최근 금융기관의 외화대출이 늘어나고 있는 것과 관련하 여 ...   \n",
       "4  2005년도 제10차  2005-05-12  ', '또 다른 일부 위원은 전년 동기와 비교할 때 금년 1～4월중 국내시장에 대 ...   \n",
       "\n",
       "                                              n_gram  hawkish  dovish  \n",
       "0  [내외/NNG, 금리갭/NNG, 역전/NNG, 자금/NNG, 해외/NNG, 유출/N...      4.0     0.0  \n",
       "1  [대해/VV, 그러/NNG, 사례/NNG, 없/VA, 사례/NNG, 살펴보/VV, ...      3.0     1.0  \n",
       "2  [자금/NNG, 해외/NNG, 유출/NNG, 정책/NNG, 대응/NNG, 위하/VV...      2.0     0.0  \n",
       "3  [금융기관/NNG, 외화대출/NNG, 늘/VV, 금융기관/NNG, 해외/NNG, 차...      0.0     2.0  \n",
       "4  [또/MAG, 비교/NNG, 하/VV, 때/NNG, 중/NNG, 시장/NNG, 대/...      9.0     1.0  "
      ]
     },
     "execution_count": 97,
     "metadata": {},
     "output_type": "execute_result"
    }
   ],
   "source": [
    "df_dic[:5]"
   ]
  },
  {
   "cell_type": "code",
   "execution_count": 99,
   "metadata": {},
   "outputs": [
    {
     "data": {
      "text/html": [
       "<div>\n",
       "<style scoped>\n",
       "    .dataframe tbody tr th:only-of-type {\n",
       "        vertical-align: middle;\n",
       "    }\n",
       "\n",
       "    .dataframe tbody tr th {\n",
       "        vertical-align: top;\n",
       "    }\n",
       "\n",
       "    .dataframe thead th {\n",
       "        text-align: right;\n",
       "    }\n",
       "</style>\n",
       "<table border=\"1\" class=\"dataframe\">\n",
       "  <thead>\n",
       "    <tr style=\"text-align: right;\">\n",
       "      <th></th>\n",
       "      <th>hawkish</th>\n",
       "      <th>dovish</th>\n",
       "    </tr>\n",
       "    <tr>\n",
       "      <th>date</th>\n",
       "      <th></th>\n",
       "      <th></th>\n",
       "    </tr>\n",
       "  </thead>\n",
       "  <tbody>\n",
       "    <tr>\n",
       "      <th>2005-05-12</th>\n",
       "      <td>449.0</td>\n",
       "      <td>53.0</td>\n",
       "    </tr>\n",
       "    <tr>\n",
       "      <th>2005-06-09</th>\n",
       "      <td>461.0</td>\n",
       "      <td>59.0</td>\n",
       "    </tr>\n",
       "    <tr>\n",
       "      <th>2005-07-07</th>\n",
       "      <td>498.0</td>\n",
       "      <td>84.0</td>\n",
       "    </tr>\n",
       "    <tr>\n",
       "      <th>2005-08-11</th>\n",
       "      <td>610.0</td>\n",
       "      <td>66.0</td>\n",
       "    </tr>\n",
       "    <tr>\n",
       "      <th>2005-09-08</th>\n",
       "      <td>551.0</td>\n",
       "      <td>73.0</td>\n",
       "    </tr>\n",
       "    <tr>\n",
       "      <th>...</th>\n",
       "      <td>...</td>\n",
       "      <td>...</td>\n",
       "    </tr>\n",
       "    <tr>\n",
       "      <th>2017-05-25</th>\n",
       "      <td>100.0</td>\n",
       "      <td>26.0</td>\n",
       "    </tr>\n",
       "    <tr>\n",
       "      <th>2017-07-13</th>\n",
       "      <td>125.0</td>\n",
       "      <td>13.0</td>\n",
       "    </tr>\n",
       "    <tr>\n",
       "      <th>2017-08-31</th>\n",
       "      <td>141.0</td>\n",
       "      <td>19.0</td>\n",
       "    </tr>\n",
       "    <tr>\n",
       "      <th>2017-10-19</th>\n",
       "      <td>145.0</td>\n",
       "      <td>12.0</td>\n",
       "    </tr>\n",
       "    <tr>\n",
       "      <th>2017-11-30</th>\n",
       "      <td>133.0</td>\n",
       "      <td>29.0</td>\n",
       "    </tr>\n",
       "  </tbody>\n",
       "</table>\n",
       "<p>124 rows × 2 columns</p>\n",
       "</div>"
      ],
      "text/plain": [
       "            hawkish  dovish\n",
       "date                       \n",
       "2005-05-12    449.0    53.0\n",
       "2005-06-09    461.0    59.0\n",
       "2005-07-07    498.0    84.0\n",
       "2005-08-11    610.0    66.0\n",
       "2005-09-08    551.0    73.0\n",
       "...             ...     ...\n",
       "2017-05-25    100.0    26.0\n",
       "2017-07-13    125.0    13.0\n",
       "2017-08-31    141.0    19.0\n",
       "2017-10-19    145.0    12.0\n",
       "2017-11-30    133.0    29.0\n",
       "\n",
       "[124 rows x 2 columns]"
      ]
     },
     "execution_count": 99,
     "metadata": {},
     "output_type": "execute_result"
    }
   ],
   "source": [
    "polarity = df_dic.groupby(df_dic['date']).sum()\n",
    "polarity"
   ]
  },
  {
   "cell_type": "code",
   "execution_count": 103,
   "metadata": {},
   "outputs": [
    {
     "data": {
      "text/html": [
       "<div>\n",
       "<style scoped>\n",
       "    .dataframe tbody tr th:only-of-type {\n",
       "        vertical-align: middle;\n",
       "    }\n",
       "\n",
       "    .dataframe tbody tr th {\n",
       "        vertical-align: top;\n",
       "    }\n",
       "\n",
       "    .dataframe thead th {\n",
       "        text-align: right;\n",
       "    }\n",
       "</style>\n",
       "<table border=\"1\" class=\"dataframe\">\n",
       "  <thead>\n",
       "    <tr style=\"text-align: right;\">\n",
       "      <th></th>\n",
       "      <th>hawkish</th>\n",
       "      <th>dovish</th>\n",
       "    </tr>\n",
       "    <tr>\n",
       "      <th>date</th>\n",
       "      <th></th>\n",
       "      <th></th>\n",
       "    </tr>\n",
       "  </thead>\n",
       "  <tbody>\n",
       "    <tr>\n",
       "      <th>2005-05-12</th>\n",
       "      <td>449.0</td>\n",
       "      <td>53.0</td>\n",
       "    </tr>\n",
       "    <tr>\n",
       "      <th>2014-04-10</th>\n",
       "      <td>225.0</td>\n",
       "      <td>53.0</td>\n",
       "    </tr>\n",
       "    <tr>\n",
       "      <th>2016-03-10</th>\n",
       "      <td>212.0</td>\n",
       "      <td>53.0</td>\n",
       "    </tr>\n",
       "  </tbody>\n",
       "</table>\n",
       "</div>"
      ],
      "text/plain": [
       "            hawkish  dovish\n",
       "date                       \n",
       "2005-05-12    449.0    53.0\n",
       "2014-04-10    225.0    53.0\n",
       "2016-03-10    212.0    53.0"
      ]
     },
     "execution_count": 103,
     "metadata": {},
     "output_type": "execute_result"
    }
   ],
   "source": [
    "#-----------------------------------0인값확인하기-------------------------------------\n",
    "polarity[polarity['dovish'] == 0],polarity[polarity['hawkish'] == 0]"
   ]
  },
  {
   "cell_type": "code",
   "execution_count": 104,
   "metadata": {},
   "outputs": [],
   "source": [
    "polarity['polarity_score'] = (polarity['hawkish']-polarity['dovish']) / (polarity['hawkish'] + polarity['dovish'])"
   ]
  },
  {
   "cell_type": "code",
   "execution_count": 105,
   "metadata": {},
   "outputs": [],
   "source": [
    "#---------------------------------기준금리 합치기---------------------------------------"
   ]
  },
  {
   "cell_type": "code",
   "execution_count": 106,
   "metadata": {},
   "outputs": [
    {
     "data": {
      "text/html": [
       "<div>\n",
       "<style scoped>\n",
       "    .dataframe tbody tr th:only-of-type {\n",
       "        vertical-align: middle;\n",
       "    }\n",
       "\n",
       "    .dataframe tbody tr th {\n",
       "        vertical-align: top;\n",
       "    }\n",
       "\n",
       "    .dataframe thead th {\n",
       "        text-align: right;\n",
       "    }\n",
       "</style>\n",
       "<table border=\"1\" class=\"dataframe\">\n",
       "  <thead>\n",
       "    <tr style=\"text-align: right;\">\n",
       "      <th></th>\n",
       "      <th>날짜</th>\n",
       "      <th>기준금리</th>\n",
       "    </tr>\n",
       "  </thead>\n",
       "  <tbody>\n",
       "    <tr>\n",
       "      <th>0</th>\n",
       "      <td>2005-05-01</td>\n",
       "      <td>3.25</td>\n",
       "    </tr>\n",
       "    <tr>\n",
       "      <th>1</th>\n",
       "      <td>2005-05-02</td>\n",
       "      <td>3.25</td>\n",
       "    </tr>\n",
       "    <tr>\n",
       "      <th>2</th>\n",
       "      <td>2005-05-03</td>\n",
       "      <td>3.25</td>\n",
       "    </tr>\n",
       "    <tr>\n",
       "      <th>3</th>\n",
       "      <td>2005-05-04</td>\n",
       "      <td>3.25</td>\n",
       "    </tr>\n",
       "    <tr>\n",
       "      <th>4</th>\n",
       "      <td>2005-05-05</td>\n",
       "      <td>3.25</td>\n",
       "    </tr>\n",
       "  </tbody>\n",
       "</table>\n",
       "</div>"
      ],
      "text/plain": [
       "           날짜  기준금리\n",
       "0  2005-05-01  3.25\n",
       "1  2005-05-02  3.25\n",
       "2  2005-05-03  3.25\n",
       "3  2005-05-04  3.25\n",
       "4  2005-05-05  3.25"
      ]
     },
     "execution_count": 106,
     "metadata": {},
     "output_type": "execute_result"
    }
   ],
   "source": [
    "base_rate = pd.read_csv('df_baserate.csv')\n",
    "base_rate[:5]"
   ]
  },
  {
   "cell_type": "code",
   "execution_count": 107,
   "metadata": {},
   "outputs": [
    {
     "data": {
      "text/html": [
       "<div>\n",
       "<style scoped>\n",
       "    .dataframe tbody tr th:only-of-type {\n",
       "        vertical-align: middle;\n",
       "    }\n",
       "\n",
       "    .dataframe tbody tr th {\n",
       "        vertical-align: top;\n",
       "    }\n",
       "\n",
       "    .dataframe thead th {\n",
       "        text-align: right;\n",
       "    }\n",
       "</style>\n",
       "<table border=\"1\" class=\"dataframe\">\n",
       "  <thead>\n",
       "    <tr style=\"text-align: right;\">\n",
       "      <th></th>\n",
       "      <th>hawkish</th>\n",
       "      <th>dovish</th>\n",
       "      <th>polarity_score</th>\n",
       "      <th>날짜</th>\n",
       "      <th>기준금리</th>\n",
       "    </tr>\n",
       "  </thead>\n",
       "  <tbody>\n",
       "    <tr>\n",
       "      <th>0</th>\n",
       "      <td>449.0</td>\n",
       "      <td>53.0</td>\n",
       "      <td>0.788845</td>\n",
       "      <td>2005-05-12</td>\n",
       "      <td>3.25</td>\n",
       "    </tr>\n",
       "    <tr>\n",
       "      <th>1</th>\n",
       "      <td>461.0</td>\n",
       "      <td>59.0</td>\n",
       "      <td>0.773077</td>\n",
       "      <td>2005-06-09</td>\n",
       "      <td>3.25</td>\n",
       "    </tr>\n",
       "    <tr>\n",
       "      <th>2</th>\n",
       "      <td>498.0</td>\n",
       "      <td>84.0</td>\n",
       "      <td>0.711340</td>\n",
       "      <td>2005-07-07</td>\n",
       "      <td>3.25</td>\n",
       "    </tr>\n",
       "    <tr>\n",
       "      <th>3</th>\n",
       "      <td>610.0</td>\n",
       "      <td>66.0</td>\n",
       "      <td>0.804734</td>\n",
       "      <td>2005-08-11</td>\n",
       "      <td>3.25</td>\n",
       "    </tr>\n",
       "    <tr>\n",
       "      <th>4</th>\n",
       "      <td>551.0</td>\n",
       "      <td>73.0</td>\n",
       "      <td>0.766026</td>\n",
       "      <td>2005-09-08</td>\n",
       "      <td>3.25</td>\n",
       "    </tr>\n",
       "  </tbody>\n",
       "</table>\n",
       "</div>"
      ],
      "text/plain": [
       "   hawkish  dovish  polarity_score          날짜  기준금리\n",
       "0    449.0    53.0        0.788845  2005-05-12  3.25\n",
       "1    461.0    59.0        0.773077  2005-06-09  3.25\n",
       "2    498.0    84.0        0.711340  2005-07-07  3.25\n",
       "3    610.0    66.0        0.804734  2005-08-11  3.25\n",
       "4    551.0    73.0        0.766026  2005-09-08  3.25"
      ]
     },
     "execution_count": 107,
     "metadata": {},
     "output_type": "execute_result"
    }
   ],
   "source": [
    "df_new = polarity.merge(base_rate, left_on='date', right_on='날짜', how='left')\n",
    "df_new[:5]"
   ]
  },
  {
   "cell_type": "code",
   "execution_count": 108,
   "metadata": {},
   "outputs": [
    {
     "data": {
      "text/html": [
       "<div>\n",
       "<style scoped>\n",
       "    .dataframe tbody tr th:only-of-type {\n",
       "        vertical-align: middle;\n",
       "    }\n",
       "\n",
       "    .dataframe tbody tr th {\n",
       "        vertical-align: top;\n",
       "    }\n",
       "\n",
       "    .dataframe thead th {\n",
       "        text-align: right;\n",
       "    }\n",
       "</style>\n",
       "<table border=\"1\" class=\"dataframe\">\n",
       "  <thead>\n",
       "    <tr style=\"text-align: right;\">\n",
       "      <th></th>\n",
       "      <th>hawkish</th>\n",
       "      <th>dovish</th>\n",
       "      <th>polarity_score</th>\n",
       "      <th>기준금리</th>\n",
       "    </tr>\n",
       "  </thead>\n",
       "  <tbody>\n",
       "    <tr>\n",
       "      <th>hawkish</th>\n",
       "      <td>1.000000</td>\n",
       "      <td>0.660538</td>\n",
       "      <td>0.298684</td>\n",
       "      <td>0.361079</td>\n",
       "    </tr>\n",
       "    <tr>\n",
       "      <th>dovish</th>\n",
       "      <td>0.660538</td>\n",
       "      <td>1.000000</td>\n",
       "      <td>-0.426241</td>\n",
       "      <td>0.250770</td>\n",
       "    </tr>\n",
       "    <tr>\n",
       "      <th>polarity_score</th>\n",
       "      <td>0.298684</td>\n",
       "      <td>-0.426241</td>\n",
       "      <td>1.000000</td>\n",
       "      <td>0.112312</td>\n",
       "    </tr>\n",
       "    <tr>\n",
       "      <th>기준금리</th>\n",
       "      <td>0.361079</td>\n",
       "      <td>0.250770</td>\n",
       "      <td>0.112312</td>\n",
       "      <td>1.000000</td>\n",
       "    </tr>\n",
       "  </tbody>\n",
       "</table>\n",
       "</div>"
      ],
      "text/plain": [
       "                 hawkish    dovish  polarity_score      기준금리\n",
       "hawkish         1.000000  0.660538        0.298684  0.361079\n",
       "dovish          0.660538  1.000000       -0.426241  0.250770\n",
       "polarity_score  0.298684 -0.426241        1.000000  0.112312\n",
       "기준금리            0.361079  0.250770        0.112312  1.000000"
      ]
     },
     "execution_count": 108,
     "metadata": {},
     "output_type": "execute_result"
    }
   ],
   "source": [
    "df_new.corr()"
   ]
  },
  {
   "cell_type": "code",
   "execution_count": null,
   "metadata": {},
   "outputs": [],
   "source": []
  }
 ],
 "metadata": {
  "kernelspec": {
   "display_name": "Python 3",
   "language": "python",
   "name": "python3"
  },
  "language_info": {
   "codemirror_mode": {
    "name": "ipython",
    "version": 3
   },
   "file_extension": ".py",
   "mimetype": "text/x-python",
   "name": "python",
   "nbconvert_exporter": "python",
   "pygments_lexer": "ipython3",
   "version": "3.7.7"
  }
 },
 "nbformat": 4,
 "nbformat_minor": 4
}
