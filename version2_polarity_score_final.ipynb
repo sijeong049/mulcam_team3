{
 "cells": [
  {
   "cell_type": "code",
   "execution_count": null,
   "metadata": {},
   "outputs": [],
   "source": [
    "import pandas as pd"
   ]
  },
  {
   "cell_type": "code",
   "execution_count": 19,
   "metadata": {},
   "outputs": [],
   "source": [
    "df_hawkish = pd.read_csv('df_hawkish_dict_ver2.csv')\n",
    "df_dovish = pd.read_csv('df_dovish_dict_ver2.csv')"
   ]
  },
  {
   "cell_type": "code",
   "execution_count": null,
   "metadata": {},
   "outputs": [],
   "source": []
  },
  {
   "cell_type": "code",
   "execution_count": 1,
   "metadata": {},
   "outputs": [],
   "source": [
    "# 사전 리스트\n",
    "import pandas as pd\n",
    "df_hawkish = pd.read_csv('version2_df_hawkish_dict.csv')\n",
    "df_dovish = pd.read_csv('version2_df_dovish_dict.csv')\n",
    "dic_hawkish = list(df_hawkish['ngram'])\n",
    "dic_dovish = list(df_dovish['ngram'])"
   ]
  },
  {
   "cell_type": "code",
   "execution_count": 2,
   "metadata": {},
   "outputs": [],
   "source": [
    "from tqdm.notebook import tqdm"
   ]
  },
  {
   "cell_type": "code",
   "execution_count": 3,
   "metadata": {},
   "outputs": [],
   "source": [
    "import pandas as pd \n",
    "import numpy as np\n",
    "import re"
   ]
  },
  {
   "cell_type": "code",
   "execution_count": 20,
   "metadata": {},
   "outputs": [],
   "source": [
    "df_dic = pd.read_csv('ngramized_minutes_test.csv')#n_gram 만든 라벨링된 의사록\n",
    "#-------------------------------필요없는 컬럼 제거하기=---------------------------------\n",
    "df_dic = df_dic[['ID', 'date', 'sent', 'n_gram']]"
   ]
  },
  {
   "cell_type": "code",
   "execution_count": 21,
   "metadata": {},
   "outputs": [],
   "source": [
    "#------------------------------n_gram split했을 때 이쁘게 뽑히게하기-----------------\n",
    "for i in range(len(df_dic)):\n",
    "    df_dic['n_gram'].iloc[i] = df_dic['n_gram'].iloc[i].replace(\"[\",\"\").replace(\"]\",\"\").replace(\"'\",\"\").replace(\",\",\"\").split()"
   ]
  },
  {
   "cell_type": "code",
   "execution_count": 22,
   "metadata": {},
   "outputs": [],
   "source": [
    "df_dic['hawkish'] = np.zeros(len(df_dic))\n",
    "df_dic['dovish'] = np.zeros(len(df_dic))"
   ]
  },
  {
   "cell_type": "code",
   "execution_count": 25,
   "metadata": {},
   "outputs": [
    {
     "data": {
      "application/vnd.jupyter.widget-view+json": {
       "model_id": "40678d54904846e7bc21a30d3f4268aa",
       "version_major": 2,
       "version_minor": 0
      },
      "text/plain": [
       "HBox(children=(FloatProgress(value=0.0, max=10156.0), HTML(value='')))"
      ]
     },
     "metadata": {},
     "output_type": "display_data"
    },
    {
     "name": "stderr",
     "output_type": "stream",
     "text": [
      "C:\\Users\\180309\\anaconda3\\envs\\mulcam_b\\lib\\site-packages\\pandas\\core\\indexing.py:671: SettingWithCopyWarning: \n",
      "A value is trying to be set on a copy of a slice from a DataFrame\n",
      "\n",
      "See the caveats in the documentation: https://pandas.pydata.org/pandas-docs/stable/user_guide/indexing.html#returning-a-view-versus-a-copy\n",
      "  self._setitem_with_indexer(indexer, value)\n"
     ]
    },
    {
     "name": "stdout",
     "output_type": "stream",
     "text": [
      "\n"
     ]
    }
   ],
   "source": [
    "from tqdm.notebook import tqdm\n",
    "for i in tqdm(range(len(df_dic))):\n",
    "    for word in df_dic['n_gram'].iloc[i]:\n",
    "        if word in dic_hawkish:\n",
    "            df_dic['hawkish'].iloc[i] += 1"
   ]
  },
  {
   "cell_type": "code",
   "execution_count": 26,
   "metadata": {},
   "outputs": [
    {
     "data": {
      "application/vnd.jupyter.widget-view+json": {
       "model_id": "96e489f63dd04faca2a70d21a77f2393",
       "version_major": 2,
       "version_minor": 0
      },
      "text/plain": [
       "HBox(children=(FloatProgress(value=0.0, max=10156.0), HTML(value='')))"
      ]
     },
     "metadata": {},
     "output_type": "display_data"
    },
    {
     "name": "stdout",
     "output_type": "stream",
     "text": [
      "\n"
     ]
    }
   ],
   "source": [
    "from tqdm.notebook import tqdm\n",
    "for i in tqdm(range(len(df_dic))):\n",
    "    for word in df_dic['n_gram'].iloc[i]:\n",
    "        if word in dic_dovish:\n",
    "            df_dic['dovish'].iloc[i] += 1"
   ]
  },
  {
   "cell_type": "code",
   "execution_count": 27,
   "metadata": {},
   "outputs": [
    {
     "data": {
      "text/html": [
       "<div>\n",
       "<style scoped>\n",
       "    .dataframe tbody tr th:only-of-type {\n",
       "        vertical-align: middle;\n",
       "    }\n",
       "\n",
       "    .dataframe tbody tr th {\n",
       "        vertical-align: top;\n",
       "    }\n",
       "\n",
       "    .dataframe thead th {\n",
       "        text-align: right;\n",
       "    }\n",
       "</style>\n",
       "<table border=\"1\" class=\"dataframe\">\n",
       "  <thead>\n",
       "    <tr style=\"text-align: right;\">\n",
       "      <th></th>\n",
       "      <th>ID</th>\n",
       "      <th>date</th>\n",
       "      <th>sent</th>\n",
       "      <th>n_gram</th>\n",
       "      <th>hawkish</th>\n",
       "      <th>dovish</th>\n",
       "    </tr>\n",
       "  </thead>\n",
       "  <tbody>\n",
       "    <tr>\n",
       "      <th>0</th>\n",
       "      <td>2005년도 제10차</td>\n",
       "      <td>2005-05-12</td>\n",
       "      <td>['일부 위원은 내외금리차 역전에 따라 자금의 해외유출이 대규모로 발생될 가능성을 ...</td>\n",
       "      <td>[내외/NNG, 금리갭/NNG, 역전/NNG, 자금/NNG, 해외/NNG, 유출/N...</td>\n",
       "      <td>4.0</td>\n",
       "      <td>0.0</td>\n",
       "    </tr>\n",
       "    <tr>\n",
       "      <th>1</th>\n",
       "      <td>2005년도 제10차</td>\n",
       "      <td>2005-05-12</td>\n",
       "      <td>', '이에 대해 관련부서에서는 우리나라에서는 그러한 사례가 없었기 때문에 대만과 ...</td>\n",
       "      <td>[대해/VV, 그러/NNG, 사례/NNG, 없/VA, 사례/NNG, 살펴보/VV, ...</td>\n",
       "      <td>2.0</td>\n",
       "      <td>1.0</td>\n",
       "    </tr>\n",
       "    <tr>\n",
       "      <th>2</th>\n",
       "      <td>2005년도 제10차</td>\n",
       "      <td>2005-05-12</td>\n",
       "      <td>', '동 위원은 자금의 해외유출에 대한 정책적 대응을 위해 내외금리나 환율에 대해...</td>\n",
       "      <td>[자금/NNG, 해외/NNG, 유출/NNG, 정책/NNG, 대응/NNG, 위하/VV...</td>\n",
       "      <td>2.0</td>\n",
       "      <td>0.0</td>\n",
       "    </tr>\n",
       "    <tr>\n",
       "      <th>3</th>\n",
       "      <td>2005년도 제10차</td>\n",
       "      <td>2005-05-12</td>\n",
       "      <td>', '다른 일부 위원은 최근 금융기관의 외화대출이 늘어나고 있는 것과 관련하 여 ...</td>\n",
       "      <td>[금융기관/NNG, 외화대출/NNG, 늘/VV, 금융기관/NNG, 해외/NNG, 차...</td>\n",
       "      <td>0.0</td>\n",
       "      <td>2.0</td>\n",
       "    </tr>\n",
       "    <tr>\n",
       "      <th>4</th>\n",
       "      <td>2005년도 제10차</td>\n",
       "      <td>2005-05-12</td>\n",
       "      <td>', '또 다른 일부 위원은 전년 동기와 비교할 때 금년 1～4월중 국내시장에 대 ...</td>\n",
       "      <td>[또/MAG, 비교/NNG, 하/VV, 때/NNG, 중/NNG, 시장/NNG, 대/...</td>\n",
       "      <td>16.0</td>\n",
       "      <td>1.0</td>\n",
       "    </tr>\n",
       "  </tbody>\n",
       "</table>\n",
       "</div>"
      ],
      "text/plain": [
       "            ID        date                                               sent  \\\n",
       "0  2005년도 제10차  2005-05-12  ['일부 위원은 내외금리차 역전에 따라 자금의 해외유출이 대규모로 발생될 가능성을 ...   \n",
       "1  2005년도 제10차  2005-05-12  ', '이에 대해 관련부서에서는 우리나라에서는 그러한 사례가 없었기 때문에 대만과 ...   \n",
       "2  2005년도 제10차  2005-05-12  ', '동 위원은 자금의 해외유출에 대한 정책적 대응을 위해 내외금리나 환율에 대해...   \n",
       "3  2005년도 제10차  2005-05-12  ', '다른 일부 위원은 최근 금융기관의 외화대출이 늘어나고 있는 것과 관련하 여 ...   \n",
       "4  2005년도 제10차  2005-05-12  ', '또 다른 일부 위원은 전년 동기와 비교할 때 금년 1～4월중 국내시장에 대 ...   \n",
       "\n",
       "                                              n_gram  hawkish  dovish  \n",
       "0  [내외/NNG, 금리갭/NNG, 역전/NNG, 자금/NNG, 해외/NNG, 유출/N...      4.0     0.0  \n",
       "1  [대해/VV, 그러/NNG, 사례/NNG, 없/VA, 사례/NNG, 살펴보/VV, ...      2.0     1.0  \n",
       "2  [자금/NNG, 해외/NNG, 유출/NNG, 정책/NNG, 대응/NNG, 위하/VV...      2.0     0.0  \n",
       "3  [금융기관/NNG, 외화대출/NNG, 늘/VV, 금융기관/NNG, 해외/NNG, 차...      0.0     2.0  \n",
       "4  [또/MAG, 비교/NNG, 하/VV, 때/NNG, 중/NNG, 시장/NNG, 대/...     16.0     1.0  "
      ]
     },
     "execution_count": 27,
     "metadata": {},
     "output_type": "execute_result"
    }
   ],
   "source": [
    "df_dic[:5]"
   ]
  },
  {
   "cell_type": "code",
   "execution_count": 28,
   "metadata": {},
   "outputs": [
    {
     "name": "stderr",
     "output_type": "stream",
     "text": [
      "C:\\Users\\180309\\anaconda3\\envs\\mulcam_b\\lib\\site-packages\\ipykernel_launcher.py:6: SettingWithCopyWarning: \n",
      "A value is trying to be set on a copy of a slice from a DataFrame\n",
      "\n",
      "See the caveats in the documentation: https://pandas.pydata.org/pandas-docs/stable/user_guide/indexing.html#returning-a-view-versus-a-copy\n",
      "  \n",
      "C:\\Users\\180309\\anaconda3\\envs\\mulcam_b\\lib\\site-packages\\ipykernel_launcher.py:8: SettingWithCopyWarning: \n",
      "A value is trying to be set on a copy of a slice from a DataFrame\n",
      "\n",
      "See the caveats in the documentation: https://pandas.pydata.org/pandas-docs/stable/user_guide/indexing.html#returning-a-view-versus-a-copy\n",
      "  \n",
      "C:\\Users\\180309\\anaconda3\\envs\\mulcam_b\\lib\\site-packages\\ipykernel_launcher.py:10: SettingWithCopyWarning: \n",
      "A value is trying to be set on a copy of a slice from a DataFrame\n",
      "\n",
      "See the caveats in the documentation: https://pandas.pydata.org/pandas-docs/stable/user_guide/indexing.html#returning-a-view-versus-a-copy\n",
      "  # Remove the CWD from sys.path while we load stuff.\n",
      "C:\\Users\\180309\\anaconda3\\envs\\mulcam_b\\lib\\site-packages\\ipykernel_launcher.py:4: RuntimeWarning: invalid value encountered in double_scalars\n",
      "  after removing the cwd from sys.path.\n",
      "C:\\Users\\180309\\anaconda3\\envs\\mulcam_b\\lib\\site-packages\\ipykernel_launcher.py:16: SettingWithCopyWarning: \n",
      "A value is trying to be set on a copy of a slice from a DataFrame\n",
      "\n",
      "See the caveats in the documentation: https://pandas.pydata.org/pandas-docs/stable/user_guide/indexing.html#returning-a-view-versus-a-copy\n",
      "  app.launch_new_instance()\n",
      "C:\\Users\\180309\\anaconda3\\envs\\mulcam_b\\lib\\site-packages\\ipykernel_launcher.py:18: SettingWithCopyWarning: \n",
      "A value is trying to be set on a copy of a slice from a DataFrame\n",
      "\n",
      "See the caveats in the documentation: https://pandas.pydata.org/pandas-docs/stable/user_guide/indexing.html#returning-a-view-versus-a-copy\n",
      "C:\\Users\\180309\\anaconda3\\envs\\mulcam_b\\lib\\site-packages\\ipykernel_launcher.py:20: SettingWithCopyWarning: \n",
      "A value is trying to be set on a copy of a slice from a DataFrame\n",
      "\n",
      "See the caveats in the documentation: https://pandas.pydata.org/pandas-docs/stable/user_guide/indexing.html#returning-a-view-versus-a-copy\n",
      "C:\\Users\\180309\\anaconda3\\envs\\mulcam_b\\lib\\site-packages\\ipykernel_launcher.py:14: RuntimeWarning: invalid value encountered in double_scalars\n",
      "  \n"
     ]
    }
   ],
   "source": [
    "df_dic['score_up'] = np.zeros(len(df_dic))\n",
    "\n",
    "for i in range(len(df_dic)):\n",
    "    score = (df_dic['hawkish'].iloc[i] - df_dic['dovish'].iloc[i]) / (df_dic['hawkish'].iloc[i] + df_dic['dovish'].iloc[i])\n",
    "    if score > 0:\n",
    "        df_dic['score_up'][i] = 1\n",
    "    elif score < 0:\n",
    "        df_dic['score_up'][i] = -1\n",
    "    else:\n",
    "        df_dic['score_up'][i] = 0\n",
    "        \n",
    "df_dic['score_down'] = np.zeros(len(df_dic))\n",
    "for i in range(len(df_dic)):\n",
    "    score = (df_dic['hawkish'].iloc[i] - df_dic['dovish'].iloc[i]) / (df_dic['hawkish'].iloc[i] + df_dic['dovish'].iloc[i])\n",
    "    if score > 0:\n",
    "        df_dic['score_down'][i] = 1\n",
    "    elif score < 0:\n",
    "        df_dic['score_down'][i] = 1\n",
    "    else:\n",
    "        df_dic['score_down'][i] = 0"
   ]
  },
  {
   "cell_type": "code",
   "execution_count": 29,
   "metadata": {},
   "outputs": [
    {
     "data": {
      "text/html": [
       "<div>\n",
       "<style scoped>\n",
       "    .dataframe tbody tr th:only-of-type {\n",
       "        vertical-align: middle;\n",
       "    }\n",
       "\n",
       "    .dataframe tbody tr th {\n",
       "        vertical-align: top;\n",
       "    }\n",
       "\n",
       "    .dataframe thead th {\n",
       "        text-align: right;\n",
       "    }\n",
       "</style>\n",
       "<table border=\"1\" class=\"dataframe\">\n",
       "  <thead>\n",
       "    <tr style=\"text-align: right;\">\n",
       "      <th></th>\n",
       "      <th>hawkish</th>\n",
       "      <th>dovish</th>\n",
       "      <th>score_up</th>\n",
       "      <th>score_down</th>\n",
       "    </tr>\n",
       "    <tr>\n",
       "      <th>date</th>\n",
       "      <th></th>\n",
       "      <th></th>\n",
       "      <th></th>\n",
       "      <th></th>\n",
       "    </tr>\n",
       "  </thead>\n",
       "  <tbody>\n",
       "    <tr>\n",
       "      <th>2005-05-12</th>\n",
       "      <td>552.0</td>\n",
       "      <td>75.0</td>\n",
       "      <td>100.0</td>\n",
       "      <td>126.0</td>\n",
       "    </tr>\n",
       "    <tr>\n",
       "      <th>2005-06-09</th>\n",
       "      <td>576.0</td>\n",
       "      <td>79.0</td>\n",
       "      <td>96.0</td>\n",
       "      <td>132.0</td>\n",
       "    </tr>\n",
       "    <tr>\n",
       "      <th>2005-07-07</th>\n",
       "      <td>606.0</td>\n",
       "      <td>108.0</td>\n",
       "      <td>93.0</td>\n",
       "      <td>127.0</td>\n",
       "    </tr>\n",
       "    <tr>\n",
       "      <th>2005-08-11</th>\n",
       "      <td>730.0</td>\n",
       "      <td>102.0</td>\n",
       "      <td>111.0</td>\n",
       "      <td>137.0</td>\n",
       "    </tr>\n",
       "    <tr>\n",
       "      <th>2005-09-08</th>\n",
       "      <td>698.0</td>\n",
       "      <td>123.0</td>\n",
       "      <td>105.0</td>\n",
       "      <td>135.0</td>\n",
       "    </tr>\n",
       "  </tbody>\n",
       "</table>\n",
       "</div>"
      ],
      "text/plain": [
       "            hawkish  dovish  score_up  score_down\n",
       "date                                             \n",
       "2005-05-12    552.0    75.0     100.0       126.0\n",
       "2005-06-09    576.0    79.0      96.0       132.0\n",
       "2005-07-07    606.0   108.0      93.0       127.0\n",
       "2005-08-11    730.0   102.0     111.0       137.0\n",
       "2005-09-08    698.0   123.0     105.0       135.0"
      ]
     },
     "execution_count": 29,
     "metadata": {},
     "output_type": "execute_result"
    }
   ],
   "source": [
    "polarity = df_dic.groupby(df_dic['date']).sum()\n",
    "polarity[:5]"
   ]
  },
  {
   "cell_type": "code",
   "execution_count": 30,
   "metadata": {},
   "outputs": [
    {
     "data": {
      "text/plain": [
       "(Empty DataFrame\n",
       " Columns: [hawkish, dovish, score_up, score_down]\n",
       " Index: [],\n",
       " Empty DataFrame\n",
       " Columns: [hawkish, dovish, score_up, score_down]\n",
       " Index: [])"
      ]
     },
     "execution_count": 30,
     "metadata": {},
     "output_type": "execute_result"
    }
   ],
   "source": [
    "#-----------------------------------0인값확인하기-------------------------------------\n",
    "polarity[polarity['dovish'] == 0],polarity[polarity['hawkish'] == 0]"
   ]
  },
  {
   "cell_type": "code",
   "execution_count": 31,
   "metadata": {},
   "outputs": [
    {
     "data": {
      "text/plain": [
       "date\n",
       "2005-05-12    0.793651\n",
       "2005-06-09    0.727273\n",
       "2005-07-07    0.732283\n",
       "2005-08-11    0.810219\n",
       "2005-09-08    0.777778\n",
       "                ...   \n",
       "2017-05-25    0.363636\n",
       "2017-07-13    0.583333\n",
       "2017-08-31    0.642857\n",
       "2017-10-19    0.724138\n",
       "2017-11-30    0.466667\n",
       "Name: tone_doc, Length: 124, dtype: float64"
      ]
     },
     "execution_count": 31,
     "metadata": {},
     "output_type": "execute_result"
    }
   ],
   "source": [
    "polarity['tone_doc'] = polarity['score_up'] / polarity['score_down']\n",
    "polarity['tone_doc']"
   ]
  },
  {
   "cell_type": "code",
   "execution_count": 32,
   "metadata": {},
   "outputs": [],
   "source": [
    "#---------------------------------기준금리 합치기---------------------------------------"
   ]
  },
  {
   "cell_type": "code",
   "execution_count": 33,
   "metadata": {},
   "outputs": [
    {
     "data": {
      "text/html": [
       "<div>\n",
       "<style scoped>\n",
       "    .dataframe tbody tr th:only-of-type {\n",
       "        vertical-align: middle;\n",
       "    }\n",
       "\n",
       "    .dataframe tbody tr th {\n",
       "        vertical-align: top;\n",
       "    }\n",
       "\n",
       "    .dataframe thead th {\n",
       "        text-align: right;\n",
       "    }\n",
       "</style>\n",
       "<table border=\"1\" class=\"dataframe\">\n",
       "  <thead>\n",
       "    <tr style=\"text-align: right;\">\n",
       "      <th></th>\n",
       "      <th>날짜</th>\n",
       "      <th>기준금리</th>\n",
       "    </tr>\n",
       "  </thead>\n",
       "  <tbody>\n",
       "    <tr>\n",
       "      <th>0</th>\n",
       "      <td>2005-05-01</td>\n",
       "      <td>3.25</td>\n",
       "    </tr>\n",
       "    <tr>\n",
       "      <th>1</th>\n",
       "      <td>2005-05-02</td>\n",
       "      <td>3.25</td>\n",
       "    </tr>\n",
       "    <tr>\n",
       "      <th>2</th>\n",
       "      <td>2005-05-03</td>\n",
       "      <td>3.25</td>\n",
       "    </tr>\n",
       "    <tr>\n",
       "      <th>3</th>\n",
       "      <td>2005-05-04</td>\n",
       "      <td>3.25</td>\n",
       "    </tr>\n",
       "    <tr>\n",
       "      <th>4</th>\n",
       "      <td>2005-05-05</td>\n",
       "      <td>3.25</td>\n",
       "    </tr>\n",
       "  </tbody>\n",
       "</table>\n",
       "</div>"
      ],
      "text/plain": [
       "           날짜  기준금리\n",
       "0  2005-05-01  3.25\n",
       "1  2005-05-02  3.25\n",
       "2  2005-05-03  3.25\n",
       "3  2005-05-04  3.25\n",
       "4  2005-05-05  3.25"
      ]
     },
     "execution_count": 33,
     "metadata": {},
     "output_type": "execute_result"
    }
   ],
   "source": [
    "base_rate = pd.read_csv('df_baserate.csv')\n",
    "base_rate[:5]"
   ]
  },
  {
   "cell_type": "code",
   "execution_count": 34,
   "metadata": {},
   "outputs": [
    {
     "data": {
      "text/html": [
       "<div>\n",
       "<style scoped>\n",
       "    .dataframe tbody tr th:only-of-type {\n",
       "        vertical-align: middle;\n",
       "    }\n",
       "\n",
       "    .dataframe tbody tr th {\n",
       "        vertical-align: top;\n",
       "    }\n",
       "\n",
       "    .dataframe thead th {\n",
       "        text-align: right;\n",
       "    }\n",
       "</style>\n",
       "<table border=\"1\" class=\"dataframe\">\n",
       "  <thead>\n",
       "    <tr style=\"text-align: right;\">\n",
       "      <th></th>\n",
       "      <th>hawkish</th>\n",
       "      <th>dovish</th>\n",
       "      <th>score_up</th>\n",
       "      <th>score_down</th>\n",
       "      <th>tone_doc</th>\n",
       "      <th>날짜</th>\n",
       "      <th>기준금리</th>\n",
       "    </tr>\n",
       "  </thead>\n",
       "  <tbody>\n",
       "    <tr>\n",
       "      <th>0</th>\n",
       "      <td>552.0</td>\n",
       "      <td>75.0</td>\n",
       "      <td>100.0</td>\n",
       "      <td>126.0</td>\n",
       "      <td>0.793651</td>\n",
       "      <td>2005-05-12</td>\n",
       "      <td>3.25</td>\n",
       "    </tr>\n",
       "    <tr>\n",
       "      <th>1</th>\n",
       "      <td>576.0</td>\n",
       "      <td>79.0</td>\n",
       "      <td>96.0</td>\n",
       "      <td>132.0</td>\n",
       "      <td>0.727273</td>\n",
       "      <td>2005-06-09</td>\n",
       "      <td>3.25</td>\n",
       "    </tr>\n",
       "    <tr>\n",
       "      <th>2</th>\n",
       "      <td>606.0</td>\n",
       "      <td>108.0</td>\n",
       "      <td>93.0</td>\n",
       "      <td>127.0</td>\n",
       "      <td>0.732283</td>\n",
       "      <td>2005-07-07</td>\n",
       "      <td>3.25</td>\n",
       "    </tr>\n",
       "    <tr>\n",
       "      <th>3</th>\n",
       "      <td>730.0</td>\n",
       "      <td>102.0</td>\n",
       "      <td>111.0</td>\n",
       "      <td>137.0</td>\n",
       "      <td>0.810219</td>\n",
       "      <td>2005-08-11</td>\n",
       "      <td>3.25</td>\n",
       "    </tr>\n",
       "    <tr>\n",
       "      <th>4</th>\n",
       "      <td>698.0</td>\n",
       "      <td>123.0</td>\n",
       "      <td>105.0</td>\n",
       "      <td>135.0</td>\n",
       "      <td>0.777778</td>\n",
       "      <td>2005-09-08</td>\n",
       "      <td>3.25</td>\n",
       "    </tr>\n",
       "  </tbody>\n",
       "</table>\n",
       "</div>"
      ],
      "text/plain": [
       "   hawkish  dovish  score_up  score_down  tone_doc          날짜  기준금리\n",
       "0    552.0    75.0     100.0       126.0  0.793651  2005-05-12  3.25\n",
       "1    576.0    79.0      96.0       132.0  0.727273  2005-06-09  3.25\n",
       "2    606.0   108.0      93.0       127.0  0.732283  2005-07-07  3.25\n",
       "3    730.0   102.0     111.0       137.0  0.810219  2005-08-11  3.25\n",
       "4    698.0   123.0     105.0       135.0  0.777778  2005-09-08  3.25"
      ]
     },
     "execution_count": 34,
     "metadata": {},
     "output_type": "execute_result"
    }
   ],
   "source": [
    "df_new = polarity.merge(base_rate, left_on='date', right_on='날짜', how='left')\n",
    "df_new[:5]"
   ]
  },
  {
   "cell_type": "code",
   "execution_count": 35,
   "metadata": {},
   "outputs": [
    {
     "data": {
      "text/html": [
       "<div>\n",
       "<style scoped>\n",
       "    .dataframe tbody tr th:only-of-type {\n",
       "        vertical-align: middle;\n",
       "    }\n",
       "\n",
       "    .dataframe tbody tr th {\n",
       "        vertical-align: top;\n",
       "    }\n",
       "\n",
       "    .dataframe thead th {\n",
       "        text-align: right;\n",
       "    }\n",
       "</style>\n",
       "<table border=\"1\" class=\"dataframe\">\n",
       "  <thead>\n",
       "    <tr style=\"text-align: right;\">\n",
       "      <th></th>\n",
       "      <th>hawkish</th>\n",
       "      <th>dovish</th>\n",
       "      <th>score_up</th>\n",
       "      <th>score_down</th>\n",
       "      <th>tone_doc</th>\n",
       "      <th>기준금리</th>\n",
       "    </tr>\n",
       "  </thead>\n",
       "  <tbody>\n",
       "    <tr>\n",
       "      <th>hawkish</th>\n",
       "      <td>1.000000</td>\n",
       "      <td>0.678638</td>\n",
       "      <td>0.922995</td>\n",
       "      <td>0.852850</td>\n",
       "      <td>0.491571</td>\n",
       "      <td>0.404186</td>\n",
       "    </tr>\n",
       "    <tr>\n",
       "      <th>dovish</th>\n",
       "      <td>0.678638</td>\n",
       "      <td>1.000000</td>\n",
       "      <td>0.650265</td>\n",
       "      <td>0.731797</td>\n",
       "      <td>-0.007209</td>\n",
       "      <td>0.250741</td>\n",
       "    </tr>\n",
       "    <tr>\n",
       "      <th>score_up</th>\n",
       "      <td>0.922995</td>\n",
       "      <td>0.650265</td>\n",
       "      <td>1.000000</td>\n",
       "      <td>0.969711</td>\n",
       "      <td>0.410623</td>\n",
       "      <td>0.410339</td>\n",
       "    </tr>\n",
       "    <tr>\n",
       "      <th>score_down</th>\n",
       "      <td>0.852850</td>\n",
       "      <td>0.731797</td>\n",
       "      <td>0.969711</td>\n",
       "      <td>1.000000</td>\n",
       "      <td>0.225047</td>\n",
       "      <td>0.355773</td>\n",
       "    </tr>\n",
       "    <tr>\n",
       "      <th>tone_doc</th>\n",
       "      <td>0.491571</td>\n",
       "      <td>-0.007209</td>\n",
       "      <td>0.410623</td>\n",
       "      <td>0.225047</td>\n",
       "      <td>1.000000</td>\n",
       "      <td>0.392979</td>\n",
       "    </tr>\n",
       "    <tr>\n",
       "      <th>기준금리</th>\n",
       "      <td>0.404186</td>\n",
       "      <td>0.250741</td>\n",
       "      <td>0.410339</td>\n",
       "      <td>0.355773</td>\n",
       "      <td>0.392979</td>\n",
       "      <td>1.000000</td>\n",
       "    </tr>\n",
       "  </tbody>\n",
       "</table>\n",
       "</div>"
      ],
      "text/plain": [
       "             hawkish    dovish  score_up  score_down  tone_doc      기준금리\n",
       "hawkish     1.000000  0.678638  0.922995    0.852850  0.491571  0.404186\n",
       "dovish      0.678638  1.000000  0.650265    0.731797 -0.007209  0.250741\n",
       "score_up    0.922995  0.650265  1.000000    0.969711  0.410623  0.410339\n",
       "score_down  0.852850  0.731797  0.969711    1.000000  0.225047  0.355773\n",
       "tone_doc    0.491571 -0.007209  0.410623    0.225047  1.000000  0.392979\n",
       "기준금리        0.404186  0.250741  0.410339    0.355773  0.392979  1.000000"
      ]
     },
     "execution_count": 35,
     "metadata": {},
     "output_type": "execute_result"
    }
   ],
   "source": [
    "df_new.corr()"
   ]
  },
  {
   "cell_type": "code",
   "execution_count": null,
   "metadata": {},
   "outputs": [],
   "source": []
  }
 ],
 "metadata": {
  "kernelspec": {
   "display_name": "Python 3",
   "language": "python",
   "name": "python3"
  },
  "language_info": {
   "codemirror_mode": {
    "name": "ipython",
    "version": 3
   },
   "file_extension": ".py",
   "mimetype": "text/x-python",
   "name": "python",
   "nbconvert_exporter": "python",
   "pygments_lexer": "ipython3",
   "version": "3.7.7"
  }
 },
 "nbformat": 4,
 "nbformat_minor": 4
}
