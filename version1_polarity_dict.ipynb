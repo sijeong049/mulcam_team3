{
 "cells": [
  {
   "cell_type": "code",
   "execution_count": 1,
   "metadata": {},
   "outputs": [],
   "source": [
    "# 기사랑 채권분석 라벨링 된 것 파일 불러오기\n",
    "import pandas as pd\n",
    "df_trainset = pd.read_csv('labeled_concat_interest_bond.csv')"
   ]
  },
  {
   "cell_type": "code",
   "execution_count": 2,
   "metadata": {},
   "outputs": [
    {
     "data": {
      "text/plain": [
       "Index(['date', 'text', 'n_gram', 'callrate', '한달전date', '한달전callrate',\n",
       "       'Labelling'],\n",
       "      dtype='object')"
      ]
     },
     "execution_count": 2,
     "metadata": {},
     "output_type": "execute_result"
    }
   ],
   "source": [
    "df_trainset.columns"
   ]
  },
  {
   "cell_type": "code",
   "execution_count": 3,
   "metadata": {},
   "outputs": [
    {
     "name": "stdout",
     "output_type": "stream",
     "text": [
      "<class 'pandas.core.frame.DataFrame'>\n",
      "RangeIndex: 203948 entries, 0 to 203947\n",
      "Data columns (total 4 columns):\n",
      " #   Column     Non-Null Count   Dtype \n",
      "---  ------     --------------   ----- \n",
      " 0   date       203948 non-null  object\n",
      " 1   text       202661 non-null  object\n",
      " 2   n_gram     202747 non-null  object\n",
      " 3   Labelling  203948 non-null  object\n",
      "dtypes: object(4)\n",
      "memory usage: 6.2+ MB\n"
     ]
    }
   ],
   "source": [
    "df_trainset = df_trainset[['date', 'text', 'n_gram','Labelling']]\n",
    "df_trainset.info()"
   ]
  },
  {
   "cell_type": "code",
   "execution_count": 4,
   "metadata": {},
   "outputs": [],
   "source": [
    "df_trainset = df_trainset[df_trainset['n_gram'] != '[]'] #엔그램 없는 것 빼기"
   ]
  },
  {
   "cell_type": "code",
   "execution_count": 5,
   "metadata": {},
   "outputs": [
    {
     "name": "stdout",
     "output_type": "stream",
     "text": [
      "<class 'pandas.core.frame.DataFrame'>\n",
      "Int64Index: 201528 entries, 0 to 203947\n",
      "Data columns (total 4 columns):\n",
      " #   Column     Non-Null Count   Dtype \n",
      "---  ------     --------------   ----- \n",
      " 0   date       201528 non-null  object\n",
      " 1   text       200327 non-null  object\n",
      " 2   n_gram     200327 non-null  object\n",
      " 3   Labelling  201528 non-null  object\n",
      "dtypes: object(4)\n",
      "memory usage: 7.7+ MB\n"
     ]
    }
   ],
   "source": [
    "df_trainset.info()"
   ]
  },
  {
   "cell_type": "code",
   "execution_count": 6,
   "metadata": {},
   "outputs": [
    {
     "data": {
      "text/plain": [
       "1201"
      ]
     },
     "execution_count": 6,
     "metadata": {},
     "output_type": "execute_result"
    }
   ],
   "source": [
    "201528 - 200327 # text가 없는 날짜 제거하기"
   ]
  },
  {
   "cell_type": "code",
   "execution_count": 7,
   "metadata": {},
   "outputs": [
    {
     "name": "stdout",
     "output_type": "stream",
     "text": [
      "<class 'pandas.core.frame.DataFrame'>\n",
      "Int64Index: 200327 entries, 0 to 203947\n",
      "Data columns (total 4 columns):\n",
      " #   Column     Non-Null Count   Dtype \n",
      "---  ------     --------------   ----- \n",
      " 0   date       200327 non-null  object\n",
      " 1   text       200327 non-null  object\n",
      " 2   n_gram     200327 non-null  object\n",
      " 3   Labelling  200327 non-null  object\n",
      "dtypes: object(4)\n",
      "memory usage: 7.6+ MB\n"
     ]
    }
   ],
   "source": [
    "df_trainset = df_trainset[df_trainset['n_gram'].notnull()]\n",
    "df_trainset.info()"
   ]
  },
  {
   "cell_type": "code",
   "execution_count": 8,
   "metadata": {},
   "outputs": [],
   "source": [
    "from tqdm.notebook import tqdm"
   ]
  },
  {
   "cell_type": "code",
   "execution_count": 9,
   "metadata": {},
   "outputs": [
    {
     "data": {
      "application/vnd.jupyter.widget-view+json": {
       "model_id": "3a0c5fdf992446968a98e8510e7c9f6a",
       "version_major": 2,
       "version_minor": 0
      },
      "text/plain": [
       "HBox(children=(FloatProgress(value=0.0, max=200327.0), HTML(value='')))"
      ]
     },
     "metadata": {},
     "output_type": "display_data"
    },
    {
     "name": "stdout",
     "output_type": "stream",
     "text": [
      "\n"
     ]
    }
   ],
   "source": [
    "from collections import defaultdict\n",
    "n_gram = defaultdict(lambda:[0,0,0]) # total_count, up_count, down_count\n",
    "\n",
    "for i in tqdm(range(len(df_trainset))):\n",
    "    texts = df_trainset['n_gram'].iloc[i].replace(\"[\",\"\").replace(\"]\",\"\").replace(\"'\",\"\").replace(\",\",\"\")\n",
    "    texts = texts.split()\n",
    "    for text in texts:\n",
    "        n_gram[text][0] += 1\n",
    "        if df_trainset['Labelling'].iloc[i] == 'up':\n",
    "            n_gram[text][1] += 1\n",
    "        elif df_trainset['Labelling'].iloc[i] == 'down':\n",
    "            n_gram[text][2] += 1"
   ]
  },
  {
   "cell_type": "code",
   "execution_count": 10,
   "metadata": {},
   "outputs": [],
   "source": [
    "ngram, total_count, up_count, down_count = [],[],[],[]\n",
    "for i, doc in n_gram.items():\n",
    "    ngram.append(i)\n",
    "    total_count.append(doc[0])\n",
    "    up_count.append(doc[1])\n",
    "    down_count.append(doc[2])"
   ]
  },
  {
   "cell_type": "code",
   "execution_count": 11,
   "metadata": {},
   "outputs": [],
   "source": [
    "df_polar_score = pd.DataFrame([ngram, total_count, up_count, down_count],index=['ngram','total_count','up_count','down_count'])\n",
    "df_polar_score = df_polar_score.T"
   ]
  },
  {
   "cell_type": "code",
   "execution_count": 12,
   "metadata": {},
   "outputs": [],
   "source": [
    "# 총 개수가 15이하인 것 delete\n",
    "df_polar_score = df_polar_score[df_polar_score['total_count']>=15]"
   ]
  },
  {
   "cell_type": "code",
   "execution_count": 13,
   "metadata": {},
   "outputs": [
    {
     "name": "stdout",
     "output_type": "stream",
     "text": [
      "<class 'pandas.core.frame.DataFrame'>\n",
      "Int64Index: 48896 entries, 0 to 145938\n",
      "Data columns (total 4 columns):\n",
      " #   Column       Non-Null Count  Dtype \n",
      "---  ------       --------------  ----- \n",
      " 0   ngram        48896 non-null  object\n",
      " 1   total_count  48896 non-null  object\n",
      " 2   up_count     48896 non-null  object\n",
      " 3   down_count   48896 non-null  object\n",
      "dtypes: object(4)\n",
      "memory usage: 1.9+ MB\n"
     ]
    },
    {
     "data": {
      "text/html": [
       "<div>\n",
       "<style scoped>\n",
       "    .dataframe tbody tr th:only-of-type {\n",
       "        vertical-align: middle;\n",
       "    }\n",
       "\n",
       "    .dataframe tbody tr th {\n",
       "        vertical-align: top;\n",
       "    }\n",
       "\n",
       "    .dataframe thead th {\n",
       "        text-align: right;\n",
       "    }\n",
       "</style>\n",
       "<table border=\"1\" class=\"dataframe\">\n",
       "  <thead>\n",
       "    <tr style=\"text-align: right;\">\n",
       "      <th></th>\n",
       "      <th>ngram</th>\n",
       "      <th>total_count</th>\n",
       "      <th>up_count</th>\n",
       "      <th>down_count</th>\n",
       "    </tr>\n",
       "  </thead>\n",
       "  <tbody>\n",
       "    <tr>\n",
       "      <th>8575</th>\n",
       "      <td>축연/NNG</td>\n",
       "      <td>123</td>\n",
       "      <td>123</td>\n",
       "      <td>0</td>\n",
       "    </tr>\n",
       "    <tr>\n",
       "      <th>10311</th>\n",
       "      <td>당지/NNG</td>\n",
       "      <td>19</td>\n",
       "      <td>18</td>\n",
       "      <td>0</td>\n",
       "    </tr>\n",
       "    <tr>\n",
       "      <th>19375</th>\n",
       "      <td>레트/NNG</td>\n",
       "      <td>21</td>\n",
       "      <td>18</td>\n",
       "      <td>0</td>\n",
       "    </tr>\n",
       "    <tr>\n",
       "      <th>24726</th>\n",
       "      <td>긴급조정권/NNG</td>\n",
       "      <td>23</td>\n",
       "      <td>23</td>\n",
       "      <td>0</td>\n",
       "    </tr>\n",
       "    <tr>\n",
       "      <th>25307</th>\n",
       "      <td>예상/NNG;채권시장/NNG;강세/NNG</td>\n",
       "      <td>17</td>\n",
       "      <td>17</td>\n",
       "      <td>0</td>\n",
       "    </tr>\n",
       "    <tr>\n",
       "      <th>...</th>\n",
       "      <td>...</td>\n",
       "      <td>...</td>\n",
       "      <td>...</td>\n",
       "      <td>...</td>\n",
       "    </tr>\n",
       "    <tr>\n",
       "      <th>132904</th>\n",
       "      <td>비즈니스/NNG;금리/NNG;인상/NNG</td>\n",
       "      <td>17</td>\n",
       "      <td>1</td>\n",
       "      <td>0</td>\n",
       "    </tr>\n",
       "    <tr>\n",
       "      <th>133303</th>\n",
       "      <td>깔대/VV</td>\n",
       "      <td>19</td>\n",
       "      <td>7</td>\n",
       "      <td>0</td>\n",
       "    </tr>\n",
       "    <tr>\n",
       "      <th>139548</th>\n",
       "      <td>감계/NNG</td>\n",
       "      <td>28</td>\n",
       "      <td>28</td>\n",
       "      <td>0</td>\n",
       "    </tr>\n",
       "    <tr>\n",
       "      <th>142809</th>\n",
       "      <td>경제/NNG;전망/NNG;단기/NNG;위험/NNG;감소/NNG</td>\n",
       "      <td>21</td>\n",
       "      <td>3</td>\n",
       "      <td>0</td>\n",
       "    </tr>\n",
       "    <tr>\n",
       "      <th>144140</th>\n",
       "      <td>酉年/NNG</td>\n",
       "      <td>24</td>\n",
       "      <td>23</td>\n",
       "      <td>0</td>\n",
       "    </tr>\n",
       "  </tbody>\n",
       "</table>\n",
       "<p>402 rows × 4 columns</p>\n",
       "</div>"
      ],
      "text/plain": [
       "                                     ngram total_count up_count down_count\n",
       "8575                                축연/NNG         123      123          0\n",
       "10311                               당지/NNG          19       18          0\n",
       "19375                               레트/NNG          21       18          0\n",
       "24726                            긴급조정권/NNG          23       23          0\n",
       "25307               예상/NNG;채권시장/NNG;강세/NNG          17       17          0\n",
       "...                                    ...         ...      ...        ...\n",
       "132904              비즈니스/NNG;금리/NNG;인상/NNG          17        1          0\n",
       "133303                               깔대/VV          19        7          0\n",
       "139548                              감계/NNG          28       28          0\n",
       "142809  경제/NNG;전망/NNG;단기/NNG;위험/NNG;감소/NNG          21        3          0\n",
       "144140                              酉年/NNG          24       23          0\n",
       "\n",
       "[402 rows x 4 columns]"
      ]
     },
     "execution_count": 13,
     "metadata": {},
     "output_type": "execute_result"
    }
   ],
   "source": [
    "# down_count가 0인 것 확인하기---------------------------------------------------------------------\n",
    "# bayes인 것 확인 팀원들한테\n",
    "df_polar_score.info()\n",
    "df_polar_score[df_polar_score['down_count']==0]"
   ]
  },
  {
   "cell_type": "code",
   "execution_count": 14,
   "metadata": {},
   "outputs": [
    {
     "name": "stderr",
     "output_type": "stream",
     "text": [
      "C:\\Users\\180309\\anaconda3\\envs\\mulcam_b\\lib\\site-packages\\pandas\\core\\indexing.py:671: SettingWithCopyWarning: \n",
      "A value is trying to be set on a copy of a slice from a DataFrame\n",
      "\n",
      "See the caveats in the documentation: https://pandas.pydata.org/pandas-docs/stable/user_guide/indexing.html#returning-a-view-versus-a-copy\n",
      "  self._setitem_with_indexer(indexer, value)\n"
     ]
    }
   ],
   "source": [
    "# 스팸 필터링 만들기\n",
    "import numpy as np\n",
    "\n",
    "df_polar_score['bayes_up'] = np.zeros(len(df_polar_score))\n",
    "df_polar_score['bayes_down'] = np.zeros(len(df_polar_score))\n",
    "\n",
    "total_up = df_polar_score['up_count'].sum()\n",
    "total_down = df_polar_score['down_count'].sum()\n",
    "\n",
    "for i in range(len(df_polar_score)):\n",
    "    df_polar_score['bayes_up'].iloc[i] = (0.5 + df_polar_score['up_count'].iloc[i])/ (2 *0.5 + total_up)\n",
    "    df_polar_score['bayes_down'].iloc[i] = (0.5 + df_polar_score['down_count'].iloc[i]) / (2 *0.5 + total_down)"
   ]
  },
  {
   "cell_type": "code",
   "execution_count": 15,
   "metadata": {},
   "outputs": [
    {
     "data": {
      "text/html": [
       "<div>\n",
       "<style scoped>\n",
       "    .dataframe tbody tr th:only-of-type {\n",
       "        vertical-align: middle;\n",
       "    }\n",
       "\n",
       "    .dataframe tbody tr th {\n",
       "        vertical-align: top;\n",
       "    }\n",
       "\n",
       "    .dataframe thead th {\n",
       "        text-align: right;\n",
       "    }\n",
       "</style>\n",
       "<table border=\"1\" class=\"dataframe\">\n",
       "  <thead>\n",
       "    <tr style=\"text-align: right;\">\n",
       "      <th></th>\n",
       "      <th>ngram</th>\n",
       "      <th>total_count</th>\n",
       "      <th>up_count</th>\n",
       "      <th>down_count</th>\n",
       "      <th>bayes_up</th>\n",
       "      <th>bayes_down</th>\n",
       "      <th>polarity_score</th>\n",
       "      <th>polarity</th>\n",
       "    </tr>\n",
       "  </thead>\n",
       "  <tbody>\n",
       "    <tr>\n",
       "      <th>0</th>\n",
       "      <td>은행/NNG</td>\n",
       "      <td>133309</td>\n",
       "      <td>55715</td>\n",
       "      <td>53252</td>\n",
       "      <td>0.003149</td>\n",
       "      <td>0.003214</td>\n",
       "      <td>0.979816</td>\n",
       "      <td>Neutral</td>\n",
       "    </tr>\n",
       "    <tr>\n",
       "      <th>1</th>\n",
       "      <td>수수료/NNG</td>\n",
       "      <td>13853</td>\n",
       "      <td>5458</td>\n",
       "      <td>5410</td>\n",
       "      <td>0.000309</td>\n",
       "      <td>0.000327</td>\n",
       "      <td>0.944810</td>\n",
       "      <td>Neutral</td>\n",
       "    </tr>\n",
       "    <tr>\n",
       "      <th>2</th>\n",
       "      <td>수입/NNG</td>\n",
       "      <td>16050</td>\n",
       "      <td>6846</td>\n",
       "      <td>6011</td>\n",
       "      <td>0.000387</td>\n",
       "      <td>0.000363</td>\n",
       "      <td>1.066582</td>\n",
       "      <td>Neutral</td>\n",
       "    </tr>\n",
       "    <tr>\n",
       "      <th>3</th>\n",
       "      <td>급급/NNG</td>\n",
       "      <td>320</td>\n",
       "      <td>127</td>\n",
       "      <td>128</td>\n",
       "      <td>0.000007</td>\n",
       "      <td>0.000008</td>\n",
       "      <td>0.929214</td>\n",
       "      <td>Neutral</td>\n",
       "    </tr>\n",
       "    <tr>\n",
       "      <th>4</th>\n",
       "      <td>일단/MAG</td>\n",
       "      <td>10132</td>\n",
       "      <td>4254</td>\n",
       "      <td>4005</td>\n",
       "      <td>0.000240</td>\n",
       "      <td>0.000242</td>\n",
       "      <td>0.994719</td>\n",
       "      <td>Neutral</td>\n",
       "    </tr>\n",
       "    <tr>\n",
       "      <th>5</th>\n",
       "      <td>팔/VV</td>\n",
       "      <td>13295</td>\n",
       "      <td>5051</td>\n",
       "      <td>5414</td>\n",
       "      <td>0.000286</td>\n",
       "      <td>0.000327</td>\n",
       "      <td>0.873717</td>\n",
       "      <td>Neutral</td>\n",
       "    </tr>\n",
       "    <tr>\n",
       "      <th>6</th>\n",
       "      <td>상품/NNG</td>\n",
       "      <td>47915</td>\n",
       "      <td>19554</td>\n",
       "      <td>19061</td>\n",
       "      <td>0.001105</td>\n",
       "      <td>0.001151</td>\n",
       "      <td>0.960723</td>\n",
       "      <td>Neutral</td>\n",
       "    </tr>\n",
       "    <tr>\n",
       "      <th>7</th>\n",
       "      <td>판매/NNG</td>\n",
       "      <td>37915</td>\n",
       "      <td>16369</td>\n",
       "      <td>14039</td>\n",
       "      <td>0.000925</td>\n",
       "      <td>0.000847</td>\n",
       "      <td>1.091924</td>\n",
       "      <td>Neutral</td>\n",
       "    </tr>\n",
       "    <tr>\n",
       "      <th>8</th>\n",
       "      <td>경쟁/NNG</td>\n",
       "      <td>13490</td>\n",
       "      <td>5854</td>\n",
       "      <td>5209</td>\n",
       "      <td>0.000331</td>\n",
       "      <td>0.000314</td>\n",
       "      <td>1.052452</td>\n",
       "      <td>Neutral</td>\n",
       "    </tr>\n",
       "    <tr>\n",
       "      <th>9</th>\n",
       "      <td>나서/VV</td>\n",
       "      <td>47340</td>\n",
       "      <td>18343</td>\n",
       "      <td>19154</td>\n",
       "      <td>0.001037</td>\n",
       "      <td>0.001156</td>\n",
       "      <td>0.896850</td>\n",
       "      <td>Neutral</td>\n",
       "    </tr>\n",
       "  </tbody>\n",
       "</table>\n",
       "</div>"
      ],
      "text/plain": [
       "     ngram total_count up_count down_count  bayes_up  bayes_down  \\\n",
       "0   은행/NNG      133309    55715      53252  0.003149    0.003214   \n",
       "1  수수료/NNG       13853     5458       5410  0.000309    0.000327   \n",
       "2   수입/NNG       16050     6846       6011  0.000387    0.000363   \n",
       "3   급급/NNG         320      127        128  0.000007    0.000008   \n",
       "4   일단/MAG       10132     4254       4005  0.000240    0.000242   \n",
       "5     팔/VV       13295     5051       5414  0.000286    0.000327   \n",
       "6   상품/NNG       47915    19554      19061  0.001105    0.001151   \n",
       "7   판매/NNG       37915    16369      14039  0.000925    0.000847   \n",
       "8   경쟁/NNG       13490     5854       5209  0.000331    0.000314   \n",
       "9    나서/VV       47340    18343      19154  0.001037    0.001156   \n",
       "\n",
       "   polarity_score polarity  \n",
       "0        0.979816  Neutral  \n",
       "1        0.944810  Neutral  \n",
       "2        1.066582  Neutral  \n",
       "3        0.929214  Neutral  \n",
       "4        0.994719  Neutral  \n",
       "5        0.873717  Neutral  \n",
       "6        0.960723  Neutral  \n",
       "7        1.091924  Neutral  \n",
       "8        1.052452  Neutral  \n",
       "9        0.896850  Neutral  "
      ]
     },
     "execution_count": 15,
     "metadata": {},
     "output_type": "execute_result"
    }
   ],
   "source": [
    "df_polar_score['polarity_score'] = df_polar_score['bayes_up']/df_polar_score['bayes_down']\n",
    "df_polar_score['polarity'] = np.zeros(len(df_polar_score))\n",
    "\n",
    "for i in range(len(df_polar_score)):\n",
    "    if df_polar_score['polarity_score'].iloc[i] > 1.3:\n",
    "        df_polar_score['polarity'].iloc[i] = 'Hawkish'\n",
    "    elif df_polar_score['polarity_score'].iloc[i] < (1/1.3):\n",
    "        df_polar_score['polarity'].iloc[i] = 'Dovish' \n",
    "    else:\n",
    "        df_polar_score['polarity'].iloc[i] = 'Neutral'\n",
    "df_polar_score[:10]"
   ]
  },
  {
   "cell_type": "code",
   "execution_count": 16,
   "metadata": {},
   "outputs": [
    {
     "data": {
      "text/plain": [
       "(12521, 14127)"
      ]
     },
     "execution_count": 16,
     "metadata": {},
     "output_type": "execute_result"
    }
   ],
   "source": [
    "df_hawkish = df_polar_score[df_polar_score['polarity']=='Hawkish']\n",
    "df_dovish = df_polar_score[df_polar_score['polarity']=='Dovish']\n",
    "len(df_hawkish), len(df_dovish)"
   ]
  },
  {
   "cell_type": "code",
   "execution_count": 17,
   "metadata": {},
   "outputs": [],
   "source": [
    "df_hawkish.to_csv('version1_df_hawkish_dict.csv',index=False)\n",
    "df_dovish.to_csv('version1_df_dovish_dict.csv',index=False)"
   ]
  },
  {
   "cell_type": "code",
   "execution_count": null,
   "metadata": {},
   "outputs": [],
   "source": []
  },
  {
   "cell_type": "code",
   "execution_count": null,
   "metadata": {},
   "outputs": [],
   "source": []
  },
  {
   "cell_type": "code",
   "execution_count": null,
   "metadata": {},
   "outputs": [],
   "source": []
  },
  {
   "cell_type": "code",
   "execution_count": null,
   "metadata": {},
   "outputs": [],
   "source": []
  },
  {
   "cell_type": "code",
   "execution_count": null,
   "metadata": {},
   "outputs": [],
   "source": []
  }
 ],
 "metadata": {
  "kernelspec": {
   "display_name": "Python 3",
   "language": "python",
   "name": "python3"
  },
  "language_info": {
   "codemirror_mode": {
    "name": "ipython",
    "version": 3
   },
   "file_extension": ".py",
   "mimetype": "text/x-python",
   "name": "python",
   "nbconvert_exporter": "python",
   "pygments_lexer": "ipython3",
   "version": "3.7.7"
  }
 },
 "nbformat": 4,
 "nbformat_minor": 4
}
