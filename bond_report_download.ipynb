{
 "cells": [
  {
   "cell_type": "code",
   "execution_count": 75,
   "metadata": {},
   "outputs": [
    {
     "name": "stdout",
     "output_type": "stream",
     "text": [
      "200724_1595551132820.pdf\n",
      "200724_1595550590062.pdf\n",
      "200722_1595377562785.pdf\n",
      "200720_1595205128882.pdf\n",
      "200717_1594947134511.pdf\n",
      "200717_1594945897691.pdf\n",
      "200716_1594858177174.pdf\n",
      "200715_1594773162996.pdf\n",
      "200715_1594772578176.pdf\n",
      "200714_1594685992786.pdf\n",
      "200713_1594600234934.pdf\n",
      "200710_1594344329382.pdf\n",
      "200710_1594342738474.pdf\n"
     ]
    },
    {
     "ename": "KeyboardInterrupt",
     "evalue": "",
     "output_type": "error",
     "traceback": [
      "\u001b[1;31m---------------------------------------------------------------------------\u001b[0m",
      "\u001b[1;31mKeyboardInterrupt\u001b[0m                         Traceback (most recent call last)",
      "\u001b[1;32m<ipython-input-75-932e9dbdd37e>\u001b[0m in \u001b[0;36m<module>\u001b[1;34m\u001b[0m\n\u001b[0;32m     52\u001b[0m     \u001b[0msavename\u001b[0m \u001b[1;33m=\u001b[0m \u001b[0mstr\u001b[0m\u001b[1;33m(\u001b[0m\u001b[0mfile_date\u001b[0m \u001b[1;33m+\u001b[0m \u001b[1;34m'_'\u001b[0m \u001b[1;33m+\u001b[0m \u001b[0mfile_name\u001b[0m\u001b[1;33m)\u001b[0m\u001b[1;33m\u001b[0m\u001b[1;33m\u001b[0m\u001b[0m\n\u001b[0;32m     53\u001b[0m     \u001b[0mprint\u001b[0m\u001b[1;33m(\u001b[0m\u001b[0msavename\u001b[0m\u001b[1;33m)\u001b[0m\u001b[1;33m\u001b[0m\u001b[1;33m\u001b[0m\u001b[0m\n\u001b[1;32m---> 54\u001b[1;33m     \u001b[0mrequest\u001b[0m\u001b[1;33m.\u001b[0m\u001b[0murlretrieve\u001b[0m\u001b[1;33m(\u001b[0m\u001b[0mfile_name_tmp\u001b[0m\u001b[1;33m,\u001b[0m\u001b[0mDOWNLOAD_DIRECTORY\u001b[0m\u001b[1;33m+\u001b[0m\u001b[0msavename\u001b[0m\u001b[1;33m)\u001b[0m\u001b[1;33m\u001b[0m\u001b[1;33m\u001b[0m\u001b[0m\n\u001b[0m",
      "\u001b[1;32m~\\Anaconda3\\lib\\urllib\\request.py\u001b[0m in \u001b[0;36murlretrieve\u001b[1;34m(url, filename, reporthook, data)\u001b[0m\n\u001b[0;32m    245\u001b[0m     \u001b[0murl_type\u001b[0m\u001b[1;33m,\u001b[0m \u001b[0mpath\u001b[0m \u001b[1;33m=\u001b[0m \u001b[0msplittype\u001b[0m\u001b[1;33m(\u001b[0m\u001b[0murl\u001b[0m\u001b[1;33m)\u001b[0m\u001b[1;33m\u001b[0m\u001b[1;33m\u001b[0m\u001b[0m\n\u001b[0;32m    246\u001b[0m \u001b[1;33m\u001b[0m\u001b[0m\n\u001b[1;32m--> 247\u001b[1;33m     \u001b[1;32mwith\u001b[0m \u001b[0mcontextlib\u001b[0m\u001b[1;33m.\u001b[0m\u001b[0mclosing\u001b[0m\u001b[1;33m(\u001b[0m\u001b[0murlopen\u001b[0m\u001b[1;33m(\u001b[0m\u001b[0murl\u001b[0m\u001b[1;33m,\u001b[0m \u001b[0mdata\u001b[0m\u001b[1;33m)\u001b[0m\u001b[1;33m)\u001b[0m \u001b[1;32mas\u001b[0m \u001b[0mfp\u001b[0m\u001b[1;33m:\u001b[0m\u001b[1;33m\u001b[0m\u001b[1;33m\u001b[0m\u001b[0m\n\u001b[0m\u001b[0;32m    248\u001b[0m         \u001b[0mheaders\u001b[0m \u001b[1;33m=\u001b[0m \u001b[0mfp\u001b[0m\u001b[1;33m.\u001b[0m\u001b[0minfo\u001b[0m\u001b[1;33m(\u001b[0m\u001b[1;33m)\u001b[0m\u001b[1;33m\u001b[0m\u001b[1;33m\u001b[0m\u001b[0m\n\u001b[0;32m    249\u001b[0m \u001b[1;33m\u001b[0m\u001b[0m\n",
      "\u001b[1;32m~\\Anaconda3\\lib\\urllib\\request.py\u001b[0m in \u001b[0;36murlopen\u001b[1;34m(url, data, timeout, cafile, capath, cadefault, context)\u001b[0m\n\u001b[0;32m    220\u001b[0m     \u001b[1;32melse\u001b[0m\u001b[1;33m:\u001b[0m\u001b[1;33m\u001b[0m\u001b[1;33m\u001b[0m\u001b[0m\n\u001b[0;32m    221\u001b[0m         \u001b[0mopener\u001b[0m \u001b[1;33m=\u001b[0m \u001b[0m_opener\u001b[0m\u001b[1;33m\u001b[0m\u001b[1;33m\u001b[0m\u001b[0m\n\u001b[1;32m--> 222\u001b[1;33m     \u001b[1;32mreturn\u001b[0m \u001b[0mopener\u001b[0m\u001b[1;33m.\u001b[0m\u001b[0mopen\u001b[0m\u001b[1;33m(\u001b[0m\u001b[0murl\u001b[0m\u001b[1;33m,\u001b[0m \u001b[0mdata\u001b[0m\u001b[1;33m,\u001b[0m \u001b[0mtimeout\u001b[0m\u001b[1;33m)\u001b[0m\u001b[1;33m\u001b[0m\u001b[1;33m\u001b[0m\u001b[0m\n\u001b[0m\u001b[0;32m    223\u001b[0m \u001b[1;33m\u001b[0m\u001b[0m\n\u001b[0;32m    224\u001b[0m \u001b[1;32mdef\u001b[0m \u001b[0minstall_opener\u001b[0m\u001b[1;33m(\u001b[0m\u001b[0mopener\u001b[0m\u001b[1;33m)\u001b[0m\u001b[1;33m:\u001b[0m\u001b[1;33m\u001b[0m\u001b[1;33m\u001b[0m\u001b[0m\n",
      "\u001b[1;32m~\\Anaconda3\\lib\\urllib\\request.py\u001b[0m in \u001b[0;36mopen\u001b[1;34m(self, fullurl, data, timeout)\u001b[0m\n\u001b[0;32m    523\u001b[0m             \u001b[0mreq\u001b[0m \u001b[1;33m=\u001b[0m \u001b[0mmeth\u001b[0m\u001b[1;33m(\u001b[0m\u001b[0mreq\u001b[0m\u001b[1;33m)\u001b[0m\u001b[1;33m\u001b[0m\u001b[1;33m\u001b[0m\u001b[0m\n\u001b[0;32m    524\u001b[0m \u001b[1;33m\u001b[0m\u001b[0m\n\u001b[1;32m--> 525\u001b[1;33m         \u001b[0mresponse\u001b[0m \u001b[1;33m=\u001b[0m \u001b[0mself\u001b[0m\u001b[1;33m.\u001b[0m\u001b[0m_open\u001b[0m\u001b[1;33m(\u001b[0m\u001b[0mreq\u001b[0m\u001b[1;33m,\u001b[0m \u001b[0mdata\u001b[0m\u001b[1;33m)\u001b[0m\u001b[1;33m\u001b[0m\u001b[1;33m\u001b[0m\u001b[0m\n\u001b[0m\u001b[0;32m    526\u001b[0m \u001b[1;33m\u001b[0m\u001b[0m\n\u001b[0;32m    527\u001b[0m         \u001b[1;31m# post-process response\u001b[0m\u001b[1;33m\u001b[0m\u001b[1;33m\u001b[0m\u001b[1;33m\u001b[0m\u001b[0m\n",
      "\u001b[1;32m~\\Anaconda3\\lib\\urllib\\request.py\u001b[0m in \u001b[0;36m_open\u001b[1;34m(self, req, data)\u001b[0m\n\u001b[0;32m    541\u001b[0m         \u001b[0mprotocol\u001b[0m \u001b[1;33m=\u001b[0m \u001b[0mreq\u001b[0m\u001b[1;33m.\u001b[0m\u001b[0mtype\u001b[0m\u001b[1;33m\u001b[0m\u001b[1;33m\u001b[0m\u001b[0m\n\u001b[0;32m    542\u001b[0m         result = self._call_chain(self.handle_open, protocol, protocol +\n\u001b[1;32m--> 543\u001b[1;33m                                   '_open', req)\n\u001b[0m\u001b[0;32m    544\u001b[0m         \u001b[1;32mif\u001b[0m \u001b[0mresult\u001b[0m\u001b[1;33m:\u001b[0m\u001b[1;33m\u001b[0m\u001b[1;33m\u001b[0m\u001b[0m\n\u001b[0;32m    545\u001b[0m             \u001b[1;32mreturn\u001b[0m \u001b[0mresult\u001b[0m\u001b[1;33m\u001b[0m\u001b[1;33m\u001b[0m\u001b[0m\n",
      "\u001b[1;32m~\\Anaconda3\\lib\\urllib\\request.py\u001b[0m in \u001b[0;36m_call_chain\u001b[1;34m(self, chain, kind, meth_name, *args)\u001b[0m\n\u001b[0;32m    501\u001b[0m         \u001b[1;32mfor\u001b[0m \u001b[0mhandler\u001b[0m \u001b[1;32min\u001b[0m \u001b[0mhandlers\u001b[0m\u001b[1;33m:\u001b[0m\u001b[1;33m\u001b[0m\u001b[1;33m\u001b[0m\u001b[0m\n\u001b[0;32m    502\u001b[0m             \u001b[0mfunc\u001b[0m \u001b[1;33m=\u001b[0m \u001b[0mgetattr\u001b[0m\u001b[1;33m(\u001b[0m\u001b[0mhandler\u001b[0m\u001b[1;33m,\u001b[0m \u001b[0mmeth_name\u001b[0m\u001b[1;33m)\u001b[0m\u001b[1;33m\u001b[0m\u001b[1;33m\u001b[0m\u001b[0m\n\u001b[1;32m--> 503\u001b[1;33m             \u001b[0mresult\u001b[0m \u001b[1;33m=\u001b[0m \u001b[0mfunc\u001b[0m\u001b[1;33m(\u001b[0m\u001b[1;33m*\u001b[0m\u001b[0margs\u001b[0m\u001b[1;33m)\u001b[0m\u001b[1;33m\u001b[0m\u001b[1;33m\u001b[0m\u001b[0m\n\u001b[0m\u001b[0;32m    504\u001b[0m             \u001b[1;32mif\u001b[0m \u001b[0mresult\u001b[0m \u001b[1;32mis\u001b[0m \u001b[1;32mnot\u001b[0m \u001b[1;32mNone\u001b[0m\u001b[1;33m:\u001b[0m\u001b[1;33m\u001b[0m\u001b[1;33m\u001b[0m\u001b[0m\n\u001b[0;32m    505\u001b[0m                 \u001b[1;32mreturn\u001b[0m \u001b[0mresult\u001b[0m\u001b[1;33m\u001b[0m\u001b[1;33m\u001b[0m\u001b[0m\n",
      "\u001b[1;32m~\\Anaconda3\\lib\\urllib\\request.py\u001b[0m in \u001b[0;36mhttps_open\u001b[1;34m(self, req)\u001b[0m\n\u001b[0;32m   1358\u001b[0m         \u001b[1;32mdef\u001b[0m \u001b[0mhttps_open\u001b[0m\u001b[1;33m(\u001b[0m\u001b[0mself\u001b[0m\u001b[1;33m,\u001b[0m \u001b[0mreq\u001b[0m\u001b[1;33m)\u001b[0m\u001b[1;33m:\u001b[0m\u001b[1;33m\u001b[0m\u001b[1;33m\u001b[0m\u001b[0m\n\u001b[0;32m   1359\u001b[0m             return self.do_open(http.client.HTTPSConnection, req,\n\u001b[1;32m-> 1360\u001b[1;33m                 context=self._context, check_hostname=self._check_hostname)\n\u001b[0m\u001b[0;32m   1361\u001b[0m \u001b[1;33m\u001b[0m\u001b[0m\n\u001b[0;32m   1362\u001b[0m         \u001b[0mhttps_request\u001b[0m \u001b[1;33m=\u001b[0m \u001b[0mAbstractHTTPHandler\u001b[0m\u001b[1;33m.\u001b[0m\u001b[0mdo_request_\u001b[0m\u001b[1;33m\u001b[0m\u001b[1;33m\u001b[0m\u001b[0m\n",
      "\u001b[1;32m~\\Anaconda3\\lib\\urllib\\request.py\u001b[0m in \u001b[0;36mdo_open\u001b[1;34m(self, http_class, req, **http_conn_args)\u001b[0m\n\u001b[0;32m   1283\u001b[0m \u001b[1;33m\u001b[0m\u001b[0m\n\u001b[0;32m   1284\u001b[0m         \u001b[1;31m# will parse host:port\u001b[0m\u001b[1;33m\u001b[0m\u001b[1;33m\u001b[0m\u001b[1;33m\u001b[0m\u001b[0m\n\u001b[1;32m-> 1285\u001b[1;33m         \u001b[0mh\u001b[0m \u001b[1;33m=\u001b[0m \u001b[0mhttp_class\u001b[0m\u001b[1;33m(\u001b[0m\u001b[0mhost\u001b[0m\u001b[1;33m,\u001b[0m \u001b[0mtimeout\u001b[0m\u001b[1;33m=\u001b[0m\u001b[0mreq\u001b[0m\u001b[1;33m.\u001b[0m\u001b[0mtimeout\u001b[0m\u001b[1;33m,\u001b[0m \u001b[1;33m**\u001b[0m\u001b[0mhttp_conn_args\u001b[0m\u001b[1;33m)\u001b[0m\u001b[1;33m\u001b[0m\u001b[1;33m\u001b[0m\u001b[0m\n\u001b[0m\u001b[0;32m   1286\u001b[0m         \u001b[0mh\u001b[0m\u001b[1;33m.\u001b[0m\u001b[0mset_debuglevel\u001b[0m\u001b[1;33m(\u001b[0m\u001b[0mself\u001b[0m\u001b[1;33m.\u001b[0m\u001b[0m_debuglevel\u001b[0m\u001b[1;33m)\u001b[0m\u001b[1;33m\u001b[0m\u001b[1;33m\u001b[0m\u001b[0m\n\u001b[0;32m   1287\u001b[0m \u001b[1;33m\u001b[0m\u001b[0m\n",
      "\u001b[1;32m~\\Anaconda3\\lib\\http\\client.py\u001b[0m in \u001b[0;36m__init__\u001b[1;34m(self, host, port, key_file, cert_file, timeout, source_address, context, check_hostname, blocksize)\u001b[0m\n\u001b[0;32m   1381\u001b[0m             \u001b[0mself\u001b[0m\u001b[1;33m.\u001b[0m\u001b[0mcert_file\u001b[0m \u001b[1;33m=\u001b[0m \u001b[0mcert_file\u001b[0m\u001b[1;33m\u001b[0m\u001b[1;33m\u001b[0m\u001b[0m\n\u001b[0;32m   1382\u001b[0m             \u001b[1;32mif\u001b[0m \u001b[0mcontext\u001b[0m \u001b[1;32mis\u001b[0m \u001b[1;32mNone\u001b[0m\u001b[1;33m:\u001b[0m\u001b[1;33m\u001b[0m\u001b[1;33m\u001b[0m\u001b[0m\n\u001b[1;32m-> 1383\u001b[1;33m                 \u001b[0mcontext\u001b[0m \u001b[1;33m=\u001b[0m \u001b[0mssl\u001b[0m\u001b[1;33m.\u001b[0m\u001b[0m_create_default_https_context\u001b[0m\u001b[1;33m(\u001b[0m\u001b[1;33m)\u001b[0m\u001b[1;33m\u001b[0m\u001b[1;33m\u001b[0m\u001b[0m\n\u001b[0m\u001b[0;32m   1384\u001b[0m                 \u001b[1;31m# enable PHA for TLS 1.3 connections if available\u001b[0m\u001b[1;33m\u001b[0m\u001b[1;33m\u001b[0m\u001b[1;33m\u001b[0m\u001b[0m\n\u001b[0;32m   1385\u001b[0m                 \u001b[1;32mif\u001b[0m \u001b[0mcontext\u001b[0m\u001b[1;33m.\u001b[0m\u001b[0mpost_handshake_auth\u001b[0m \u001b[1;32mis\u001b[0m \u001b[1;32mnot\u001b[0m \u001b[1;32mNone\u001b[0m\u001b[1;33m:\u001b[0m\u001b[1;33m\u001b[0m\u001b[1;33m\u001b[0m\u001b[0m\n",
      "\u001b[1;32m~\\Anaconda3\\lib\\ssl.py\u001b[0m in \u001b[0;36mcreate_default_context\u001b[1;34m(purpose, cafile, capath, cadata)\u001b[0m\n\u001b[0;32m    587\u001b[0m         \u001b[1;31m# CERT_OPTIONAL or CERT_REQUIRED. Let's try to load default system\u001b[0m\u001b[1;33m\u001b[0m\u001b[1;33m\u001b[0m\u001b[1;33m\u001b[0m\u001b[0m\n\u001b[0;32m    588\u001b[0m         \u001b[1;31m# root CA certificates for the given purpose. This may fail silently.\u001b[0m\u001b[1;33m\u001b[0m\u001b[1;33m\u001b[0m\u001b[1;33m\u001b[0m\u001b[0m\n\u001b[1;32m--> 589\u001b[1;33m         \u001b[0mcontext\u001b[0m\u001b[1;33m.\u001b[0m\u001b[0mload_default_certs\u001b[0m\u001b[1;33m(\u001b[0m\u001b[0mpurpose\u001b[0m\u001b[1;33m)\u001b[0m\u001b[1;33m\u001b[0m\u001b[1;33m\u001b[0m\u001b[0m\n\u001b[0m\u001b[0;32m    590\u001b[0m     \u001b[1;32mreturn\u001b[0m \u001b[0mcontext\u001b[0m\u001b[1;33m\u001b[0m\u001b[1;33m\u001b[0m\u001b[0m\n\u001b[0;32m    591\u001b[0m \u001b[1;33m\u001b[0m\u001b[0m\n",
      "\u001b[1;32m~\\Anaconda3\\lib\\ssl.py\u001b[0m in \u001b[0;36mload_default_certs\u001b[1;34m(self, purpose)\u001b[0m\n\u001b[0;32m    488\u001b[0m         \u001b[1;32mif\u001b[0m \u001b[0msys\u001b[0m\u001b[1;33m.\u001b[0m\u001b[0mplatform\u001b[0m \u001b[1;33m==\u001b[0m \u001b[1;34m\"win32\"\u001b[0m\u001b[1;33m:\u001b[0m\u001b[1;33m\u001b[0m\u001b[1;33m\u001b[0m\u001b[0m\n\u001b[0;32m    489\u001b[0m             \u001b[1;32mfor\u001b[0m \u001b[0mstorename\u001b[0m \u001b[1;32min\u001b[0m \u001b[0mself\u001b[0m\u001b[1;33m.\u001b[0m\u001b[0m_windows_cert_stores\u001b[0m\u001b[1;33m:\u001b[0m\u001b[1;33m\u001b[0m\u001b[1;33m\u001b[0m\u001b[0m\n\u001b[1;32m--> 490\u001b[1;33m                 \u001b[0mself\u001b[0m\u001b[1;33m.\u001b[0m\u001b[0m_load_windows_store_certs\u001b[0m\u001b[1;33m(\u001b[0m\u001b[0mstorename\u001b[0m\u001b[1;33m,\u001b[0m \u001b[0mpurpose\u001b[0m\u001b[1;33m)\u001b[0m\u001b[1;33m\u001b[0m\u001b[1;33m\u001b[0m\u001b[0m\n\u001b[0m\u001b[0;32m    491\u001b[0m         \u001b[0mself\u001b[0m\u001b[1;33m.\u001b[0m\u001b[0mset_default_verify_paths\u001b[0m\u001b[1;33m(\u001b[0m\u001b[1;33m)\u001b[0m\u001b[1;33m\u001b[0m\u001b[1;33m\u001b[0m\u001b[0m\n\u001b[0;32m    492\u001b[0m \u001b[1;33m\u001b[0m\u001b[0m\n",
      "\u001b[1;32m~\\Anaconda3\\lib\\ssl.py\u001b[0m in \u001b[0;36m_load_windows_store_certs\u001b[1;34m(self, storename, purpose)\u001b[0m\n\u001b[0;32m    472\u001b[0m         \u001b[0mcerts\u001b[0m \u001b[1;33m=\u001b[0m \u001b[0mbytearray\u001b[0m\u001b[1;33m(\u001b[0m\u001b[1;33m)\u001b[0m\u001b[1;33m\u001b[0m\u001b[1;33m\u001b[0m\u001b[0m\n\u001b[0;32m    473\u001b[0m         \u001b[1;32mtry\u001b[0m\u001b[1;33m:\u001b[0m\u001b[1;33m\u001b[0m\u001b[1;33m\u001b[0m\u001b[0m\n\u001b[1;32m--> 474\u001b[1;33m             \u001b[1;32mfor\u001b[0m \u001b[0mcert\u001b[0m\u001b[1;33m,\u001b[0m \u001b[0mencoding\u001b[0m\u001b[1;33m,\u001b[0m \u001b[0mtrust\u001b[0m \u001b[1;32min\u001b[0m \u001b[0menum_certificates\u001b[0m\u001b[1;33m(\u001b[0m\u001b[0mstorename\u001b[0m\u001b[1;33m)\u001b[0m\u001b[1;33m:\u001b[0m\u001b[1;33m\u001b[0m\u001b[1;33m\u001b[0m\u001b[0m\n\u001b[0m\u001b[0;32m    475\u001b[0m                 \u001b[1;31m# CA certs are never PKCS#7 encoded\u001b[0m\u001b[1;33m\u001b[0m\u001b[1;33m\u001b[0m\u001b[1;33m\u001b[0m\u001b[0m\n\u001b[0;32m    476\u001b[0m                 \u001b[1;32mif\u001b[0m \u001b[0mencoding\u001b[0m \u001b[1;33m==\u001b[0m \u001b[1;34m\"x509_asn\"\u001b[0m\u001b[1;33m:\u001b[0m\u001b[1;33m\u001b[0m\u001b[1;33m\u001b[0m\u001b[0m\n",
      "\u001b[1;31mKeyboardInterrupt\u001b[0m: "
     ]
    }
   ],
   "source": [
    "import requests\n",
    "from bs4 import BeautifulSoup\n",
    "from urllib import request\n",
    "import re\n",
    "import pandas as pd\n",
    "\n",
    "## Constanct variables\n",
    "URL_PREFIX = \"https://finance.naver.com/research/debenture_list.nhn?&page=\"\n",
    "PDF_FILE_SELECTOR = \".file a\"\n",
    "\n",
    "DOWNLOAD_DIRECTORY = \"nlp_project\\\\data\\\\\"\n",
    "\n",
    "## custom util variables\n",
    "page_nums = range(1,2) # max = 126\n",
    "\n",
    "pdf_urls = []\n",
    "pdf_dates = []\n",
    "\n",
    "## main logic\n",
    "for n in page_nums:\n",
    "    url_with_pagenum = URL_PREFIX + str(n)\n",
    "\n",
    "    req = requests.get(url_with_pagenum)\n",
    "    html = req.text\n",
    "    soup = BeautifulSoup(html, 'html.parser')\n",
    "        \n",
    "    file_urls =  soup.select(PDF_FILE_SELECTOR)\n",
    "    tmp_file_dates =  soup.select(DATE_SELECTOR)\n",
    "   \n",
    "    for url in file_urls:\n",
    "       \n",
    "        if \"href\" in url.attrs:\n",
    "            pdf_urls.append(url[\"href\"])\n",
    "            \n",
    "    for tfd_num in range(0,len(tmp_file_dates)): \n",
    "        \n",
    "        if tfd_num%2==0:\n",
    "            #print(tfd_num,'은 짝수')\n",
    "            regex = re.compile(r'\\d\\d.\\d\\d.\\d\\d')\n",
    "            #print(tmp_file_dates[tfd_num:tfd_num+1])\n",
    "            match_obj = regex.search(str(tmp_file_dates[tfd_num:tfd_num+1]))\n",
    "            file_dates = match_obj.group()\n",
    "            #print(file_dates,'\\n')\n",
    "\n",
    "            pdf_dates.append(file_dates)\n",
    "    \n",
    "savename_df = pd.DataFrame({'date':pdf_dates,'url':pdf_urls}) #채권 리포트 고유 넘버와 날짜 매칭 \n",
    "for sn_num in range(0,len(savename_df)):\n",
    "    file_name_tmp = savename_df['url'][sn_num]  \n",
    "    file_name = file_name_tmp[file_name_tmp.rfind(\"/\")+1:len(file_name_tmp)]\n",
    "    file_date = savename_df['date'][sn_num][0:2]+savename_df['date'][sn_num][3:5]+savename_df['date'][sn_num][6:8]\n",
    "    savename = str(file_date + '_' + file_name)\n",
    "    print(savename)\n",
    "    request.urlretrieve(file_name_tmp,DOWNLOAD_DIRECTORY+savename)"
   ]
  },
  {
   "cell_type": "code",
   "execution_count": 71,
   "metadata": {},
   "outputs": [
    {
     "name": "stdout",
     "output_type": "stream",
     "text": [
      "C:\\Users\\coldp\\바탕 화면\\자연어처리\n"
     ]
    }
   ],
   "source": [
    "import os\n",
    "print(os.getcwd())\n",
    "os.chdir(\"C:/Users/coldp/바탕 화면/자연어처리\")"
   ]
  },
  {
   "cell_type": "code",
   "execution_count": 56,
   "metadata": {},
   "outputs": [
    {
     "data": {
      "text/plain": [
       "'1595551132820.pdf'"
      ]
     },
     "execution_count": 56,
     "metadata": {},
     "output_type": "execute_result"
    }
   ],
   "source": [
    "url = savename_df['url'][0]\n",
    "url[url.rfind(\"/\")+1:len(url)]"
   ]
  },
  {
   "cell_type": "code",
   "execution_count": 58,
   "metadata": {},
   "outputs": [
    {
     "data": {
      "text/plain": [
       "'200724'"
      ]
     },
     "execution_count": 58,
     "metadata": {},
     "output_type": "execute_result"
    }
   ],
   "source": [
    "savename_df['date'][0][0:2]+savename_df['date'][0][3:5]+savename_df['date'][0][6:8]"
   ]
  },
  {
   "cell_type": "code",
   "execution_count": 54,
   "metadata": {},
   "outputs": [
    {
     "data": {
      "text/html": [
       "<div>\n",
       "<style scoped>\n",
       "    .dataframe tbody tr th:only-of-type {\n",
       "        vertical-align: middle;\n",
       "    }\n",
       "\n",
       "    .dataframe tbody tr th {\n",
       "        vertical-align: top;\n",
       "    }\n",
       "\n",
       "    .dataframe thead th {\n",
       "        text-align: right;\n",
       "    }\n",
       "</style>\n",
       "<table border=\"1\" class=\"dataframe\">\n",
       "  <thead>\n",
       "    <tr style=\"text-align: right;\">\n",
       "      <th></th>\n",
       "      <th>date</th>\n",
       "      <th>url</th>\n",
       "    </tr>\n",
       "  </thead>\n",
       "  <tbody>\n",
       "    <tr>\n",
       "      <th>0</th>\n",
       "      <td>20.07.24</td>\n",
       "      <td>https://ssl.pstatic.net/imgstock/upload/resear...</td>\n",
       "    </tr>\n",
       "    <tr>\n",
       "      <th>1</th>\n",
       "      <td>20.07.24</td>\n",
       "      <td>https://ssl.pstatic.net/imgstock/upload/resear...</td>\n",
       "    </tr>\n",
       "    <tr>\n",
       "      <th>2</th>\n",
       "      <td>20.07.22</td>\n",
       "      <td>https://ssl.pstatic.net/imgstock/upload/resear...</td>\n",
       "    </tr>\n",
       "    <tr>\n",
       "      <th>3</th>\n",
       "      <td>20.07.20</td>\n",
       "      <td>https://ssl.pstatic.net/imgstock/upload/resear...</td>\n",
       "    </tr>\n",
       "    <tr>\n",
       "      <th>4</th>\n",
       "      <td>20.07.17</td>\n",
       "      <td>https://ssl.pstatic.net/imgstock/upload/resear...</td>\n",
       "    </tr>\n",
       "  </tbody>\n",
       "</table>\n",
       "</div>"
      ],
      "text/plain": [
       "       date                                                url\n",
       "0  20.07.24  https://ssl.pstatic.net/imgstock/upload/resear...\n",
       "1  20.07.24  https://ssl.pstatic.net/imgstock/upload/resear...\n",
       "2  20.07.22  https://ssl.pstatic.net/imgstock/upload/resear...\n",
       "3  20.07.20  https://ssl.pstatic.net/imgstock/upload/resear...\n",
       "4  20.07.17  https://ssl.pstatic.net/imgstock/upload/resear..."
      ]
     },
     "execution_count": 54,
     "metadata": {},
     "output_type": "execute_result"
    }
   ],
   "source": [
    "import pandas as pd\n",
    "savename_df = pd.DataFrame({'date':pdf_dates,'url':pdf_urls})\n",
    "savename_df.head()"
   ]
  },
  {
   "cell_type": "code",
   "execution_count": 47,
   "metadata": {},
   "outputs": [
    {
     "name": "stdout",
     "output_type": "stream",
     "text": [
      "60\n",
      "[<td class=\"date\" style=\"padding-left:5px\">20.07.24</td>, <td class=\"date\">33</td>, <td class=\"date\" style=\"padding-left:5px\">20.07.24</td>, <td class=\"date\">39</td>, <td class=\"date\" style=\"padding-left:5px\">20.07.22</td>, <td class=\"date\">173</td>, <td class=\"date\" style=\"padding-left:5px\">20.07.20</td>, <td class=\"date\">238</td>, <td class=\"date\" style=\"padding-left:5px\">20.07.17</td>, <td class=\"date\">377</td>, <td class=\"date\" style=\"padding-left:5px\">20.07.17</td>, <td class=\"date\">202</td>, <td class=\"date\" style=\"padding-left:5px\">20.07.16</td>, <td class=\"date\">174</td>, <td class=\"date\" style=\"padding-left:5px\">20.07.15</td>, <td class=\"date\">298</td>, <td class=\"date\" style=\"padding-left:5px\">20.07.15</td>, <td class=\"date\">203</td>, <td class=\"date\" style=\"padding-left:5px\">20.07.14</td>, <td class=\"date\">202</td>, <td class=\"date\" style=\"padding-left:5px\">20.07.13</td>, <td class=\"date\">149</td>, <td class=\"date\" style=\"padding-left:5px\">20.07.10</td>, <td class=\"date\">156</td>, <td class=\"date\" style=\"padding-left:5px\">20.07.10</td>, <td class=\"date\">167</td>, <td class=\"date\" style=\"padding-left:5px\">20.07.07</td>, <td class=\"date\">240</td>, <td class=\"date\" style=\"padding-left:5px\">20.07.06</td>, <td class=\"date\">177</td>, <td class=\"date\" style=\"padding-left:5px\">20.07.03</td>, <td class=\"date\">230</td>, <td class=\"date\" style=\"padding-left:5px\">20.07.03</td>, <td class=\"date\">245</td>, <td class=\"date\" style=\"padding-left:5px\">20.07.02</td>, <td class=\"date\">315</td>, <td class=\"date\" style=\"padding-left:5px\">20.07.01</td>, <td class=\"date\">149</td>, <td class=\"date\" style=\"padding-left:5px\">20.07.01</td>, <td class=\"date\">247</td>, <td class=\"date\" style=\"padding-left:5px\">20.06.30</td>, <td class=\"date\">214</td>, <td class=\"date\" style=\"padding-left:5px\">20.06.26</td>, <td class=\"date\">277</td>, <td class=\"date\" style=\"padding-left:5px\">20.06.26</td>, <td class=\"date\">266</td>, <td class=\"date\" style=\"padding-left:5px\">20.06.26</td>, <td class=\"date\">234</td>, <td class=\"date\" style=\"padding-left:5px\">20.06.24</td>, <td class=\"date\">263</td>, <td class=\"date\" style=\"padding-left:5px\">20.06.23</td>, <td class=\"date\">224</td>, <td class=\"date\" style=\"padding-left:5px\">20.06.22</td>, <td class=\"date\">258</td>, <td class=\"date\" style=\"padding-left:5px\">20.06.22</td>, <td class=\"date\">168</td>, <td class=\"date\" style=\"padding-left:5px\">20.06.19</td>, <td class=\"date\">311</td>, <td class=\"date\" style=\"padding-left:5px\">20.06.19</td>, <td class=\"date\">181</td>]\n",
      "0 은 짝수\n",
      "[<td class=\"date\" style=\"padding-left:5px\">20.07.24</td>]\n",
      "20.07.24 \n",
      "\n",
      "2 은 짝수\n",
      "[<td class=\"date\" style=\"padding-left:5px\">20.07.24</td>]\n",
      "20.07.24 \n",
      "\n",
      "4 은 짝수\n",
      "[<td class=\"date\" style=\"padding-left:5px\">20.07.22</td>]\n",
      "20.07.22 \n",
      "\n",
      "6 은 짝수\n",
      "[<td class=\"date\" style=\"padding-left:5px\">20.07.20</td>]\n",
      "20.07.20 \n",
      "\n",
      "8 은 짝수\n",
      "[<td class=\"date\" style=\"padding-left:5px\">20.07.17</td>]\n",
      "20.07.17 \n",
      "\n",
      "10 은 짝수\n",
      "[<td class=\"date\" style=\"padding-left:5px\">20.07.17</td>]\n",
      "20.07.17 \n",
      "\n",
      "12 은 짝수\n",
      "[<td class=\"date\" style=\"padding-left:5px\">20.07.16</td>]\n",
      "20.07.16 \n",
      "\n",
      "14 은 짝수\n",
      "[<td class=\"date\" style=\"padding-left:5px\">20.07.15</td>]\n",
      "20.07.15 \n",
      "\n",
      "16 은 짝수\n",
      "[<td class=\"date\" style=\"padding-left:5px\">20.07.15</td>]\n",
      "20.07.15 \n",
      "\n",
      "18 은 짝수\n",
      "[<td class=\"date\" style=\"padding-left:5px\">20.07.14</td>]\n",
      "20.07.14 \n",
      "\n",
      "20 은 짝수\n",
      "[<td class=\"date\" style=\"padding-left:5px\">20.07.13</td>]\n",
      "20.07.13 \n",
      "\n",
      "22 은 짝수\n",
      "[<td class=\"date\" style=\"padding-left:5px\">20.07.10</td>]\n",
      "20.07.10 \n",
      "\n",
      "24 은 짝수\n",
      "[<td class=\"date\" style=\"padding-left:5px\">20.07.10</td>]\n",
      "20.07.10 \n",
      "\n",
      "26 은 짝수\n",
      "[<td class=\"date\" style=\"padding-left:5px\">20.07.07</td>]\n",
      "20.07.07 \n",
      "\n",
      "28 은 짝수\n",
      "[<td class=\"date\" style=\"padding-left:5px\">20.07.06</td>]\n",
      "20.07.06 \n",
      "\n",
      "30 은 짝수\n",
      "[<td class=\"date\" style=\"padding-left:5px\">20.07.03</td>]\n",
      "20.07.03 \n",
      "\n",
      "32 은 짝수\n",
      "[<td class=\"date\" style=\"padding-left:5px\">20.07.03</td>]\n",
      "20.07.03 \n",
      "\n",
      "34 은 짝수\n",
      "[<td class=\"date\" style=\"padding-left:5px\">20.07.02</td>]\n",
      "20.07.02 \n",
      "\n",
      "36 은 짝수\n",
      "[<td class=\"date\" style=\"padding-left:5px\">20.07.01</td>]\n",
      "20.07.01 \n",
      "\n",
      "38 은 짝수\n",
      "[<td class=\"date\" style=\"padding-left:5px\">20.07.01</td>]\n",
      "20.07.01 \n",
      "\n",
      "40 은 짝수\n",
      "[<td class=\"date\" style=\"padding-left:5px\">20.06.30</td>]\n",
      "20.06.30 \n",
      "\n",
      "42 은 짝수\n",
      "[<td class=\"date\" style=\"padding-left:5px\">20.06.26</td>]\n",
      "20.06.26 \n",
      "\n",
      "44 은 짝수\n",
      "[<td class=\"date\" style=\"padding-left:5px\">20.06.26</td>]\n",
      "20.06.26 \n",
      "\n",
      "46 은 짝수\n",
      "[<td class=\"date\" style=\"padding-left:5px\">20.06.26</td>]\n",
      "20.06.26 \n",
      "\n",
      "48 은 짝수\n",
      "[<td class=\"date\" style=\"padding-left:5px\">20.06.24</td>]\n",
      "20.06.24 \n",
      "\n",
      "50 은 짝수\n",
      "[<td class=\"date\" style=\"padding-left:5px\">20.06.23</td>]\n",
      "20.06.23 \n",
      "\n",
      "52 은 짝수\n",
      "[<td class=\"date\" style=\"padding-left:5px\">20.06.22</td>]\n",
      "20.06.22 \n",
      "\n",
      "54 은 짝수\n",
      "[<td class=\"date\" style=\"padding-left:5px\">20.06.22</td>]\n",
      "20.06.22 \n",
      "\n",
      "56 은 짝수\n",
      "[<td class=\"date\" style=\"padding-left:5px\">20.06.19</td>]\n",
      "20.06.19 \n",
      "\n",
      "58 은 짝수\n",
      "[<td class=\"date\" style=\"padding-left:5px\">20.06.19</td>]\n",
      "20.06.19 \n",
      "\n"
     ]
    },
    {
     "data": {
      "text/plain": [
       "'for url in file_urls:\\n\\n    if \"href\" in url.attrs:\\n        pdf_urls.append(url[\"href\"])\\n'"
      ]
     },
     "execution_count": 47,
     "metadata": {},
     "output_type": "execute_result"
    }
   ],
   "source": [
    "pdf_urls = []\n",
    "\n",
    "page_nums = range(1,2) # max = 126\n",
    "\n",
    "## main logic\n",
    "URL_PREFIX = \"https://finance.naver.com/research/debenture_list.nhn?&page=\"\n",
    "DATE_SELECTOR = \"td.date\"\n",
    "\n",
    "pdf_dates = []\n",
    "for n in page_nums:\n",
    "    url_with_pagenum = URL_PREFIX + str(n)\n",
    "\n",
    "    req = requests.get(url_with_pagenum).text\n",
    "    soup = BeautifulSoup(req, 'html.parser')\n",
    "        \n",
    "    tmp_file_dates =  soup.select(DATE_SELECTOR)\n",
    "    print(len(tmp_file_dates))\n",
    "    print(tmp_file_dates)\n",
    "    \n",
    "    for tfd_num in range(0,len(tmp_file_dates)): \n",
    "        if tfd_num%2==0:\n",
    "            print(tfd_num,'은 짝수')\n",
    "            regex = re.compile(r'\\d\\d.\\d\\d.\\d\\d')\n",
    "            print(tmp_file_dates[tfd_num:tfd_num+1])\n",
    "            match_obj = regex.search(str(tmp_file_dates[tfd_num:tfd_num+1]))\n",
    "            file_dates = match_obj.group()\n",
    "            print(file_dates,'\\n')\n",
    "\n",
    "            pdf_dates.append(file_dates)\n",
    "\n",
    "\n",
    "\n",
    "'''for url in file_urls:\n",
    "\n",
    "    if \"href\" in url.attrs:\n",
    "        pdf_urls.append(url[\"href\"])\n",
    "'''\n",
    "\n"
   ]
  },
  {
   "cell_type": "code",
   "execution_count": 37,
   "metadata": {},
   "outputs": [
    {
     "name": "stdout",
     "output_type": "stream",
     "text": [
      "1\n",
      "2\n",
      "3\n"
     ]
    }
   ],
   "source": [
    "for i in [1,2,3]:\n",
    "    print(i)"
   ]
  },
  {
   "cell_type": "code",
   "execution_count": 49,
   "metadata": {},
   "outputs": [
    {
     "data": {
      "text/plain": [
       "['20.07.24',\n",
       " '20.07.24',\n",
       " '20.07.22',\n",
       " '20.07.20',\n",
       " '20.07.17',\n",
       " '20.07.17',\n",
       " '20.07.16',\n",
       " '20.07.15',\n",
       " '20.07.15',\n",
       " '20.07.14',\n",
       " '20.07.13',\n",
       " '20.07.10',\n",
       " '20.07.10',\n",
       " '20.07.07',\n",
       " '20.07.06',\n",
       " '20.07.03',\n",
       " '20.07.03',\n",
       " '20.07.02',\n",
       " '20.07.01',\n",
       " '20.07.01',\n",
       " '20.06.30',\n",
       " '20.06.26',\n",
       " '20.06.26',\n",
       " '20.06.26',\n",
       " '20.06.24',\n",
       " '20.06.23',\n",
       " '20.06.22',\n",
       " '20.06.22',\n",
       " '20.06.19',\n",
       " '20.06.19']"
      ]
     },
     "execution_count": 49,
     "metadata": {},
     "output_type": "execute_result"
    }
   ],
   "source": [
    "pdf_dates"
   ]
  },
  {
   "cell_type": "code",
   "execution_count": 73,
   "metadata": {},
   "outputs": [
    {
     "name": "stdout",
     "output_type": "stream",
     "text": [
      "1595551132820.pdf\n",
      "<class 'str'>\n",
      "1595550590062.pdf\n",
      "<class 'str'>\n",
      "1595377562785.pdf\n",
      "<class 'str'>\n",
      "1595205128882.pdf\n",
      "<class 'str'>\n",
      "1594947134511.pdf\n",
      "<class 'str'>\n",
      "1594945897691.pdf\n",
      "<class 'str'>\n",
      "1594858177174.pdf\n",
      "<class 'str'>\n",
      "1594773162996.pdf\n",
      "<class 'str'>\n",
      "1594772578176.pdf\n",
      "<class 'str'>\n",
      "1594685992786.pdf\n",
      "<class 'str'>\n",
      "1594600234934.pdf\n",
      "<class 'str'>\n",
      "1594344329382.pdf\n",
      "<class 'str'>\n",
      "1594342738474.pdf\n",
      "<class 'str'>\n",
      "1594080872770.pdf\n",
      "<class 'str'>\n",
      "1593995743225.pdf\n",
      "<class 'str'>\n",
      "1593736951923.pdf\n",
      "<class 'str'>\n",
      "1593735999791.pdf\n",
      "<class 'str'>\n",
      "1593649839291.pdf\n",
      "<class 'str'>\n"
     ]
    },
    {
     "ename": "KeyboardInterrupt",
     "evalue": "",
     "output_type": "error",
     "traceback": [
      "\u001b[1;31m---------------------------------------------------------------------------\u001b[0m",
      "\u001b[1;31mKeyboardInterrupt\u001b[0m                         Traceback (most recent call last)",
      "\u001b[1;32m<ipython-input-73-3730f42ffa30>\u001b[0m in \u001b[0;36m<module>\u001b[1;34m\u001b[0m\n\u001b[0;32m     36\u001b[0m     \u001b[0mprint\u001b[0m\u001b[1;33m(\u001b[0m\u001b[0msavename\u001b[0m\u001b[1;33m)\u001b[0m\u001b[1;33m\u001b[0m\u001b[1;33m\u001b[0m\u001b[0m\n\u001b[0;32m     37\u001b[0m     \u001b[0mprint\u001b[0m\u001b[1;33m(\u001b[0m\u001b[0mtype\u001b[0m\u001b[1;33m(\u001b[0m\u001b[0msavename\u001b[0m\u001b[1;33m)\u001b[0m\u001b[1;33m)\u001b[0m\u001b[1;33m\u001b[0m\u001b[1;33m\u001b[0m\u001b[0m\n\u001b[1;32m---> 38\u001b[1;33m     \u001b[0mrequest\u001b[0m\u001b[1;33m.\u001b[0m\u001b[0murlretrieve\u001b[0m\u001b[1;33m(\u001b[0m\u001b[0murl\u001b[0m\u001b[1;33m,\u001b[0m\u001b[0mDOWNLOAD_DIRECTORY\u001b[0m\u001b[1;33m+\u001b[0m\u001b[0msavename\u001b[0m\u001b[1;33m)\u001b[0m\u001b[1;33m\u001b[0m\u001b[1;33m\u001b[0m\u001b[0m\n\u001b[0m\u001b[0;32m     39\u001b[0m \u001b[1;33m\u001b[0m\u001b[0m\n",
      "\u001b[1;32m~\\Anaconda3\\lib\\urllib\\request.py\u001b[0m in \u001b[0;36murlretrieve\u001b[1;34m(url, filename, reporthook, data)\u001b[0m\n\u001b[0;32m    274\u001b[0m \u001b[1;33m\u001b[0m\u001b[0m\n\u001b[0;32m    275\u001b[0m             \u001b[1;32mwhile\u001b[0m \u001b[1;32mTrue\u001b[0m\u001b[1;33m:\u001b[0m\u001b[1;33m\u001b[0m\u001b[1;33m\u001b[0m\u001b[0m\n\u001b[1;32m--> 276\u001b[1;33m                 \u001b[0mblock\u001b[0m \u001b[1;33m=\u001b[0m \u001b[0mfp\u001b[0m\u001b[1;33m.\u001b[0m\u001b[0mread\u001b[0m\u001b[1;33m(\u001b[0m\u001b[0mbs\u001b[0m\u001b[1;33m)\u001b[0m\u001b[1;33m\u001b[0m\u001b[1;33m\u001b[0m\u001b[0m\n\u001b[0m\u001b[0;32m    277\u001b[0m                 \u001b[1;32mif\u001b[0m \u001b[1;32mnot\u001b[0m \u001b[0mblock\u001b[0m\u001b[1;33m:\u001b[0m\u001b[1;33m\u001b[0m\u001b[1;33m\u001b[0m\u001b[0m\n\u001b[0;32m    278\u001b[0m                     \u001b[1;32mbreak\u001b[0m\u001b[1;33m\u001b[0m\u001b[1;33m\u001b[0m\u001b[0m\n",
      "\u001b[1;32m~\\Anaconda3\\lib\\http\\client.py\u001b[0m in \u001b[0;36mread\u001b[1;34m(self, amt)\u001b[0m\n\u001b[0;32m    455\u001b[0m             \u001b[1;31m# Amount is given, implement using readinto\u001b[0m\u001b[1;33m\u001b[0m\u001b[1;33m\u001b[0m\u001b[1;33m\u001b[0m\u001b[0m\n\u001b[0;32m    456\u001b[0m             \u001b[0mb\u001b[0m \u001b[1;33m=\u001b[0m \u001b[0mbytearray\u001b[0m\u001b[1;33m(\u001b[0m\u001b[0mamt\u001b[0m\u001b[1;33m)\u001b[0m\u001b[1;33m\u001b[0m\u001b[1;33m\u001b[0m\u001b[0m\n\u001b[1;32m--> 457\u001b[1;33m             \u001b[0mn\u001b[0m \u001b[1;33m=\u001b[0m \u001b[0mself\u001b[0m\u001b[1;33m.\u001b[0m\u001b[0mreadinto\u001b[0m\u001b[1;33m(\u001b[0m\u001b[0mb\u001b[0m\u001b[1;33m)\u001b[0m\u001b[1;33m\u001b[0m\u001b[1;33m\u001b[0m\u001b[0m\n\u001b[0m\u001b[0;32m    458\u001b[0m             \u001b[1;32mreturn\u001b[0m \u001b[0mmemoryview\u001b[0m\u001b[1;33m(\u001b[0m\u001b[0mb\u001b[0m\u001b[1;33m)\u001b[0m\u001b[1;33m[\u001b[0m\u001b[1;33m:\u001b[0m\u001b[0mn\u001b[0m\u001b[1;33m]\u001b[0m\u001b[1;33m.\u001b[0m\u001b[0mtobytes\u001b[0m\u001b[1;33m(\u001b[0m\u001b[1;33m)\u001b[0m\u001b[1;33m\u001b[0m\u001b[1;33m\u001b[0m\u001b[0m\n\u001b[0;32m    459\u001b[0m         \u001b[1;32melse\u001b[0m\u001b[1;33m:\u001b[0m\u001b[1;33m\u001b[0m\u001b[1;33m\u001b[0m\u001b[0m\n",
      "\u001b[1;32m~\\Anaconda3\\lib\\http\\client.py\u001b[0m in \u001b[0;36mreadinto\u001b[1;34m(self, b)\u001b[0m\n\u001b[0;32m    499\u001b[0m         \u001b[1;31m# connection, and the user is reading more bytes than will be provided\u001b[0m\u001b[1;33m\u001b[0m\u001b[1;33m\u001b[0m\u001b[1;33m\u001b[0m\u001b[0m\n\u001b[0;32m    500\u001b[0m         \u001b[1;31m# (for example, reading in 1k chunks)\u001b[0m\u001b[1;33m\u001b[0m\u001b[1;33m\u001b[0m\u001b[1;33m\u001b[0m\u001b[0m\n\u001b[1;32m--> 501\u001b[1;33m         \u001b[0mn\u001b[0m \u001b[1;33m=\u001b[0m \u001b[0mself\u001b[0m\u001b[1;33m.\u001b[0m\u001b[0mfp\u001b[0m\u001b[1;33m.\u001b[0m\u001b[0mreadinto\u001b[0m\u001b[1;33m(\u001b[0m\u001b[0mb\u001b[0m\u001b[1;33m)\u001b[0m\u001b[1;33m\u001b[0m\u001b[1;33m\u001b[0m\u001b[0m\n\u001b[0m\u001b[0;32m    502\u001b[0m         \u001b[1;32mif\u001b[0m \u001b[1;32mnot\u001b[0m \u001b[0mn\u001b[0m \u001b[1;32mand\u001b[0m \u001b[0mb\u001b[0m\u001b[1;33m:\u001b[0m\u001b[1;33m\u001b[0m\u001b[1;33m\u001b[0m\u001b[0m\n\u001b[0;32m    503\u001b[0m             \u001b[1;31m# Ideally, we would raise IncompleteRead if the content-length\u001b[0m\u001b[1;33m\u001b[0m\u001b[1;33m\u001b[0m\u001b[1;33m\u001b[0m\u001b[0m\n",
      "\u001b[1;32m~\\Anaconda3\\lib\\socket.py\u001b[0m in \u001b[0;36mreadinto\u001b[1;34m(self, b)\u001b[0m\n\u001b[0;32m    587\u001b[0m         \u001b[1;32mwhile\u001b[0m \u001b[1;32mTrue\u001b[0m\u001b[1;33m:\u001b[0m\u001b[1;33m\u001b[0m\u001b[1;33m\u001b[0m\u001b[0m\n\u001b[0;32m    588\u001b[0m             \u001b[1;32mtry\u001b[0m\u001b[1;33m:\u001b[0m\u001b[1;33m\u001b[0m\u001b[1;33m\u001b[0m\u001b[0m\n\u001b[1;32m--> 589\u001b[1;33m                 \u001b[1;32mreturn\u001b[0m \u001b[0mself\u001b[0m\u001b[1;33m.\u001b[0m\u001b[0m_sock\u001b[0m\u001b[1;33m.\u001b[0m\u001b[0mrecv_into\u001b[0m\u001b[1;33m(\u001b[0m\u001b[0mb\u001b[0m\u001b[1;33m)\u001b[0m\u001b[1;33m\u001b[0m\u001b[1;33m\u001b[0m\u001b[0m\n\u001b[0m\u001b[0;32m    590\u001b[0m             \u001b[1;32mexcept\u001b[0m \u001b[0mtimeout\u001b[0m\u001b[1;33m:\u001b[0m\u001b[1;33m\u001b[0m\u001b[1;33m\u001b[0m\u001b[0m\n\u001b[0;32m    591\u001b[0m                 \u001b[0mself\u001b[0m\u001b[1;33m.\u001b[0m\u001b[0m_timeout_occurred\u001b[0m \u001b[1;33m=\u001b[0m \u001b[1;32mTrue\u001b[0m\u001b[1;33m\u001b[0m\u001b[1;33m\u001b[0m\u001b[0m\n",
      "\u001b[1;32m~\\Anaconda3\\lib\\ssl.py\u001b[0m in \u001b[0;36mrecv_into\u001b[1;34m(self, buffer, nbytes, flags)\u001b[0m\n\u001b[0;32m   1069\u001b[0m                   \u001b[1;34m\"non-zero flags not allowed in calls to recv_into() on %s\"\u001b[0m \u001b[1;33m%\u001b[0m\u001b[1;33m\u001b[0m\u001b[1;33m\u001b[0m\u001b[0m\n\u001b[0;32m   1070\u001b[0m                   self.__class__)\n\u001b[1;32m-> 1071\u001b[1;33m             \u001b[1;32mreturn\u001b[0m \u001b[0mself\u001b[0m\u001b[1;33m.\u001b[0m\u001b[0mread\u001b[0m\u001b[1;33m(\u001b[0m\u001b[0mnbytes\u001b[0m\u001b[1;33m,\u001b[0m \u001b[0mbuffer\u001b[0m\u001b[1;33m)\u001b[0m\u001b[1;33m\u001b[0m\u001b[1;33m\u001b[0m\u001b[0m\n\u001b[0m\u001b[0;32m   1072\u001b[0m         \u001b[1;32melse\u001b[0m\u001b[1;33m:\u001b[0m\u001b[1;33m\u001b[0m\u001b[1;33m\u001b[0m\u001b[0m\n\u001b[0;32m   1073\u001b[0m             \u001b[1;32mreturn\u001b[0m \u001b[0msuper\u001b[0m\u001b[1;33m(\u001b[0m\u001b[1;33m)\u001b[0m\u001b[1;33m.\u001b[0m\u001b[0mrecv_into\u001b[0m\u001b[1;33m(\u001b[0m\u001b[0mbuffer\u001b[0m\u001b[1;33m,\u001b[0m \u001b[0mnbytes\u001b[0m\u001b[1;33m,\u001b[0m \u001b[0mflags\u001b[0m\u001b[1;33m)\u001b[0m\u001b[1;33m\u001b[0m\u001b[1;33m\u001b[0m\u001b[0m\n",
      "\u001b[1;32m~\\Anaconda3\\lib\\ssl.py\u001b[0m in \u001b[0;36mread\u001b[1;34m(self, len, buffer)\u001b[0m\n\u001b[0;32m    927\u001b[0m         \u001b[1;32mtry\u001b[0m\u001b[1;33m:\u001b[0m\u001b[1;33m\u001b[0m\u001b[1;33m\u001b[0m\u001b[0m\n\u001b[0;32m    928\u001b[0m             \u001b[1;32mif\u001b[0m \u001b[0mbuffer\u001b[0m \u001b[1;32mis\u001b[0m \u001b[1;32mnot\u001b[0m \u001b[1;32mNone\u001b[0m\u001b[1;33m:\u001b[0m\u001b[1;33m\u001b[0m\u001b[1;33m\u001b[0m\u001b[0m\n\u001b[1;32m--> 929\u001b[1;33m                 \u001b[1;32mreturn\u001b[0m \u001b[0mself\u001b[0m\u001b[1;33m.\u001b[0m\u001b[0m_sslobj\u001b[0m\u001b[1;33m.\u001b[0m\u001b[0mread\u001b[0m\u001b[1;33m(\u001b[0m\u001b[0mlen\u001b[0m\u001b[1;33m,\u001b[0m \u001b[0mbuffer\u001b[0m\u001b[1;33m)\u001b[0m\u001b[1;33m\u001b[0m\u001b[1;33m\u001b[0m\u001b[0m\n\u001b[0m\u001b[0;32m    930\u001b[0m             \u001b[1;32melse\u001b[0m\u001b[1;33m:\u001b[0m\u001b[1;33m\u001b[0m\u001b[1;33m\u001b[0m\u001b[0m\n\u001b[0;32m    931\u001b[0m                 \u001b[1;32mreturn\u001b[0m \u001b[0mself\u001b[0m\u001b[1;33m.\u001b[0m\u001b[0m_sslobj\u001b[0m\u001b[1;33m.\u001b[0m\u001b[0mread\u001b[0m\u001b[1;33m(\u001b[0m\u001b[0mlen\u001b[0m\u001b[1;33m)\u001b[0m\u001b[1;33m\u001b[0m\u001b[1;33m\u001b[0m\u001b[0m\n",
      "\u001b[1;31mKeyboardInterrupt\u001b[0m: "
     ]
    }
   ],
   "source": [
    "import requests\n",
    "from bs4 import BeautifulSoup\n",
    "from urllib import request\n",
    "\n",
    "\n",
    "\n",
    "## Constanct variables\n",
    "URL_PREFIX = \"https://finance.naver.com/research/debenture_list.nhn?&page=\"\n",
    "PDF_FILE_SELECTOR = \".file a\"\n",
    "\n",
    "DOWNLOAD_DIRECTORY = \"nlp_project\\\\data\\\\\"\n",
    "\n",
    "## custom util variables\n",
    "page_nums = range(1,2) # max = 126\n",
    "\n",
    "pdf_urls = []\n",
    "\n",
    "## main logic\n",
    "for n in page_nums:\n",
    "    url_with_pagenum = URL_PREFIX + str(n)\n",
    "\n",
    "    req = requests.get(url_with_pagenum)\n",
    "    html = req.text\n",
    "    soup = BeautifulSoup(html, 'html.parser')\n",
    "        \n",
    "    file_urls =  soup.select(PDF_FILE_SELECTOR)\n",
    "   \n",
    "    for url in file_urls:\n",
    "       \n",
    "        if \"href\" in url.attrs:\n",
    "            pdf_urls.append(url[\"href\"])\n",
    "\n",
    "\n",
    "for url in pdf_urls:\n",
    "    savename = url[url.rfind(\"/\")+1:len(url)]\n",
    "    print(savename)\n",
    "    print(type(savename))\n",
    "    request.urlretrieve(url,DOWNLOAD_DIRECTORY+savename)\n",
    "\n"
   ]
  },
  {
   "cell_type": "code",
   "execution_count": null,
   "metadata": {},
   "outputs": [],
   "source": []
  }
 ],
 "metadata": {
  "kernelspec": {
   "display_name": "gpu",
   "language": "python",
   "name": "gpu"
  },
  "language_info": {
   "codemirror_mode": {
    "name": "ipython",
    "version": 3
   },
   "file_extension": ".py",
   "mimetype": "text/x-python",
   "name": "python",
   "nbconvert_exporter": "python",
   "pygments_lexer": "ipython3",
   "version": "3.7.4"
  }
 },
 "nbformat": 4,
 "nbformat_minor": 4
}
