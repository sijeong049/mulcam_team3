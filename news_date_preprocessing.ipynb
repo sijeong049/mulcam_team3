{
 "cells": [
  {
   "cell_type": "code",
   "execution_count": 222,
   "metadata": {},
   "outputs": [],
   "source": [
    "import re\n",
    "import pandas as pd\n",
    "import numpy as np"
   ]
  },
  {
   "cell_type": "code",
   "execution_count": 287,
   "metadata": {},
   "outputs": [],
   "source": [
    "news = pd.read_csv('naver_interest_article(0721_orgin).csv')\n",
    "news_origin = news.copy()"
   ]
  },
  {
   "cell_type": "code",
   "execution_count": 288,
   "metadata": {},
   "outputs": [],
   "source": [
    "date = news['date']\n",
    "date = list(date.fillna('NaN'))"
   ]
  },
  {
   "cell_type": "code",
   "execution_count": 289,
   "metadata": {},
   "outputs": [
    {
     "data": {
      "text/plain": [
       "206737"
      ]
     },
     "execution_count": 289,
     "metadata": {},
     "output_type": "execute_result"
    }
   ],
   "source": [
    "# yyyy.mm.dd뽑기\n",
    "datenew = []\n",
    "for i in range(len(date)):\n",
    "    if  re.findall('([0-9.]+[0-9.]+[0-9]+)',date[i]) == []:\n",
    "        datenew.append('NaN')\n",
    "    else:\n",
    "        datenew.append(re.findall('([0-9.]+[0-9.]+[0-9]+)',date[i])[0])\n",
    "\n",
    "new_date = pd.DataFrame(datenew,columns=['new_date'])"
   ]
  },
  {
   "cell_type": "code",
   "execution_count": 290,
   "metadata": {},
   "outputs": [
    {
     "data": {
      "text/plain": [
       "206737"
      ]
     },
     "execution_count": 290,
     "metadata": {},
     "output_type": "execute_result"
    }
   ],
   "source": [
    "data = pd.concat([news, new_date],axis=1)\n",
    "data = data.dropna(axis=0)\n",
    "# 206737 -> 205495"
   ]
  },
  {
   "cell_type": "code",
   "execution_count": 292,
   "metadata": {},
   "outputs": [
    {
     "data": {
      "text/plain": [
       "205495"
      ]
     },
     "execution_count": 292,
     "metadata": {},
     "output_type": "execute_result"
    }
   ],
   "source": [
    "# date형식으로 바꾸기\n",
    "data['new_date'] = pd.to_datetime(data['new_date'])\n",
    "len(data)"
   ]
  },
  {
   "cell_type": "code",
   "execution_count": 305,
   "metadata": {
    "scrolled": true
   },
   "outputs": [
    {
     "data": {
      "text/plain": [
       "200885"
      ]
     },
     "execution_count": 305,
     "metadata": {},
     "output_type": "execute_result"
    }
   ],
   "source": [
    "# 2005-05-01부터로 설정하기\n",
    "sdate = datetime.strptime('2005-05-01','%Y-%m-%d')\n",
    "data = data[sdate<=data['new_date']]\n",
    "len(data)"
   ]
  },
  {
   "cell_type": "code",
   "execution_count": 303,
   "metadata": {},
   "outputs": [],
   "source": [
    "data.to_csv('naver_interest_article_date.csv',index=False)"
   ]
  },
  {
   "cell_type": "code",
   "execution_count": 306,
   "metadata": {},
   "outputs": [
    {
     "data": {
      "text/plain": [
       "5852"
      ]
     },
     "execution_count": 306,
     "metadata": {},
     "output_type": "execute_result"
    }
   ],
   "source": [
    "# date처리하면서 drop한 행의 개수\n",
    "206737-200885"
   ]
  }
 ],
 "metadata": {
  "kernelspec": {
   "display_name": "Python 3",
   "language": "python",
   "name": "python3"
  },
  "language_info": {
   "codemirror_mode": {
    "name": "ipython",
    "version": 3
   },
   "file_extension": ".py",
   "mimetype": "text/x-python",
   "name": "python",
   "nbconvert_exporter": "python",
   "pygments_lexer": "ipython3",
   "version": "3.7.7"
  }
 },
 "nbformat": 4,
 "nbformat_minor": 4
}
