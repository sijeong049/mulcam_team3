{
 "cells": [
  {
   "cell_type": "code",
   "execution_count": 20,
   "metadata": {},
   "outputs": [],
   "source": [
    "# 기사 라벨링 된 것 파일 불러오기\n",
    "import pandas as pd\n",
    "df_article = pd.read_csv('ngramized2_sentence_naver_interest_article.csv')\n",
    "df_article = df_article[['date', 'Labelling','n_gram']]"
   ]
  },
  {
   "cell_type": "code",
   "execution_count": 25,
   "metadata": {},
   "outputs": [],
   "source": [
    "# 채권분석 라벨링된 파일 불러오기\n",
    "df_bond = pd.read_csv('ngramized2_bond.csv')\n",
    "df_bond = df_bond[['date','Labelling', 'n_gram']]"
   ]
  },
  {
   "cell_type": "code",
   "execution_count": 38,
   "metadata": {},
   "outputs": [],
   "source": [
    "df_trainset = pd.concat([df_article, df_bond])"
   ]
  },
  {
   "cell_type": "code",
   "execution_count": 39,
   "metadata": {},
   "outputs": [
    {
     "name": "stdout",
     "output_type": "stream",
     "text": [
      "<class 'pandas.core.frame.DataFrame'>\n",
      "Int64Index: 2971180 entries, 0 to 3077\n",
      "Data columns (total 3 columns):\n",
      " #   Column     Dtype \n",
      "---  ------     ----- \n",
      " 0   date       object\n",
      " 1   Labelling  object\n",
      " 2   n_gram     object\n",
      "dtypes: object(3)\n",
      "memory usage: 90.7+ MB\n"
     ]
    }
   ],
   "source": [
    "# 기사 & 채권분석 concat -> [] 빼주기, text가 없는 날짜 빼주기\n",
    "df_trainset.info()"
   ]
  },
  {
   "cell_type": "code",
   "execution_count": 41,
   "metadata": {},
   "outputs": [],
   "source": [
    "df_trainset = df_trainset[df_trainset['n_gram'] != '[]'] #엔그램 없는 것 빼기"
   ]
  },
  {
   "cell_type": "code",
   "execution_count": 42,
   "metadata": {},
   "outputs": [],
   "source": [
    "from tqdm.notebook import tqdm"
   ]
  },
  {
   "cell_type": "code",
   "execution_count": 43,
   "metadata": {},
   "outputs": [
    {
     "data": {
      "application/vnd.jupyter.widget-view+json": {
       "model_id": "ed60ee02d7ef4d97a55bf7dfcc0c9c69",
       "version_major": 2,
       "version_minor": 0
      },
      "text/plain": [
       "HBox(children=(FloatProgress(value=0.0, max=2969288.0), HTML(value='')))"
      ]
     },
     "metadata": {},
     "output_type": "display_data"
    },
    {
     "name": "stdout",
     "output_type": "stream",
     "text": [
      "\n"
     ]
    }
   ],
   "source": [
    "from collections import defaultdict\n",
    "n_gram = defaultdict(lambda:[0,0,0]) # total_count, up_count, down_count\n",
    "\n",
    "for i in tqdm(range(len(df_trainset))):\n",
    "    texts = df_trainset['n_gram'].iloc[i].replace(\"[\",\"\").replace(\"]\",\"\").replace(\"'\",\"\").replace(\",\",\"\")\n",
    "    texts = texts.split()\n",
    "    for text in texts:\n",
    "        n_gram[text][0] += 1\n",
    "        if df_trainset['Labelling'].iloc[i] == 'up':\n",
    "            n_gram[text][1] += 1\n",
    "        elif df_trainset['Labelling'].iloc[i] == 'down':\n",
    "            n_gram[text][2] += 1"
   ]
  },
  {
   "cell_type": "code",
   "execution_count": 44,
   "metadata": {},
   "outputs": [],
   "source": [
    "ngram, total_count, up_count, down_count = [],[],[],[]\n",
    "for i, doc in n_gram.items():\n",
    "    ngram.append(i)\n",
    "    total_count.append(doc[0])\n",
    "    up_count.append(doc[1])\n",
    "    down_count.append(doc[2])"
   ]
  },
  {
   "cell_type": "code",
   "execution_count": 45,
   "metadata": {},
   "outputs": [],
   "source": [
    "df_polar_score = pd.DataFrame([ngram, total_count, up_count, down_count],index=['ngram','total_count','up_count','down_count'])\n",
    "df_polar_score = df_polar_score.T"
   ]
  },
  {
   "cell_type": "code",
   "execution_count": 46,
   "metadata": {},
   "outputs": [],
   "source": [
    "# 총 개수가 15이하인 것 delete\n",
    "df_polar_score = df_polar_score[df_polar_score['total_count']>=15]"
   ]
  },
  {
   "cell_type": "code",
   "execution_count": 52,
   "metadata": {},
   "outputs": [
    {
     "name": "stdout",
     "output_type": "stream",
     "text": [
      "<class 'pandas.core.frame.DataFrame'>\n",
      "Int64Index: 45637 entries, 0 to 137077\n",
      "Data columns (total 8 columns):\n",
      " #   Column          Non-Null Count  Dtype  \n",
      "---  ------          --------------  -----  \n",
      " 0   ngram           45637 non-null  object \n",
      " 1   total_count     45637 non-null  object \n",
      " 2   up_count        45637 non-null  object \n",
      " 3   down_count      45637 non-null  object \n",
      " 4   bayes_up        45637 non-null  float64\n",
      " 5   bayes_down      45637 non-null  float64\n",
      " 6   polarity_score  45637 non-null  float64\n",
      " 7   polarity        45637 non-null  object \n",
      "dtypes: float64(3), object(5)\n",
      "memory usage: 3.1+ MB\n"
     ]
    },
    {
     "data": {
      "text/plain": [
       "179"
      ]
     },
     "execution_count": 52,
     "metadata": {},
     "output_type": "execute_result"
    }
   ],
   "source": [
    "df_polar_score.info()\n",
    "len(df_polar_score[df_polar_score['down_count']==0])"
   ]
  },
  {
   "cell_type": "code",
   "execution_count": 48,
   "metadata": {},
   "outputs": [
    {
     "name": "stderr",
     "output_type": "stream",
     "text": [
      "C:\\Users\\180309\\anaconda3\\envs\\mulcam_b\\lib\\site-packages\\pandas\\core\\indexing.py:671: SettingWithCopyWarning: \n",
      "A value is trying to be set on a copy of a slice from a DataFrame\n",
      "\n",
      "See the caveats in the documentation: https://pandas.pydata.org/pandas-docs/stable/user_guide/indexing.html#returning-a-view-versus-a-copy\n",
      "  self._setitem_with_indexer(indexer, value)\n"
     ]
    }
   ],
   "source": [
    "# 스팸 필터링 만들기\n",
    "import numpy as np\n",
    "\n",
    "df_polar_score['bayes_up'] = np.zeros(len(df_polar_score))\n",
    "df_polar_score['bayes_down'] = np.zeros(len(df_polar_score))\n",
    "\n",
    "total_up = df_polar_score['up_count'].sum()\n",
    "total_down = df_polar_score['down_count'].sum()\n",
    "\n",
    "for i in range(len(df_polar_score)):\n",
    "    df_polar_score['bayes_up'].iloc[i] = (0.5 + df_polar_score['up_count'].iloc[i])/ (2 *0.5 + total_up)\n",
    "    df_polar_score['bayes_down'].iloc[i] = (0.5 + df_polar_score['down_count'].iloc[i]) / (2 *0.5 + total_down)"
   ]
  },
  {
   "cell_type": "code",
   "execution_count": 49,
   "metadata": {},
   "outputs": [
    {
     "data": {
      "text/html": [
       "<div>\n",
       "<style scoped>\n",
       "    .dataframe tbody tr th:only-of-type {\n",
       "        vertical-align: middle;\n",
       "    }\n",
       "\n",
       "    .dataframe tbody tr th {\n",
       "        vertical-align: top;\n",
       "    }\n",
       "\n",
       "    .dataframe thead th {\n",
       "        text-align: right;\n",
       "    }\n",
       "</style>\n",
       "<table border=\"1\" class=\"dataframe\">\n",
       "  <thead>\n",
       "    <tr style=\"text-align: right;\">\n",
       "      <th></th>\n",
       "      <th>ngram</th>\n",
       "      <th>total_count</th>\n",
       "      <th>up_count</th>\n",
       "      <th>down_count</th>\n",
       "      <th>bayes_up</th>\n",
       "      <th>bayes_down</th>\n",
       "      <th>polarity_score</th>\n",
       "      <th>polarity</th>\n",
       "    </tr>\n",
       "  </thead>\n",
       "  <tbody>\n",
       "    <tr>\n",
       "      <th>0</th>\n",
       "      <td>은행/NNG</td>\n",
       "      <td>125992</td>\n",
       "      <td>51104</td>\n",
       "      <td>51371</td>\n",
       "      <td>0.003075</td>\n",
       "      <td>0.003205</td>\n",
       "      <td>0.959290</td>\n",
       "      <td>Neutral</td>\n",
       "    </tr>\n",
       "    <tr>\n",
       "      <th>1</th>\n",
       "      <td>수수료/NNG</td>\n",
       "      <td>13206</td>\n",
       "      <td>5177</td>\n",
       "      <td>5152</td>\n",
       "      <td>0.000311</td>\n",
       "      <td>0.000321</td>\n",
       "      <td>0.968981</td>\n",
       "      <td>Neutral</td>\n",
       "    </tr>\n",
       "    <tr>\n",
       "      <th>2</th>\n",
       "      <td>수입/NNG</td>\n",
       "      <td>14707</td>\n",
       "      <td>6114</td>\n",
       "      <td>5617</td>\n",
       "      <td>0.000368</td>\n",
       "      <td>0.000350</td>\n",
       "      <td>1.049617</td>\n",
       "      <td>Neutral</td>\n",
       "    </tr>\n",
       "    <tr>\n",
       "      <th>3</th>\n",
       "      <td>급급/NNG</td>\n",
       "      <td>260</td>\n",
       "      <td>89</td>\n",
       "      <td>113</td>\n",
       "      <td>0.000005</td>\n",
       "      <td>0.000007</td>\n",
       "      <td>0.760397</td>\n",
       "      <td>Dovish</td>\n",
       "    </tr>\n",
       "    <tr>\n",
       "      <th>4</th>\n",
       "      <td>일단/MAG</td>\n",
       "      <td>9882</td>\n",
       "      <td>4135</td>\n",
       "      <td>3910</td>\n",
       "      <td>0.000249</td>\n",
       "      <td>0.000244</td>\n",
       "      <td>1.019785</td>\n",
       "      <td>Neutral</td>\n",
       "    </tr>\n",
       "    <tr>\n",
       "      <th>5</th>\n",
       "      <td>팔/VV</td>\n",
       "      <td>12705</td>\n",
       "      <td>4800</td>\n",
       "      <td>5188</td>\n",
       "      <td>0.000289</td>\n",
       "      <td>0.000324</td>\n",
       "      <td>0.892191</td>\n",
       "      <td>Neutral</td>\n",
       "    </tr>\n",
       "    <tr>\n",
       "      <th>6</th>\n",
       "      <td>상품/NNG</td>\n",
       "      <td>46644</td>\n",
       "      <td>18910</td>\n",
       "      <td>18635</td>\n",
       "      <td>0.001138</td>\n",
       "      <td>0.001163</td>\n",
       "      <td>0.978532</td>\n",
       "      <td>Neutral</td>\n",
       "    </tr>\n",
       "    <tr>\n",
       "      <th>7</th>\n",
       "      <td>판매/NNG</td>\n",
       "      <td>32966</td>\n",
       "      <td>14123</td>\n",
       "      <td>12340</td>\n",
       "      <td>0.000850</td>\n",
       "      <td>0.000770</td>\n",
       "      <td>1.103628</td>\n",
       "      <td>Neutral</td>\n",
       "    </tr>\n",
       "    <tr>\n",
       "      <th>8</th>\n",
       "      <td>경쟁/NNG</td>\n",
       "      <td>12107</td>\n",
       "      <td>5183</td>\n",
       "      <td>4737</td>\n",
       "      <td>0.000312</td>\n",
       "      <td>0.000296</td>\n",
       "      <td>1.055084</td>\n",
       "      <td>Neutral</td>\n",
       "    </tr>\n",
       "    <tr>\n",
       "      <th>9</th>\n",
       "      <td>나서/VV</td>\n",
       "      <td>46222</td>\n",
       "      <td>17748</td>\n",
       "      <td>18800</td>\n",
       "      <td>0.001068</td>\n",
       "      <td>0.001173</td>\n",
       "      <td>0.910343</td>\n",
       "      <td>Neutral</td>\n",
       "    </tr>\n",
       "  </tbody>\n",
       "</table>\n",
       "</div>"
      ],
      "text/plain": [
       "     ngram total_count up_count down_count  bayes_up  bayes_down  \\\n",
       "0   은행/NNG      125992    51104      51371  0.003075    0.003205   \n",
       "1  수수료/NNG       13206     5177       5152  0.000311    0.000321   \n",
       "2   수입/NNG       14707     6114       5617  0.000368    0.000350   \n",
       "3   급급/NNG         260       89        113  0.000005    0.000007   \n",
       "4   일단/MAG        9882     4135       3910  0.000249    0.000244   \n",
       "5     팔/VV       12705     4800       5188  0.000289    0.000324   \n",
       "6   상품/NNG       46644    18910      18635  0.001138    0.001163   \n",
       "7   판매/NNG       32966    14123      12340  0.000850    0.000770   \n",
       "8   경쟁/NNG       12107     5183       4737  0.000312    0.000296   \n",
       "9    나서/VV       46222    17748      18800  0.001068    0.001173   \n",
       "\n",
       "   polarity_score polarity  \n",
       "0        0.959290  Neutral  \n",
       "1        0.968981  Neutral  \n",
       "2        1.049617  Neutral  \n",
       "3        0.760397   Dovish  \n",
       "4        1.019785  Neutral  \n",
       "5        0.892191  Neutral  \n",
       "6        0.978532  Neutral  \n",
       "7        1.103628  Neutral  \n",
       "8        1.055084  Neutral  \n",
       "9        0.910343  Neutral  "
      ]
     },
     "execution_count": 49,
     "metadata": {},
     "output_type": "execute_result"
    }
   ],
   "source": [
    "df_polar_score['polarity_score'] = df_polar_score['bayes_up']/df_polar_score['bayes_down']\n",
    "df_polar_score['polarity'] = np.zeros(len(df_polar_score))\n",
    "\n",
    "for i in range(len(df_polar_score)):\n",
    "    if df_polar_score['polarity_score'].iloc[i] > 1.3:\n",
    "        df_polar_score['polarity'].iloc[i] = 'Hawkish'\n",
    "    elif df_polar_score['polarity_score'].iloc[i] < (1/1.3):\n",
    "        df_polar_score['polarity'].iloc[i] = 'Dovish' \n",
    "    else:\n",
    "        df_polar_score['polarity'].iloc[i] = 'Neutral'\n",
    "df_polar_score[:10]"
   ]
  },
  {
   "cell_type": "code",
   "execution_count": 50,
   "metadata": {},
   "outputs": [
    {
     "data": {
      "text/plain": [
       "(11442, 13311)"
      ]
     },
     "execution_count": 50,
     "metadata": {},
     "output_type": "execute_result"
    }
   ],
   "source": [
    "df_hawkish = df_polar_score[df_polar_score['polarity']=='Hawkish']\n",
    "df_dovish = df_polar_score[df_polar_score['polarity']=='Dovish']\n",
    "len(df_hawkish), len(df_dovish)"
   ]
  },
  {
   "cell_type": "code",
   "execution_count": 51,
   "metadata": {},
   "outputs": [],
   "source": [
    "df_hawkish.to_csv('version2_df_hawkish_dict.csv',index=False)\n",
    "df_dovish.to_csv('version2_df_dovish_dict.csv',index=False)"
   ]
  }
 ],
 "metadata": {
  "kernelspec": {
   "display_name": "Python 3",
   "language": "python",
   "name": "python3"
  },
  "language_info": {
   "codemirror_mode": {
    "name": "ipython",
    "version": 3
   },
   "file_extension": ".py",
   "mimetype": "text/x-python",
   "name": "python",
   "nbconvert_exporter": "python",
   "pygments_lexer": "ipython3",
   "version": "3.7.7"
  }
 },
 "nbformat": 4,
 "nbformat_minor": 4
}
