{
 "cells": [
  {
   "cell_type": "code",
   "execution_count": 1,
   "metadata": {},
   "outputs": [
    {
     "data": {
      "text/plain": [
       "3078"
      ]
     },
     "execution_count": 1,
     "metadata": {},
     "output_type": "execute_result"
    }
   ],
   "source": [
    "import pandas as pd\n",
    "import numpy as np\n",
    "import re\n",
    "\n",
    "bond_analyst = pd.read_csv('df_bond_analyst.csv')\n",
    "bond_analyst =bond_analyst.loc[:,['date', 'text']]\n",
    "bond_analyst =bond_analyst.dropna(axis=0)\n",
    "len(bond_analyst)"
   ]
  },
  {
   "cell_type": "code",
   "execution_count": 2,
   "metadata": {},
   "outputs": [],
   "source": [
    "replacer = lambda x : re.sub('[^가-힣]',' ',str(x))\n",
    "bond_analyst['text'] = bond_analyst['text'].map(replacer)"
   ]
  },
  {
   "cell_type": "code",
   "execution_count": 3,
   "metadata": {},
   "outputs": [],
   "source": [
    "replacer = lambda x : str(x).replace('  ','')\n",
    "bond_analyst['text'] = bond_analyst['text'].map(replacer)"
   ]
  },
  {
   "cell_type": "code",
   "execution_count": 4,
   "metadata": {},
   "outputs": [],
   "source": [
    "replacer = lambda x : str(x).replace('본 자료는 년월 일 당사 홈페이지에 게시된 자료입니다이 조사자료는 고객의 투자에 참고가 될 수 있는 각종 정보제공을 목적으로 제작되었습니다이 조사자료는 당사의 리서치센터가 신뢰할 수있는 자료 및 정보로부터 얻어진 것이나당사가 그 정확성이나 완전성을 보장할 수 없으므로 투자자 자신의 판단과 책임하에 종목 선택이나 투자시기에 대한 최종 결정을 하시기 바랍니다따라서 이 조사자료는 어떠한 경우에도 고객의 증권투자 결과에 대한 법적 책임소재의 증빙자료로 사용될 수 없습니다이 조사자료의 지적재산권은 당사에 있으므로 당사의 허락없이 무단 복제 및 배포 할 수 없습니다 ','')\n",
    "bond_analyst['text'] = bond_analyst['text'].map(replacer)"
   ]
  },
  {
   "cell_type": "code",
   "execution_count": 5,
   "metadata": {},
   "outputs": [],
   "source": [
    "replacer = lambda x : str(x).replace('본자료는고객의투자판단을돕기위해작성된참고용자료입니다 본자료는조사분석 담당자가신뢰할수있는자료및정보를토대로작성한것이나 제공되는정보의완전성이나정확성을당사가보장하지않습니다 모든투자의사결정은투자자자신의판단과책임하에하시기바라며 본자료는투자결과와관련한어떠한법적분쟁의증거로사용될 수없습니다 본자료는당사의저작물로서모든저작권은당사에있으며 당사의동의없이본자료를무단으로배포 복제 인용 변형할수없습니다 ','')\n",
    "bond_analyst['text'] = bond_analyst['text'].map(replacer)"
   ]
  },
  {
   "cell_type": "code",
   "execution_count": 6,
   "metadata": {},
   "outputs": [],
   "source": [
    "replacer = lambda x : str(x).replace('변경후','').replace('변경후','').replace('등급등급','').replace('아웃룩아웃룩','아웃룩')\n",
    "bond_analyst['text'] = bond_analyst['text'].map(replacer)"
   ]
  },
  {
   "cell_type": "code",
   "execution_count": 7,
   "metadata": {},
   "outputs": [],
   "source": [
    "replacer = lambda x : str(x).replace('본 자료는 년월 일 당사 홈페이지에 게시된 자료입니다이 조사자료는 고객의 투자에 참고가 될 수 있는 각종 정보제공을 목적으로 제작되었습니다이 조사자료는 당사의 리서치센터가 신뢰할 수 있는 자료 및 정보로부터 얻어진 것이나당사가 그 정확성이나 완전성을 보장할 수 없으므로 투자자 자신의 판단과 책임하에 종목 선택이나 투자시기에 대한 최종 결정을 하시기 바랍니다따라서 이 조사자료는 어떠한 경우에도 고객의 증권투자 결과에 대한 법적 책임소재의 증빙자료로 사용될 수 없습니다이 조사자료의 지적재산권은 당사에 있으며 허락 없이 무단 복제 및 배포할 수 없습니다 ','')\n",
    "bond_analyst['text'] = bond_analyst['text'].map(replacer)"
   ]
  },
  {
   "cell_type": "code",
   "execution_count": 8,
   "metadata": {},
   "outputs": [],
   "source": [
    "replacer = lambda x : str(x).replace('대우증권 리서치센터','')\n",
    "bond_analyst['text'] = bond_analyst['text'].map(replacer)"
   ]
  },
  {
   "cell_type": "code",
   "execution_count": 9,
   "metadata": {},
   "outputs": [],
   "source": [
    "replacer = lambda x : str(x).replace('년월일년월일','년월일')\n",
    "bond_analyst['text'] = bond_analyst['text'].map(replacer)"
   ]
  },
  {
   "cell_type": "code",
   "execution_count": 10,
   "metadata": {},
   "outputs": [],
   "source": [
    "replacer = lambda x : str(x).replace('본 조사자료는 투자자들에게 도움이 될 만한 정보를 제공할 목적으로 작성되었으며당사의 사전 동의 없이 무단복제 및 배포할 수 없습니다 본 자료에 수록된 내용은 당사가 신뢰할 만한 자료 및 정보로 얻어진 것이나그 정확성이나 완전성을 보장할 수 없으므로 투자자 자신의 판단과 책임하에 최종결정을 하시기 바랍니다 본 자료는 어떠한 경우에도 고객의 투자의 결과에 대한 법적 책임소재의 증빙자료로 사용될 수 없습니다 ','')\n",
    "bond_analyst['text'] = bond_analyst['text'].map(replacer)"
   ]
  },
  {
   "cell_type": "code",
   "execution_count": 11,
   "metadata": {},
   "outputs": [],
   "source": [
    "replacer = lambda x : str(x).replace('이 조사자료는 고객의 투자에 참고가 될 수 있는 각종 정보제공을 목적으로 제작되었습니다이 조사자료는 당사의 리서치센터가 신뢰할 수 있는 자료 및 정보로부터 얻어진 것이나당사가 그 정확성이나 완전성을 보장할 수 없으므로 투자자 자신의 판단과 책임하에 종목 선택이나 투자시기에 대한 최종 결정을 하시기 바랍니다따라서 이 조사자료는 어떠한 경우에도 고객의 증권투자 결과에 대한 법적 책임소재의 증빙자료로 사용될 수 없습니다이 조사자료의 지적재산권은 당사에 있으므로 당사의 허락없이 무단 복제 및 배포 할 수 없습니다','')\n",
    "bond_analyst['text'] = bond_analyst['text'].map(replacer)"
   ]
  },
  {
   "cell_type": "code",
   "execution_count": 12,
   "metadata": {},
   "outputs": [],
   "source": [
    "replacer = lambda x : str(x).replace('당사리서치센터에서신뢰할만한자료및정보를바탕으로작성한것이나당사는그정확성이나완전성을보장할수없으며 과거의자료를기초로한투자참고자료로서향후주가움직임은과거의패턴과다를수있습니다 고객께서는자신의판단과책임하에종목선택이나투자시기에대해최종결정하시기바라며 본자료는어떠한경우에도고객의증권투자결과에대한법적책임소재의증빙자료로사용될수없습니다 동자료에게재된내용들은외부의압력이나부당한간섭없이본인의의견을정확하게반영하여작성되었음을확인합니다 동자료는기관투자가또는제 자에게사전제공한사실이없습니다 동자료는조사분석자료작성에참여한외부인 계열회사및그임직원등 이없습니다','')\n",
    "bond_analyst['text'] = bond_analyst['text'].map(replacer)"
   ]
  },
  {
   "cell_type": "code",
   "execution_count": 13,
   "metadata": {},
   "outputs": [],
   "source": [
    "replacer = lambda x : str(x).replace(' 년월 일','').replace('표','').replace('년','').replace('무단','').replace('복제','')\n",
    "bond_analyst['text'] = bond_analyst['text'].map(replacer)"
   ]
  },
  {
   "cell_type": "code",
   "execution_count": 14,
   "metadata": {},
   "outputs": [],
   "source": [
    "replacer = lambda x : str(x).replace('당사 홈페이지에 게시된 자료입니다','').replace('자료인포맥스','').replace('스프레드','').replace('월 일','')\n",
    "bond_analyst['text'] = bond_analyst['text'].map(replacer)"
   ]
  },
  {
   "cell_type": "code",
   "execution_count": 15,
   "metadata": {},
   "outputs": [],
   "source": [
    "replacer = lambda x : str(x).replace('발행기관발행기관','발행기관').replace('결정금리결정금리','결정금리').replace('만기만기','만기').replace('발행목적발행목적','발행목적').replace('회사채회사채','회사채')\n",
    "bond_analyst['text'] = bond_analyst['text'].map(replacer)"
   ]
  },
  {
   "cell_type": "code",
   "execution_count": 16,
   "metadata": {},
   "outputs": [],
   "source": [
    "replacer = lambda x : str(x).replace('그림','').replace('및','').replace('벤치마크벤치마크','벤치마크').replace('변화에변화에','변화에').replace('따른','')\n",
    "bond_analyst['text'] = bond_analyst['text'].map(replacer)"
   ]
  },
  {
   "cell_type": "code",
   "execution_count": 17,
   "metadata": {},
   "outputs": [],
   "source": [
    "replacer = lambda x : str(x).replace('분기부터분기부터','분기부터').replace('증가세증가세','증가세').replace('발행발행','발행').replace('금액금액','금액').replace('수요예측일수요예측일','수요예측일')\n",
    "bond_analyst['text'] = bond_analyst['text'].map(replacer)"
   ]
  },
  {
   "cell_type": "code",
   "execution_count": 18,
   "metadata": {},
   "outputs": [],
   "source": [
    "replacer = lambda x : str(x).replace('주간주간','주간').replace('크레딧크레딧','크레딧').replace('벤치마크벤치마크','벤치마크').replace('여전채여전채','여전채').replace('금융채금융채','금융채')\n",
    "bond_analyst['text'] = bond_analyst['text'].map(replacer)"
   ]
  },
  {
   "cell_type": "code",
   "execution_count": 19,
   "metadata": {},
   "outputs": [],
   "source": [
    "replacer = lambda x : str(x).replace('연구원','').replace('월월','').replace('초과초과','').replace('수요수요','').replace('미국미국','').replace('와와','')\n",
    "bond_analyst['text'] = bond_analyst['text'].map(replacer)"
   ]
  },
  {
   "cell_type": "code",
   "execution_count": 20,
   "metadata": {},
   "outputs": [
    {
     "data": {
      "text/plain": [
       "3063"
      ]
     },
     "execution_count": 20,
     "metadata": {},
     "output_type": "execute_result"
    }
   ],
   "source": [
    "bond_analyst = bond_analyst[bond_analyst['text'] != ' ']\n",
    "len(bond_analyst)"
   ]
  },
  {
   "cell_type": "code",
   "execution_count": 21,
   "metadata": {
    "scrolled": false
   },
   "outputs": [
    {
     "data": {
      "text/html": [
       "<div>\n",
       "<style scoped>\n",
       "    .dataframe tbody tr th:only-of-type {\n",
       "        vertical-align: middle;\n",
       "    }\n",
       "\n",
       "    .dataframe tbody tr th {\n",
       "        vertical-align: top;\n",
       "    }\n",
       "\n",
       "    .dataframe thead th {\n",
       "        text-align: right;\n",
       "    }\n",
       "</style>\n",
       "<table border=\"1\" class=\"dataframe\">\n",
       "  <thead>\n",
       "    <tr style=\"text-align: right;\">\n",
       "      <th></th>\n",
       "      <th>date</th>\n",
       "      <th>text</th>\n",
       "      <th>n_gram</th>\n",
       "    </tr>\n",
       "  </thead>\n",
       "  <tbody>\n",
       "    <tr>\n",
       "      <th>0</th>\n",
       "      <td>2008-05-22</td>\n",
       "      <td>윤일광 채권 시황전일 만기금리는 상승한 만기금리는 상승한 로마감정부와한은의각종발언...</td>\n",
       "      <td>0.0</td>\n",
       "    </tr>\n",
       "    <tr>\n",
       "      <th>1</th>\n",
       "      <td>2008-05-22</td>\n",
       "      <td>윤일광 채권 시황전일 만기금리는 하락한 만기금리는 하락한 로마감유가급등 환율소폭상...</td>\n",
       "      <td>0.0</td>\n",
       "    </tr>\n",
       "    <tr>\n",
       "      <th>2</th>\n",
       "      <td>2008-05-22</td>\n",
       "      <td>유가의 경제학 고유가 충격시 금리인하의 비용은 무엇인가지금인플레우려가커지고있다면 그...</td>\n",
       "      <td>0.0</td>\n",
       "    </tr>\n",
       "    <tr>\n",
       "      <th>3</th>\n",
       "      <td>2008-05-22</td>\n",
       "      <td>윤일광 채권 시황전일 만기금리는 상승한 만기금리는 상승한 로마감 장초반국고채금리는...</td>\n",
       "      <td>0.0</td>\n",
       "    </tr>\n",
       "    <tr>\n",
       "      <th>4</th>\n",
       "      <td>2008-05-22</td>\n",
       "      <td>윤일광 채권 시황전일 만기금리는 상승한 만기금리는 상승한 로마감장 초반 미 국채수...</td>\n",
       "      <td>0.0</td>\n",
       "    </tr>\n",
       "    <tr>\n",
       "      <th>...</th>\n",
       "      <td>...</td>\n",
       "      <td>...</td>\n",
       "      <td>...</td>\n",
       "    </tr>\n",
       "    <tr>\n",
       "      <th>3074</th>\n",
       "      <td>2008-05-22</td>\n",
       "      <td>박진영 속도 조절 중 발행시장올해 공모 회사채 발행 종료 이번달 회사채 발행을 계획...</td>\n",
       "      <td>0.0</td>\n",
       "    </tr>\n",
       "    <tr>\n",
       "      <th>3075</th>\n",
       "      <td>2008-05-22</td>\n",
       "      <td>김지만 월금통위의사록리뷰 확신 없는 인상의견도 있었음이 확인 금리인상에 반대한 조...</td>\n",
       "      <td>0.0</td>\n",
       "    </tr>\n",
       "    <tr>\n",
       "      <th>3076</th>\n",
       "      <td>2008-05-22</td>\n",
       "      <td>월일 금융권안심전환대출수급영향점검금융권안심전환대출월중출시예정 금융권주택담보대출약 ...</td>\n",
       "      <td>0.0</td>\n",
       "    </tr>\n",
       "    <tr>\n",
       "      <th>3077</th>\n",
       "      <td>2008-05-22</td>\n",
       "      <td>채권월 채권시장 전망 김지만월 동향 금리하락 이후 월 후반 상승반전 월 금통위 젂...</td>\n",
       "      <td>0.0</td>\n",
       "    </tr>\n",
       "    <tr>\n",
       "      <th>3078</th>\n",
       "      <td>2008-05-22</td>\n",
       "      <td>김상만 김준태본조사자료는고객의투자에정보를제공할목적으로 작성되었으며 어떠한경우에도배...</td>\n",
       "      <td>0.0</td>\n",
       "    </tr>\n",
       "  </tbody>\n",
       "</table>\n",
       "<p>3063 rows × 3 columns</p>\n",
       "</div>"
      ],
      "text/plain": [
       "            date                                               text  n_gram\n",
       "0     2008-05-22   윤일광 채권 시황전일 만기금리는 상승한 만기금리는 상승한 로마감정부와한은의각종발언...     0.0\n",
       "1     2008-05-22   윤일광 채권 시황전일 만기금리는 하락한 만기금리는 하락한 로마감유가급등 환율소폭상...     0.0\n",
       "2     2008-05-22  유가의 경제학 고유가 충격시 금리인하의 비용은 무엇인가지금인플레우려가커지고있다면 그...     0.0\n",
       "3     2008-05-22   윤일광 채권 시황전일 만기금리는 상승한 만기금리는 상승한 로마감 장초반국고채금리는...     0.0\n",
       "4     2008-05-22   윤일광 채권 시황전일 만기금리는 상승한 만기금리는 상승한 로마감장 초반 미 국채수...     0.0\n",
       "...          ...                                                ...     ...\n",
       "3074  2008-05-22  박진영 속도 조절 중 발행시장올해 공모 회사채 발행 종료 이번달 회사채 발행을 계획...     0.0\n",
       "3075  2008-05-22   김지만 월금통위의사록리뷰 확신 없는 인상의견도 있었음이 확인 금리인상에 반대한 조...     0.0\n",
       "3076  2008-05-22   월일 금융권안심전환대출수급영향점검금융권안심전환대출월중출시예정 금융권주택담보대출약 ...     0.0\n",
       "3077  2008-05-22   채권월 채권시장 전망 김지만월 동향 금리하락 이후 월 후반 상승반전 월 금통위 젂...     0.0\n",
       "3078  2008-05-22   김상만 김준태본조사자료는고객의투자에정보를제공할목적으로 작성되었으며 어떠한경우에도배...     0.0\n",
       "\n",
       "[3063 rows x 3 columns]"
      ]
     },
     "execution_count": 21,
     "metadata": {},
     "output_type": "execute_result"
    }
   ],
   "source": [
    "bond_analyst[\"n_gram\"] = np.zeros(len(bond_analyst))\n",
    "bond_analyst"
   ]
  },
  {
   "cell_type": "code",
   "execution_count": 22,
   "metadata": {},
   "outputs": [],
   "source": [
    "from tqdm.notebook import tqdm"
   ]
  },
  {
   "cell_type": "code",
   "execution_count": 23,
   "metadata": {},
   "outputs": [
    {
     "data": {
      "application/vnd.jupyter.widget-view+json": {
       "model_id": "ec69bee47b1f4daca9ccb7c839e7fc87",
       "version_major": 2,
       "version_minor": 0
      },
      "text/plain": [
       "HBox(children=(FloatProgress(value=0.0, max=3063.0), HTML(value='')))"
      ]
     },
     "metadata": {},
     "output_type": "display_data"
    },
    {
     "name": "stderr",
     "output_type": "stream",
     "text": [
      "C:\\Users\\student\\anaconda3\\envs\\mulcam\\lib\\site-packages\\pandas\\core\\indexing.py:671: SettingWithCopyWarning: \n",
      "A value is trying to be set on a copy of a slice from a DataFrame\n",
      "\n",
      "See the caveats in the documentation: https://pandas.pydata.org/pandas-docs/stable/user_guide/indexing.html#returning-a-view-versus-a-copy\n",
      "  self._setitem_with_indexer(indexer, value)\n"
     ]
    },
    {
     "name": "stdout",
     "output_type": "stream",
     "text": [
      "\n"
     ]
    },
    {
     "data": {
      "text/html": [
       "<div>\n",
       "<style scoped>\n",
       "    .dataframe tbody tr th:only-of-type {\n",
       "        vertical-align: middle;\n",
       "    }\n",
       "\n",
       "    .dataframe tbody tr th {\n",
       "        vertical-align: top;\n",
       "    }\n",
       "\n",
       "    .dataframe thead th {\n",
       "        text-align: right;\n",
       "    }\n",
       "</style>\n",
       "<table border=\"1\" class=\"dataframe\">\n",
       "  <thead>\n",
       "    <tr style=\"text-align: right;\">\n",
       "      <th></th>\n",
       "      <th>date</th>\n",
       "      <th>text</th>\n",
       "      <th>n_gram</th>\n",
       "    </tr>\n",
       "  </thead>\n",
       "  <tbody>\n",
       "    <tr>\n",
       "      <th>0</th>\n",
       "      <td>2008-05-22</td>\n",
       "      <td>윤일광 채권 시황전일 만기금리는 상승한 만기금리는 상승한 로마감정부와한은의각종발언...</td>\n",
       "      <td>[채권/NNG, 시황/NNG, 만기/NNG, 금리/NNG, 상승/NNG, 하/VV,...</td>\n",
       "    </tr>\n",
       "    <tr>\n",
       "      <th>1</th>\n",
       "      <td>2008-05-22</td>\n",
       "      <td>윤일광 채권 시황전일 만기금리는 하락한 만기금리는 하락한 로마감유가급등 환율소폭상...</td>\n",
       "      <td>[채권/NNG, 시황/NNG, 만기/NNG, 금리/NNG, 하락/NNG, 하/VV,...</td>\n",
       "    </tr>\n",
       "    <tr>\n",
       "      <th>2</th>\n",
       "      <td>2008-05-22</td>\n",
       "      <td>유가의 경제학 고유가 충격시 금리인하의 비용은 무엇인가지금인플레우려가커지고있다면 그...</td>\n",
       "      <td>[유가/NNG, 경제학/NNG, 고유가/NNG, 충격/NNG, 시/NNG, 금리/N...</td>\n",
       "    </tr>\n",
       "    <tr>\n",
       "      <th>3</th>\n",
       "      <td>2008-05-22</td>\n",
       "      <td>윤일광 채권 시황전일 만기금리는 상승한 만기금리는 상승한 로마감 장초반국고채금리는...</td>\n",
       "      <td>[채권/NNG, 시황/NNG, 만기/NNG, 금리/NNG, 상승/NNG, 하/VV,...</td>\n",
       "    </tr>\n",
       "    <tr>\n",
       "      <th>4</th>\n",
       "      <td>2008-05-22</td>\n",
       "      <td>윤일광 채권 시황전일 만기금리는 상승한 만기금리는 상승한 로마감장 초반 미 국채수...</td>\n",
       "      <td>[채권/NNG, 시황/NNG, 만기/NNG, 금리/NNG, 상승/NNG, 하/VV,...</td>\n",
       "    </tr>\n",
       "    <tr>\n",
       "      <th>...</th>\n",
       "      <td>...</td>\n",
       "      <td>...</td>\n",
       "      <td>...</td>\n",
       "    </tr>\n",
       "    <tr>\n",
       "      <th>3074</th>\n",
       "      <td>2008-05-22</td>\n",
       "      <td>박진영 속도 조절 중 발행시장올해 공모 회사채 발행 종료 이번달 회사채 발행을 계획...</td>\n",
       "      <td>[속도조절/NNG, 중/NNG, 발행시장/NNG, 공모/NNG, 회사채/NNG, 발...</td>\n",
       "    </tr>\n",
       "    <tr>\n",
       "      <th>3075</th>\n",
       "      <td>2008-05-22</td>\n",
       "      <td>김지만 월금통위의사록리뷰 확신 없는 인상의견도 있었음이 확인 금리인상에 반대한 조...</td>\n",
       "      <td>[월금/NNG, 통/NNG, 위/NNG, 의사록/NNG, 확신/NNG, 없/VA, ...</td>\n",
       "    </tr>\n",
       "    <tr>\n",
       "      <th>3076</th>\n",
       "      <td>2008-05-22</td>\n",
       "      <td>월일 금융권안심전환대출수급영향점검금융권안심전환대출월중출시예정 금융권주택담보대출약 ...</td>\n",
       "      <td>[월일/NNG, 금융/NNG, 수급/NNG, 영향/NNG, 점검/NNG, 금융/NN...</td>\n",
       "    </tr>\n",
       "    <tr>\n",
       "      <th>3077</th>\n",
       "      <td>2008-05-22</td>\n",
       "      <td>채권월 채권시장 전망 김지만월 동향 금리하락 이후 월 후반 상승반전 월 금통위 젂...</td>\n",
       "      <td>[채권/NNG, 채권시장/NNG, 전망/NNG, 동향/NNG, 금리/NNG, 하락/...</td>\n",
       "    </tr>\n",
       "    <tr>\n",
       "      <th>3078</th>\n",
       "      <td>2008-05-22</td>\n",
       "      <td>김상만 김준태본조사자료는고객의투자에정보를제공할목적으로 작성되었으며 어떠한경우에도배...</td>\n",
       "      <td>[보/VV, 조사/NNG, 자료/NNG, 고객/NNG, 투자/NNG, 제공/NNG,...</td>\n",
       "    </tr>\n",
       "  </tbody>\n",
       "</table>\n",
       "<p>3063 rows × 3 columns</p>\n",
       "</div>"
      ],
      "text/plain": [
       "            date                                               text  \\\n",
       "0     2008-05-22   윤일광 채권 시황전일 만기금리는 상승한 만기금리는 상승한 로마감정부와한은의각종발언...   \n",
       "1     2008-05-22   윤일광 채권 시황전일 만기금리는 하락한 만기금리는 하락한 로마감유가급등 환율소폭상...   \n",
       "2     2008-05-22  유가의 경제학 고유가 충격시 금리인하의 비용은 무엇인가지금인플레우려가커지고있다면 그...   \n",
       "3     2008-05-22   윤일광 채권 시황전일 만기금리는 상승한 만기금리는 상승한 로마감 장초반국고채금리는...   \n",
       "4     2008-05-22   윤일광 채권 시황전일 만기금리는 상승한 만기금리는 상승한 로마감장 초반 미 국채수...   \n",
       "...          ...                                                ...   \n",
       "3074  2008-05-22  박진영 속도 조절 중 발행시장올해 공모 회사채 발행 종료 이번달 회사채 발행을 계획...   \n",
       "3075  2008-05-22   김지만 월금통위의사록리뷰 확신 없는 인상의견도 있었음이 확인 금리인상에 반대한 조...   \n",
       "3076  2008-05-22   월일 금융권안심전환대출수급영향점검금융권안심전환대출월중출시예정 금융권주택담보대출약 ...   \n",
       "3077  2008-05-22   채권월 채권시장 전망 김지만월 동향 금리하락 이후 월 후반 상승반전 월 금통위 젂...   \n",
       "3078  2008-05-22   김상만 김준태본조사자료는고객의투자에정보를제공할목적으로 작성되었으며 어떠한경우에도배...   \n",
       "\n",
       "                                                 n_gram  \n",
       "0     [채권/NNG, 시황/NNG, 만기/NNG, 금리/NNG, 상승/NNG, 하/VV,...  \n",
       "1     [채권/NNG, 시황/NNG, 만기/NNG, 금리/NNG, 하락/NNG, 하/VV,...  \n",
       "2     [유가/NNG, 경제학/NNG, 고유가/NNG, 충격/NNG, 시/NNG, 금리/N...  \n",
       "3     [채권/NNG, 시황/NNG, 만기/NNG, 금리/NNG, 상승/NNG, 하/VV,...  \n",
       "4     [채권/NNG, 시황/NNG, 만기/NNG, 금리/NNG, 상승/NNG, 하/VV,...  \n",
       "...                                                 ...  \n",
       "3074  [속도조절/NNG, 중/NNG, 발행시장/NNG, 공모/NNG, 회사채/NNG, 발...  \n",
       "3075  [월금/NNG, 통/NNG, 위/NNG, 의사록/NNG, 확신/NNG, 없/VA, ...  \n",
       "3076  [월일/NNG, 금융/NNG, 수급/NNG, 영향/NNG, 점검/NNG, 금융/NN...  \n",
       "3077  [채권/NNG, 채권시장/NNG, 전망/NNG, 동향/NNG, 금리/NNG, 하락/...  \n",
       "3078  [보/VV, 조사/NNG, 자료/NNG, 고객/NNG, 투자/NNG, 제공/NNG,...  \n",
       "\n",
       "[3063 rows x 3 columns]"
      ]
     },
     "execution_count": 23,
     "metadata": {},
     "output_type": "execute_result"
    }
   ],
   "source": [
    "from ekonlpy.sentiment import MPCK\n",
    "mpck = MPCK()\n",
    "\n",
    "for i in tqdm(range(len(bond_analyst))):\n",
    "    tokens = mpck.tokenize(bond_analyst['text'].iloc[i])\n",
    "    ngrams = mpck.ngramize(tokens)\n",
    "    bond_analyst['n_gram'].iloc[i] =  tokens + ngrams\n",
    "# bond_analyst"
   ]
  },
  {
   "cell_type": "code",
   "execution_count": 21,
   "metadata": {},
   "outputs": [
    {
     "ename": "KeyError",
     "evalue": "'n_gram'",
     "output_type": "error",
     "traceback": [
      "\u001b[1;31m---------------------------------------------------------------------------\u001b[0m",
      "\u001b[1;31mKeyError\u001b[0m                                  Traceback (most recent call last)",
      "\u001b[1;32m~\\anaconda3\\envs\\mulcam\\lib\\site-packages\\pandas\\core\\indexes\\base.py\u001b[0m in \u001b[0;36mget_loc\u001b[1;34m(self, key, method, tolerance)\u001b[0m\n\u001b[0;32m   2645\u001b[0m             \u001b[1;32mtry\u001b[0m\u001b[1;33m:\u001b[0m\u001b[1;33m\u001b[0m\u001b[1;33m\u001b[0m\u001b[0m\n\u001b[1;32m-> 2646\u001b[1;33m                 \u001b[1;32mreturn\u001b[0m \u001b[0mself\u001b[0m\u001b[1;33m.\u001b[0m\u001b[0m_engine\u001b[0m\u001b[1;33m.\u001b[0m\u001b[0mget_loc\u001b[0m\u001b[1;33m(\u001b[0m\u001b[0mkey\u001b[0m\u001b[1;33m)\u001b[0m\u001b[1;33m\u001b[0m\u001b[1;33m\u001b[0m\u001b[0m\n\u001b[0m\u001b[0;32m   2647\u001b[0m             \u001b[1;32mexcept\u001b[0m \u001b[0mKeyError\u001b[0m\u001b[1;33m:\u001b[0m\u001b[1;33m\u001b[0m\u001b[1;33m\u001b[0m\u001b[0m\n",
      "\u001b[1;32mpandas\\_libs\\index.pyx\u001b[0m in \u001b[0;36mpandas._libs.index.IndexEngine.get_loc\u001b[1;34m()\u001b[0m\n",
      "\u001b[1;32mpandas\\_libs\\index.pyx\u001b[0m in \u001b[0;36mpandas._libs.index.IndexEngine.get_loc\u001b[1;34m()\u001b[0m\n",
      "\u001b[1;32mpandas\\_libs\\hashtable_class_helper.pxi\u001b[0m in \u001b[0;36mpandas._libs.hashtable.PyObjectHashTable.get_item\u001b[1;34m()\u001b[0m\n",
      "\u001b[1;32mpandas\\_libs\\hashtable_class_helper.pxi\u001b[0m in \u001b[0;36mpandas._libs.hashtable.PyObjectHashTable.get_item\u001b[1;34m()\u001b[0m\n",
      "\u001b[1;31mKeyError\u001b[0m: 'n_gram'",
      "\nDuring handling of the above exception, another exception occurred:\n",
      "\u001b[1;31mKeyError\u001b[0m                                  Traceback (most recent call last)",
      "\u001b[1;32m<ipython-input-21-d1e7165d7843>\u001b[0m in \u001b[0;36m<module>\u001b[1;34m\u001b[0m\n\u001b[1;32m----> 1\u001b[1;33m \u001b[0mbond_analyst\u001b[0m\u001b[1;33m[\u001b[0m\u001b[1;34m'n_gram'\u001b[0m\u001b[1;33m]\u001b[0m\u001b[1;33m.\u001b[0m\u001b[0miloc\u001b[0m\u001b[1;33m[\u001b[0m\u001b[1;36m1005\u001b[0m\u001b[1;33m]\u001b[0m\u001b[1;33m\u001b[0m\u001b[1;33m\u001b[0m\u001b[0m\n\u001b[0m",
      "\u001b[1;32m~\\anaconda3\\envs\\mulcam\\lib\\site-packages\\pandas\\core\\frame.py\u001b[0m in \u001b[0;36m__getitem__\u001b[1;34m(self, key)\u001b[0m\n\u001b[0;32m   2798\u001b[0m             \u001b[1;32mif\u001b[0m \u001b[0mself\u001b[0m\u001b[1;33m.\u001b[0m\u001b[0mcolumns\u001b[0m\u001b[1;33m.\u001b[0m\u001b[0mnlevels\u001b[0m \u001b[1;33m>\u001b[0m \u001b[1;36m1\u001b[0m\u001b[1;33m:\u001b[0m\u001b[1;33m\u001b[0m\u001b[1;33m\u001b[0m\u001b[0m\n\u001b[0;32m   2799\u001b[0m                 \u001b[1;32mreturn\u001b[0m \u001b[0mself\u001b[0m\u001b[1;33m.\u001b[0m\u001b[0m_getitem_multilevel\u001b[0m\u001b[1;33m(\u001b[0m\u001b[0mkey\u001b[0m\u001b[1;33m)\u001b[0m\u001b[1;33m\u001b[0m\u001b[1;33m\u001b[0m\u001b[0m\n\u001b[1;32m-> 2800\u001b[1;33m             \u001b[0mindexer\u001b[0m \u001b[1;33m=\u001b[0m \u001b[0mself\u001b[0m\u001b[1;33m.\u001b[0m\u001b[0mcolumns\u001b[0m\u001b[1;33m.\u001b[0m\u001b[0mget_loc\u001b[0m\u001b[1;33m(\u001b[0m\u001b[0mkey\u001b[0m\u001b[1;33m)\u001b[0m\u001b[1;33m\u001b[0m\u001b[1;33m\u001b[0m\u001b[0m\n\u001b[0m\u001b[0;32m   2801\u001b[0m             \u001b[1;32mif\u001b[0m \u001b[0mis_integer\u001b[0m\u001b[1;33m(\u001b[0m\u001b[0mindexer\u001b[0m\u001b[1;33m)\u001b[0m\u001b[1;33m:\u001b[0m\u001b[1;33m\u001b[0m\u001b[1;33m\u001b[0m\u001b[0m\n\u001b[0;32m   2802\u001b[0m                 \u001b[0mindexer\u001b[0m \u001b[1;33m=\u001b[0m \u001b[1;33m[\u001b[0m\u001b[0mindexer\u001b[0m\u001b[1;33m]\u001b[0m\u001b[1;33m\u001b[0m\u001b[1;33m\u001b[0m\u001b[0m\n",
      "\u001b[1;32m~\\anaconda3\\envs\\mulcam\\lib\\site-packages\\pandas\\core\\indexes\\base.py\u001b[0m in \u001b[0;36mget_loc\u001b[1;34m(self, key, method, tolerance)\u001b[0m\n\u001b[0;32m   2646\u001b[0m                 \u001b[1;32mreturn\u001b[0m \u001b[0mself\u001b[0m\u001b[1;33m.\u001b[0m\u001b[0m_engine\u001b[0m\u001b[1;33m.\u001b[0m\u001b[0mget_loc\u001b[0m\u001b[1;33m(\u001b[0m\u001b[0mkey\u001b[0m\u001b[1;33m)\u001b[0m\u001b[1;33m\u001b[0m\u001b[1;33m\u001b[0m\u001b[0m\n\u001b[0;32m   2647\u001b[0m             \u001b[1;32mexcept\u001b[0m \u001b[0mKeyError\u001b[0m\u001b[1;33m:\u001b[0m\u001b[1;33m\u001b[0m\u001b[1;33m\u001b[0m\u001b[0m\n\u001b[1;32m-> 2648\u001b[1;33m                 \u001b[1;32mreturn\u001b[0m \u001b[0mself\u001b[0m\u001b[1;33m.\u001b[0m\u001b[0m_engine\u001b[0m\u001b[1;33m.\u001b[0m\u001b[0mget_loc\u001b[0m\u001b[1;33m(\u001b[0m\u001b[0mself\u001b[0m\u001b[1;33m.\u001b[0m\u001b[0m_maybe_cast_indexer\u001b[0m\u001b[1;33m(\u001b[0m\u001b[0mkey\u001b[0m\u001b[1;33m)\u001b[0m\u001b[1;33m)\u001b[0m\u001b[1;33m\u001b[0m\u001b[1;33m\u001b[0m\u001b[0m\n\u001b[0m\u001b[0;32m   2649\u001b[0m         \u001b[0mindexer\u001b[0m \u001b[1;33m=\u001b[0m \u001b[0mself\u001b[0m\u001b[1;33m.\u001b[0m\u001b[0mget_indexer\u001b[0m\u001b[1;33m(\u001b[0m\u001b[1;33m[\u001b[0m\u001b[0mkey\u001b[0m\u001b[1;33m]\u001b[0m\u001b[1;33m,\u001b[0m \u001b[0mmethod\u001b[0m\u001b[1;33m=\u001b[0m\u001b[0mmethod\u001b[0m\u001b[1;33m,\u001b[0m \u001b[0mtolerance\u001b[0m\u001b[1;33m=\u001b[0m\u001b[0mtolerance\u001b[0m\u001b[1;33m)\u001b[0m\u001b[1;33m\u001b[0m\u001b[1;33m\u001b[0m\u001b[0m\n\u001b[0;32m   2650\u001b[0m         \u001b[1;32mif\u001b[0m \u001b[0mindexer\u001b[0m\u001b[1;33m.\u001b[0m\u001b[0mndim\u001b[0m \u001b[1;33m>\u001b[0m \u001b[1;36m1\u001b[0m \u001b[1;32mor\u001b[0m \u001b[0mindexer\u001b[0m\u001b[1;33m.\u001b[0m\u001b[0msize\u001b[0m \u001b[1;33m>\u001b[0m \u001b[1;36m1\u001b[0m\u001b[1;33m:\u001b[0m\u001b[1;33m\u001b[0m\u001b[1;33m\u001b[0m\u001b[0m\n",
      "\u001b[1;32mpandas\\_libs\\index.pyx\u001b[0m in \u001b[0;36mpandas._libs.index.IndexEngine.get_loc\u001b[1;34m()\u001b[0m\n",
      "\u001b[1;32mpandas\\_libs\\index.pyx\u001b[0m in \u001b[0;36mpandas._libs.index.IndexEngine.get_loc\u001b[1;34m()\u001b[0m\n",
      "\u001b[1;32mpandas\\_libs\\hashtable_class_helper.pxi\u001b[0m in \u001b[0;36mpandas._libs.hashtable.PyObjectHashTable.get_item\u001b[1;34m()\u001b[0m\n",
      "\u001b[1;32mpandas\\_libs\\hashtable_class_helper.pxi\u001b[0m in \u001b[0;36mpandas._libs.hashtable.PyObjectHashTable.get_item\u001b[1;34m()\u001b[0m\n",
      "\u001b[1;31mKeyError\u001b[0m: 'n_gram'"
     ]
    }
   ],
   "source": [
    "bond_analyst.pd.to_csv('ngramized_bond_analyst.csv',index=False)"
   ]
  },
  {
   "cell_type": "code",
   "execution_count": null,
   "metadata": {},
   "outputs": [],
   "source": []
  },
  {
   "cell_type": "code",
   "execution_count": null,
   "metadata": {},
   "outputs": [],
   "source": []
  }
 ],
 "metadata": {
  "kernelspec": {
   "display_name": "Python 3",
   "language": "python",
   "name": "python3"
  },
  "language_info": {
   "codemirror_mode": {
    "name": "ipython",
    "version": 3
   },
   "file_extension": ".py",
   "mimetype": "text/x-python",
   "name": "python",
   "nbconvert_exporter": "python",
   "pygments_lexer": "ipython3",
   "version": "3.7.7"
  }
 },
 "nbformat": 4,
 "nbformat_minor": 4
}
